{
 "cells": [
  {
   "cell_type": "code",
   "execution_count": 1,
   "id": "4d7eabfd",
   "metadata": {},
   "outputs": [],
   "source": [
    "import pandas as pd\n",
    "import xlwings as xw"
   ]
  },
  {
   "cell_type": "markdown",
   "id": "91106f23",
   "metadata": {},
   "source": [
    "# AGE"
   ]
  },
  {
   "cell_type": "code",
   "execution_count": 2,
   "id": "0eb33979",
   "metadata": {},
   "outputs": [],
   "source": [
    "tt_age=pd.read_excel(\"/Users/clee/Dropbox/Aim 1/Analysis/Ranking/2015-16/total_ghg/by demo/Analysis_fdcodes-fdlvl3_ghgcons_by age.xlsx\")"
   ]
  },
  {
   "cell_type": "code",
   "execution_count": 3,
   "id": "45fea4e3",
   "metadata": {},
   "outputs": [
    {
     "data": {
      "text/plain": [
       "(8911, 7)"
      ]
     },
     "execution_count": 3,
     "metadata": {},
     "output_type": "execute_result"
    }
   ],
   "source": [
    "tt_age.shape"
   ]
  },
  {
   "cell_type": "code",
   "execution_count": 4,
   "id": "40c134be",
   "metadata": {},
   "outputs": [
    {
     "data": {
      "text/html": [
       "<div>\n",
       "<style scoped>\n",
       "    .dataframe tbody tr th:only-of-type {\n",
       "        vertical-align: middle;\n",
       "    }\n",
       "\n",
       "    .dataframe tbody tr th {\n",
       "        vertical-align: top;\n",
       "    }\n",
       "\n",
       "    .dataframe thead th {\n",
       "        text-align: right;\n",
       "    }\n",
       "</style>\n",
       "<table border=\"1\" class=\"dataframe\">\n",
       "  <thead>\n",
       "    <tr style=\"text-align: right;\">\n",
       "      <th></th>\n",
       "      <th>tb_ageCat</th>\n",
       "      <th>tb_ageCatstr</th>\n",
       "      <th>foodcat_lvl1</th>\n",
       "      <th>category_description</th>\n",
       "      <th>food_code</th>\n",
       "      <th>drxfcsd</th>\n",
       "      <th>total_ghgcons</th>\n",
       "    </tr>\n",
       "  </thead>\n",
       "  <tbody>\n",
       "    <tr>\n",
       "      <th>0</th>\n",
       "      <td>2-17</td>\n",
       "      <td>1</td>\n",
       "      <td>Milk and Dairy</td>\n",
       "      <td>Milk, reduced fat</td>\n",
       "      <td>11112110</td>\n",
       "      <td>MILK, REDUCED FAT (2%)</td>\n",
       "      <td>8.145810e+06</td>\n",
       "    </tr>\n",
       "    <tr>\n",
       "      <th>1</th>\n",
       "      <td>2-17</td>\n",
       "      <td>1</td>\n",
       "      <td>Milk and Dairy</td>\n",
       "      <td>Milk, whole</td>\n",
       "      <td>11111000</td>\n",
       "      <td>MILK, WHOLE</td>\n",
       "      <td>5.477086e+06</td>\n",
       "    </tr>\n",
       "    <tr>\n",
       "      <th>2</th>\n",
       "      <td>2-17</td>\n",
       "      <td>1</td>\n",
       "      <td>Mixed Dishes</td>\n",
       "      <td>Burritos and tacos</td>\n",
       "      <td>58101345</td>\n",
       "      <td>SOFT TACO WITH MEAT</td>\n",
       "      <td>5.379667e+06</td>\n",
       "    </tr>\n",
       "    <tr>\n",
       "      <th>3</th>\n",
       "      <td>2-17</td>\n",
       "      <td>1</td>\n",
       "      <td>Protein Foods</td>\n",
       "      <td>Beef, excludes ground</td>\n",
       "      <td>21101130</td>\n",
       "      <td>BEEF STEAK, BROILED OR BAKED, LEAN ONLY EATEN</td>\n",
       "      <td>4.547247e+06</td>\n",
       "    </tr>\n",
       "    <tr>\n",
       "      <th>4</th>\n",
       "      <td>2-17</td>\n",
       "      <td>1</td>\n",
       "      <td>Mixed Dishes</td>\n",
       "      <td>Pasta mixed dishes, excludes macaroni and cheese</td>\n",
       "      <td>58146322</td>\n",
       "      <td>PASTA WITH TOMATO-BASED SAUCE AND MEAT, HOME R...</td>\n",
       "      <td>3.659744e+06</td>\n",
       "    </tr>\n",
       "  </tbody>\n",
       "</table>\n",
       "</div>"
      ],
      "text/plain": [
       "  tb_ageCat  tb_ageCatstr    foodcat_lvl1  \\\n",
       "0      2-17             1  Milk and Dairy   \n",
       "1      2-17             1  Milk and Dairy   \n",
       "2      2-17             1    Mixed Dishes   \n",
       "3      2-17             1   Protein Foods   \n",
       "4      2-17             1    Mixed Dishes   \n",
       "\n",
       "                               category_description  food_code  \\\n",
       "0                                 Milk, reduced fat   11112110   \n",
       "1                                       Milk, whole   11111000   \n",
       "2                                Burritos and tacos   58101345   \n",
       "3                             Beef, excludes ground   21101130   \n",
       "4  Pasta mixed dishes, excludes macaroni and cheese   58146322   \n",
       "\n",
       "                                             drxfcsd  total_ghgcons  \n",
       "0                             MILK, REDUCED FAT (2%)   8.145810e+06  \n",
       "1                                        MILK, WHOLE   5.477086e+06  \n",
       "2                                SOFT TACO WITH MEAT   5.379667e+06  \n",
       "3      BEEF STEAK, BROILED OR BAKED, LEAN ONLY EATEN   4.547247e+06  \n",
       "4  PASTA WITH TOMATO-BASED SAUCE AND MEAT, HOME R...   3.659744e+06  "
      ]
     },
     "execution_count": 4,
     "metadata": {},
     "output_type": "execute_result"
    }
   ],
   "source": [
    "tt_age.head()"
   ]
  },
  {
   "cell_type": "code",
   "execution_count": 5,
   "id": "663fe317",
   "metadata": {},
   "outputs": [],
   "source": [
    "tt_age = tt_age.sort_values(['total_ghgcons'],ascending=[False])"
   ]
  },
  {
   "cell_type": "code",
   "execution_count": 6,
   "id": "e4716987",
   "metadata": {},
   "outputs": [
    {
     "data": {
      "text/html": [
       "<div>\n",
       "<style scoped>\n",
       "    .dataframe tbody tr th:only-of-type {\n",
       "        vertical-align: middle;\n",
       "    }\n",
       "\n",
       "    .dataframe tbody tr th {\n",
       "        vertical-align: top;\n",
       "    }\n",
       "\n",
       "    .dataframe thead th {\n",
       "        text-align: right;\n",
       "    }\n",
       "</style>\n",
       "<table border=\"1\" class=\"dataframe\">\n",
       "  <thead>\n",
       "    <tr style=\"text-align: right;\">\n",
       "      <th></th>\n",
       "      <th>tb_ageCat</th>\n",
       "      <th>tb_ageCatstr</th>\n",
       "      <th>foodcat_lvl1</th>\n",
       "      <th>category_description</th>\n",
       "      <th>food_code</th>\n",
       "      <th>drxfcsd</th>\n",
       "      <th>total_ghgcons</th>\n",
       "    </tr>\n",
       "  </thead>\n",
       "  <tbody>\n",
       "    <tr>\n",
       "      <th>6926</th>\n",
       "      <td>40-59</td>\n",
       "      <td>6</td>\n",
       "      <td>Snacks and Sweets</td>\n",
       "      <td>Candy not containing chocolate</td>\n",
       "      <td>91770020</td>\n",
       "      <td>DIETETIC OR LOW CALORIE HARD CANDY</td>\n",
       "      <td>0.0</td>\n",
       "    </tr>\n",
       "    <tr>\n",
       "      <th>6925</th>\n",
       "      <td>40-59</td>\n",
       "      <td>6</td>\n",
       "      <td>Mixed Dishes</td>\n",
       "      <td>Burritos and tacos</td>\n",
       "      <td>58101325</td>\n",
       "      <td>TACO OR TOSTADA WITH MEAT AND SOUR CREAM</td>\n",
       "      <td>0.0</td>\n",
       "    </tr>\n",
       "    <tr>\n",
       "      <th>6924</th>\n",
       "      <td>40-59</td>\n",
       "      <td>6</td>\n",
       "      <td>Snacks and Sweets</td>\n",
       "      <td>Popcorn</td>\n",
       "      <td>54403092</td>\n",
       "      <td>POPCORN, READY-TO-EAT PACKAGED, OTHER FLAVORED</td>\n",
       "      <td>0.0</td>\n",
       "    </tr>\n",
       "    <tr>\n",
       "      <th>6923</th>\n",
       "      <td>40-59</td>\n",
       "      <td>6</td>\n",
       "      <td>Mixed Dishes</td>\n",
       "      <td>Egg/breakfast sandwiches (single code)</td>\n",
       "      <td>32202035</td>\n",
       "      <td>EGG, EXTRA CHEESE, AND EXTRA SAUSAGE, ON BUN</td>\n",
       "      <td>0.0</td>\n",
       "    </tr>\n",
       "    <tr>\n",
       "      <th>8910</th>\n",
       "      <td>60 and over</td>\n",
       "      <td>8</td>\n",
       "      <td>Mixed Dishes</td>\n",
       "      <td>Burritos and tacos</td>\n",
       "      <td>58101325</td>\n",
       "      <td>TACO OR TOSTADA WITH MEAT AND SOUR CREAM</td>\n",
       "      <td>0.0</td>\n",
       "    </tr>\n",
       "  </tbody>\n",
       "</table>\n",
       "</div>"
      ],
      "text/plain": [
       "        tb_ageCat  tb_ageCatstr       foodcat_lvl1  \\\n",
       "6926        40-59             6  Snacks and Sweets   \n",
       "6925        40-59             6       Mixed Dishes   \n",
       "6924        40-59             6  Snacks and Sweets   \n",
       "6923        40-59             6       Mixed Dishes   \n",
       "8910  60 and over             8       Mixed Dishes   \n",
       "\n",
       "                        category_description  food_code  \\\n",
       "6926          Candy not containing chocolate   91770020   \n",
       "6925                      Burritos and tacos   58101325   \n",
       "6924                                 Popcorn   54403092   \n",
       "6923  Egg/breakfast sandwiches (single code)   32202035   \n",
       "8910                      Burritos and tacos   58101325   \n",
       "\n",
       "                                             drxfcsd  total_ghgcons  \n",
       "6926              DIETETIC OR LOW CALORIE HARD CANDY            0.0  \n",
       "6925        TACO OR TOSTADA WITH MEAT AND SOUR CREAM            0.0  \n",
       "6924  POPCORN, READY-TO-EAT PACKAGED, OTHER FLAVORED            0.0  \n",
       "6923    EGG, EXTRA CHEESE, AND EXTRA SAUSAGE, ON BUN            0.0  \n",
       "8910        TACO OR TOSTADA WITH MEAT AND SOUR CREAM            0.0  "
      ]
     },
     "execution_count": 6,
     "metadata": {},
     "output_type": "execute_result"
    }
   ],
   "source": [
    "tt_age.tail()"
   ]
  },
  {
   "cell_type": "code",
   "execution_count": 7,
   "id": "60046ba8",
   "metadata": {},
   "outputs": [
    {
     "data": {
      "text/plain": [
       "array(['Protein Foods', 'Milk and Dairy', 'Mixed Dishes',\n",
       "       'Beverages, Nonalcoholic', 'Snacks and Sweets'], dtype=object)"
      ]
     },
     "execution_count": 7,
     "metadata": {},
     "output_type": "execute_result"
    }
   ],
   "source": [
    "tt_age.foodcat_lvl1.unique()"
   ]
  },
  {
   "cell_type": "markdown",
   "id": "e2e91508",
   "metadata": {},
   "source": [
    "## Protein"
   ]
  },
  {
   "cell_type": "code",
   "execution_count": 8,
   "id": "93a95143",
   "metadata": {},
   "outputs": [],
   "source": [
    "ptage2 = (tt_age.loc[(tt_age['tb_ageCatstr']==1)&(tt_age['foodcat_lvl1']==\"Protein Foods\")]).loc[:,('drxfcsd')]\n",
    "ptage18 = (tt_age.loc[(tt_age['tb_ageCatstr']==4)&(tt_age['foodcat_lvl1']==\"Protein Foods\")]).loc[:,('drxfcsd')]\n",
    "ptage26 = (tt_age.loc[(tt_age['tb_ageCatstr']==5)&(tt_age['foodcat_lvl1']==\"Protein Foods\")]).loc[:,('drxfcsd')]\n",
    "ptage40 = (tt_age.loc[(tt_age['tb_ageCatstr']==6)&(tt_age['foodcat_lvl1']==\"Protein Foods\")]).loc[:,('drxfcsd')]\n",
    "ptage60 = (tt_age.loc[(tt_age['tb_ageCatstr']==8)&(tt_age['foodcat_lvl1']==\"Protein Foods\")]).loc[:,('drxfcsd')]"
   ]
  },
  {
   "cell_type": "code",
   "execution_count": 9,
   "id": "ac9a6205",
   "metadata": {},
   "outputs": [
    {
     "data": {
      "text/plain": [
       "3           BEEF STEAK, BROILED OR BAKED, LEAN ONLY EATEN\n",
       "9                 HAM, PREPACKAGED OR DELI, LUNCHEON MEAT\n",
       "10       BEEF STEAK, BROILED OR BAKED, LEAN AND FAT EATEN\n",
       "11                              GROUND BEEF PATTY, COOKED\n",
       "12                  BEEF STEAK, FRIED, LEAN AND FAT EATEN\n",
       "                              ...                        \n",
       "1928                           PEANUT BUTTER, REDUCED FAT\n",
       "1929              WHITE BEANS, DRY, COOKED, MADE WITH OIL\n",
       "1935    BEANS, CANNED, DRAINED, NS AS TO TYPE, FAT NOT...\n",
       "1938                                            HAZELNUTS\n",
       "1947                            PAPAD, GRILLED OR BROILED\n",
       "Name: drxfcsd, Length: 490, dtype: object"
      ]
     },
     "execution_count": 9,
     "metadata": {},
     "output_type": "execute_result"
    }
   ],
   "source": [
    "ptage2"
   ]
  },
  {
   "cell_type": "code",
   "execution_count": 10,
   "id": "ca6826f9",
   "metadata": {},
   "outputs": [],
   "source": [
    "app = xw.App()\n",
    "wb = xw.Book(\"/Users/clee/Dropbox/Aim 1/Writing/2015-16/FoodSubs.xlsx\")"
   ]
  },
  {
   "cell_type": "markdown",
   "id": "6b6c20ff",
   "metadata": {},
   "source": [
    "wb.sheets.add('Overall Mixed Dishes')\n",
    "wb.sheets.add('Overall Milk and Dairy')\n",
    "wb.sheets.add('Overall Snacks and Sweets')\n",
    "wb.sheets.add('Overall Beverages NA')"
   ]
  },
  {
   "cell_type": "code",
   "execution_count": 11,
   "id": "6704a168",
   "metadata": {},
   "outputs": [],
   "source": [
    "ttpt = wb.sheets['Overall Protein']\n",
    "ttmd = wb.sheets['Overall Mixed Dishes']\n",
    "ttmk = wb.sheets['Overall Milk and Dairy']\n",
    "ttss = wb.sheets['Overall Snacks and Sweets']\n",
    "ttbv = wb.sheets['Overall Beverages NA']"
   ]
  },
  {
   "cell_type": "code",
   "execution_count": 12,
   "id": "a360f6bc",
   "metadata": {},
   "outputs": [],
   "source": [
    "#Write on a specific cell range with a specific range of DF\n",
    "ttpt.range('C4').options(index=False,header=False).value = ptage2.iloc[0:100]\n",
    "ttpt.range('D4').options(index=False,header=False).value = ptage18.iloc[0:100]\n",
    "ttpt.range('E4').options(index=False,header=False).value = ptage26.iloc[0:100]\n",
    "ttpt.range('F4').options(index=False,header=False).value = ptage40.iloc[0:100]\n",
    "ttpt.range('G4').options(index=False,header=False).value = ptage60.iloc[0:100]"
   ]
  },
  {
   "cell_type": "markdown",
   "id": "f8313c81",
   "metadata": {},
   "source": [
    "## Mixed Dishes"
   ]
  },
  {
   "cell_type": "code",
   "execution_count": 13,
   "id": "30527302",
   "metadata": {},
   "outputs": [],
   "source": [
    "mdage2 = (tt_age.loc[(tt_age['tb_ageCatstr']==1)&(tt_age['foodcat_lvl1']==\"Mixed Dishes\")]).loc[:,('drxfcsd')]\n",
    "mdage18 = (tt_age.loc[(tt_age['tb_ageCatstr']==4)&(tt_age['foodcat_lvl1']==\"Mixed Dishes\")]).loc[:,('drxfcsd')]\n",
    "mdage26 = (tt_age.loc[(tt_age['tb_ageCatstr']==5)&(tt_age['foodcat_lvl1']==\"Mixed Dishes\")]).loc[:,('drxfcsd')]\n",
    "mdage40 = (tt_age.loc[(tt_age['tb_ageCatstr']==6)&(tt_age['foodcat_lvl1']==\"Mixed Dishes\")]).loc[:,('drxfcsd')]\n",
    "mdage60 = (tt_age.loc[(tt_age['tb_ageCatstr']==8)&(tt_age['foodcat_lvl1']==\"Mixed Dishes\")]).loc[:,('drxfcsd')]"
   ]
  },
  {
   "cell_type": "code",
   "execution_count": 14,
   "id": "03f582ae",
   "metadata": {},
   "outputs": [
    {
     "data": {
      "text/plain": [
       "2                                     SOFT TACO WITH MEAT\n",
       "4       PASTA WITH TOMATO-BASED SAUCE AND MEAT, HOME R...\n",
       "5       PIZZA WITH PEPPERONI, FROM RESTAURANT OR FAST ...\n",
       "14         HAMBURGER, 1 MEDIUM PATTY, PLAIN, ON WHITE BUN\n",
       "15      CHEESEBURGER, 1 MEDIUM PATTY, PLAIN, ON WHITE BUN\n",
       "                              ...                        \n",
       "1896      TUNA NOODLE CASSEROLE WITH CREAM OR WHITE SAUCE\n",
       "1909                              FISH STOCK, HOME RECIPE\n",
       "1915    CHICKEN OR TURKEY SOUP, CREAM OF, NS AS TO PRE...\n",
       "1946                        ONION SOUP, MADE FROM DRY MIX\n",
       "1950             TACO OR TOSTADA WITH MEAT AND SOUR CREAM\n",
       "Name: drxfcsd, Length: 691, dtype: object"
      ]
     },
     "execution_count": 14,
     "metadata": {},
     "output_type": "execute_result"
    }
   ],
   "source": [
    "mdage2"
   ]
  },
  {
   "cell_type": "code",
   "execution_count": 15,
   "id": "901f63a4",
   "metadata": {},
   "outputs": [],
   "source": [
    "#Write on a specific cell range with a specific range of DF\n",
    "ttmd.range('C4').options(index=False,header=False).value = mdage2.iloc[0:100]\n",
    "ttmd.range('D4').options(index=False,header=False).value = mdage18.iloc[0:100]\n",
    "ttmd.range('E4').options(index=False,header=False).value = mdage26.iloc[0:100]\n",
    "ttmd.range('F4').options(index=False,header=False).value = mdage40.iloc[0:100]\n",
    "ttmd.range('G4').options(index=False,header=False).value = mdage60.iloc[0:100]"
   ]
  },
  {
   "cell_type": "code",
   "execution_count": null,
   "id": "20090ea1",
   "metadata": {},
   "outputs": [],
   "source": []
  },
  {
   "cell_type": "markdown",
   "id": "cc501472",
   "metadata": {},
   "source": [
    "## Milk & Dairy"
   ]
  },
  {
   "cell_type": "code",
   "execution_count": 16,
   "id": "9040e5e6",
   "metadata": {},
   "outputs": [],
   "source": [
    "mkage2 = (tt_age.loc[(tt_age['tb_ageCatstr']==1)&(tt_age['foodcat_lvl1']==\"Milk and Dairy\")]).loc[:,('drxfcsd')]\n",
    "mkage18 = (tt_age.loc[(tt_age['tb_ageCatstr']==4)&(tt_age['foodcat_lvl1']==\"Milk and Dairy\")]).loc[:,('drxfcsd')]\n",
    "mkage26 = (tt_age.loc[(tt_age['tb_ageCatstr']==5)&(tt_age['foodcat_lvl1']==\"Milk and Dairy\")]).loc[:,('drxfcsd')]\n",
    "mkage40 = (tt_age.loc[(tt_age['tb_ageCatstr']==6)&(tt_age['foodcat_lvl1']==\"Milk and Dairy\")]).loc[:,('drxfcsd')]\n",
    "mkage60 = (tt_age.loc[(tt_age['tb_ageCatstr']==8)&(tt_age['foodcat_lvl1']==\"Milk and Dairy\")]).loc[:,('drxfcsd')]"
   ]
  },
  {
   "cell_type": "code",
   "execution_count": 17,
   "id": "b91ccb52",
   "metadata": {},
   "outputs": [
    {
     "data": {
      "text/plain": [
       "0                          MILK, REDUCED FAT (2%)\n",
       "1                                     MILK, WHOLE\n",
       "6                              MILK, LOW FAT (1%)\n",
       "8                                CHEESE, AMERICAN\n",
       "13                                CHEESE, CHEDDAR\n",
       "                          ...                    \n",
       "1602                CHEESE, PROCESSED CHEESE FOOD\n",
       "1646           CHEESE, MEXICAN BLEND, REDUCED FAT\n",
       "1670                COCONUT MILK, USED IN COOKING\n",
       "1749    CHEESE, PARMESAN, DRY GRATED, REDUCED FAT\n",
       "1789                                  YOGURT, NFS\n",
       "Name: drxfcsd, Length: 137, dtype: object"
      ]
     },
     "execution_count": 17,
     "metadata": {},
     "output_type": "execute_result"
    }
   ],
   "source": [
    "mkage2"
   ]
  },
  {
   "cell_type": "code",
   "execution_count": 18,
   "id": "12ae8920",
   "metadata": {},
   "outputs": [],
   "source": [
    "#Write on a specific cell range with a specific range of DF\n",
    "ttmk.range('C4').options(index=False,header=False).value = mkage2.iloc[0:100]\n",
    "ttmk.range('D4').options(index=False,header=False).value = mkage18.iloc[0:100]\n",
    "ttmk.range('E4').options(index=False,header=False).value = mkage26.iloc[0:100]\n",
    "ttmk.range('F4').options(index=False,header=False).value = mkage40.iloc[0:100]\n",
    "ttmk.range('G4').options(index=False,header=False).value = mkage60.iloc[0:100]"
   ]
  },
  {
   "cell_type": "markdown",
   "id": "f4dbebe1",
   "metadata": {},
   "source": [
    "## Beverages NA"
   ]
  },
  {
   "cell_type": "code",
   "execution_count": 19,
   "id": "e57e7274",
   "metadata": {},
   "outputs": [],
   "source": [
    "bvage2 = (tt_age.loc[(tt_age['tb_ageCatstr']==1)&(tt_age['foodcat_lvl1']==\"Beverages, Nonalcoholic\")]).loc[:,('drxfcsd')]\n",
    "bvage18 = (tt_age.loc[(tt_age['tb_ageCatstr']==4)&(tt_age['foodcat_lvl1']==\"Beverages, Nonalcoholic\")]).loc[:,('drxfcsd')]\n",
    "bvage26 = (tt_age.loc[(tt_age['tb_ageCatstr']==5)&(tt_age['foodcat_lvl1']==\"Beverages, Nonalcoholic\")]).loc[:,('drxfcsd')]\n",
    "bvage40 = (tt_age.loc[(tt_age['tb_ageCatstr']==6)&(tt_age['foodcat_lvl1']==\"Beverages, Nonalcoholic\")]).loc[:,('drxfcsd')]\n",
    "bvage60 = (tt_age.loc[(tt_age['tb_ageCatstr']==8)&(tt_age['foodcat_lvl1']==\"Beverages, Nonalcoholic\")]).loc[:,('drxfcsd')]"
   ]
  },
  {
   "cell_type": "code",
   "execution_count": 20,
   "id": "478de06b",
   "metadata": {},
   "outputs": [
    {
     "data": {
      "text/plain": [
       "7                                       APPLE JUICE, 100%\n",
       "65                          FRUIT JUICE BLEND, 100% JUICE\n",
       "83      ORANGE JUICE, 100%, CANNED, BOTTLED OR IN A CA...\n",
       "116                 APPLE JUICE, 100%, WITH CALCIUM ADDED\n",
       "138                     CRANBERRY JUICE BLEND, 100% JUICE\n",
       "                              ...                        \n",
       "1939                                      CEREAL BEVERAGE\n",
       "1940    TEA, ICED, BREWED, GREEN, DECAFFEINATED, UNSWE...\n",
       "1941                                   TEA, HOT, HIBISCUS\n",
       "1943                                  TEA, HOT, CHAMOMILE\n",
       "1945                              FRUIT JUICE DRINK, DIET\n",
       "Name: drxfcsd, Length: 176, dtype: object"
      ]
     },
     "execution_count": 20,
     "metadata": {},
     "output_type": "execute_result"
    }
   ],
   "source": [
    "bvage2"
   ]
  },
  {
   "cell_type": "code",
   "execution_count": 21,
   "id": "41dc4a6d",
   "metadata": {},
   "outputs": [],
   "source": [
    "#Write on a specific cell range with a specific range of DF\n",
    "ttbv.range('C4').options(index=False,header=False).value = bvage2.iloc[0:100]\n",
    "ttbv.range('D4').options(index=False,header=False).value = bvage18.iloc[0:100]\n",
    "ttbv.range('E4').options(index=False,header=False).value = bvage26.iloc[0:100]\n",
    "ttbv.range('F4').options(index=False,header=False).value = bvage40.iloc[0:100]\n",
    "ttbv.range('G4').options(index=False,header=False).value = bvage60.iloc[0:100]"
   ]
  },
  {
   "cell_type": "markdown",
   "id": "112447f0",
   "metadata": {},
   "source": [
    "## Snacks & Sweets"
   ]
  },
  {
   "cell_type": "code",
   "execution_count": 22,
   "id": "8ba1a3f8",
   "metadata": {},
   "outputs": [],
   "source": [
    "ssage2 = (tt_age.loc[(tt_age['tb_ageCatstr']==1)&(tt_age['foodcat_lvl1']==\"Snacks and Sweets\")]).loc[:,('drxfcsd')]\n",
    "ssage18 = (tt_age.loc[(tt_age['tb_ageCatstr']==4)&(tt_age['foodcat_lvl1']==\"Snacks and Sweets\")]).loc[:,('drxfcsd')]\n",
    "ssage26 = (tt_age.loc[(tt_age['tb_ageCatstr']==5)&(tt_age['foodcat_lvl1']==\"Snacks and Sweets\")]).loc[:,('drxfcsd')]\n",
    "ssage40 = (tt_age.loc[(tt_age['tb_ageCatstr']==6)&(tt_age['foodcat_lvl1']==\"Snacks and Sweets\")]).loc[:,('drxfcsd')]\n",
    "ssage60 = (tt_age.loc[(tt_age['tb_ageCatstr']==8)&(tt_age['foodcat_lvl1']==\"Snacks and Sweets\")]).loc[:,('drxfcsd')]"
   ]
  },
  {
   "cell_type": "code",
   "execution_count": 23,
   "id": "2856abad",
   "metadata": {},
   "outputs": [
    {
     "data": {
      "text/plain": [
       "17       ICE CREAM, REGULAR, FLAVORS OTHER THAN CHOCOLATE\n",
       "97                                 COOKIE, CHOCOLATE CHIP\n",
       "98                          ICE CREAM, REGULAR, CHOCOLATE\n",
       "105     CAKE OR CUPCAKE, CHOCOLATE, DEVIL'S FOOD OR FU...\n",
       "137                  FRUIT LEATHER AND FRUIT SNACKS CANDY\n",
       "                              ...                        \n",
       "1936                           PRETZEL CHIPS, HARD, PLAIN\n",
       "1942                         POPCORN CHIPS, OTHER FLAVORS\n",
       "1944                       CRACKERS, SALTINE, REDUCED FAT\n",
       "1948       POPCORN, READY-TO-EAT PACKAGED, OTHER FLAVORED\n",
       "1949                   DIETETIC OR LOW CALORIE HARD CANDY\n",
       "Name: drxfcsd, Length: 457, dtype: object"
      ]
     },
     "execution_count": 23,
     "metadata": {},
     "output_type": "execute_result"
    }
   ],
   "source": [
    "ssage2"
   ]
  },
  {
   "cell_type": "code",
   "execution_count": 24,
   "id": "2a242baa",
   "metadata": {},
   "outputs": [],
   "source": [
    "#Write on a specific cell range with a specific range of DF\n",
    "ttss.range('C4').options(index=False,header=False).value = ssage2.iloc[0:100]\n",
    "ttss.range('D4').options(index=False,header=False).value = ssage18.iloc[0:100]\n",
    "ttss.range('E4').options(index=False,header=False).value = ssage26.iloc[0:100]\n",
    "ttss.range('F4').options(index=False,header=False).value = ssage40.iloc[0:100]\n",
    "ttss.range('G4').options(index=False,header=False).value = ssage60.iloc[0:100]"
   ]
  },
  {
   "cell_type": "code",
   "execution_count": null,
   "id": "5e42c053",
   "metadata": {},
   "outputs": [],
   "source": []
  },
  {
   "cell_type": "markdown",
   "id": "92db3f2c",
   "metadata": {},
   "source": [
    "# GENDER"
   ]
  },
  {
   "cell_type": "code",
   "execution_count": 25,
   "id": "d47832f7",
   "metadata": {},
   "outputs": [],
   "source": [
    "tt_gd=pd.read_excel(\"/Users/clee/Dropbox/Aim 1/Analysis/Ranking/2015-16/total_ghg/by demo/Analysis_fdcodes-fdlvl3_ghgcons_by gender.xlsx\")"
   ]
  },
  {
   "cell_type": "code",
   "execution_count": 26,
   "id": "fc8ee3d4",
   "metadata": {},
   "outputs": [
    {
     "data": {
      "text/plain": [
       "(5258, 7)"
      ]
     },
     "execution_count": 26,
     "metadata": {},
     "output_type": "execute_result"
    }
   ],
   "source": [
    "tt_gd.shape"
   ]
  },
  {
   "cell_type": "code",
   "execution_count": 27,
   "id": "f4fee2ee",
   "metadata": {},
   "outputs": [
    {
     "data": {
      "text/html": [
       "<div>\n",
       "<style scoped>\n",
       "    .dataframe tbody tr th:only-of-type {\n",
       "        vertical-align: middle;\n",
       "    }\n",
       "\n",
       "    .dataframe tbody tr th {\n",
       "        vertical-align: top;\n",
       "    }\n",
       "\n",
       "    .dataframe thead th {\n",
       "        text-align: right;\n",
       "    }\n",
       "</style>\n",
       "<table border=\"1\" class=\"dataframe\">\n",
       "  <thead>\n",
       "    <tr style=\"text-align: right;\">\n",
       "      <th></th>\n",
       "      <th>genderCat</th>\n",
       "      <th>genderCatstr</th>\n",
       "      <th>foodcat_lvl1</th>\n",
       "      <th>category_description</th>\n",
       "      <th>food_code</th>\n",
       "      <th>drxfcsd</th>\n",
       "      <th>total_ghgcons</th>\n",
       "    </tr>\n",
       "  </thead>\n",
       "  <tbody>\n",
       "    <tr>\n",
       "      <th>0</th>\n",
       "      <td>Male</td>\n",
       "      <td>1</td>\n",
       "      <td>Protein Foods</td>\n",
       "      <td>Beef, excludes ground</td>\n",
       "      <td>21101130</td>\n",
       "      <td>BEEF STEAK, BROILED OR BAKED, LEAN ONLY EATEN</td>\n",
       "      <td>2.338863e+07</td>\n",
       "    </tr>\n",
       "    <tr>\n",
       "      <th>1</th>\n",
       "      <td>Male</td>\n",
       "      <td>1</td>\n",
       "      <td>Mixed Dishes</td>\n",
       "      <td>Burritos and tacos</td>\n",
       "      <td>58101345</td>\n",
       "      <td>SOFT TACO WITH MEAT</td>\n",
       "      <td>1.810008e+07</td>\n",
       "    </tr>\n",
       "    <tr>\n",
       "      <th>2</th>\n",
       "      <td>Male</td>\n",
       "      <td>1</td>\n",
       "      <td>Protein Foods</td>\n",
       "      <td>Beef, excludes ground</td>\n",
       "      <td>21101120</td>\n",
       "      <td>BEEF STEAK, BROILED OR BAKED, LEAN AND FAT EATEN</td>\n",
       "      <td>1.613857e+07</td>\n",
       "    </tr>\n",
       "    <tr>\n",
       "      <th>3</th>\n",
       "      <td>Male</td>\n",
       "      <td>1</td>\n",
       "      <td>Milk and Dairy</td>\n",
       "      <td>Milk, reduced fat</td>\n",
       "      <td>11112110</td>\n",
       "      <td>MILK, REDUCED FAT (2%)</td>\n",
       "      <td>1.283829e+07</td>\n",
       "    </tr>\n",
       "    <tr>\n",
       "      <th>4</th>\n",
       "      <td>Male</td>\n",
       "      <td>1</td>\n",
       "      <td>Milk and Dairy</td>\n",
       "      <td>Milk, whole</td>\n",
       "      <td>11111000</td>\n",
       "      <td>MILK, WHOLE</td>\n",
       "      <td>9.424934e+06</td>\n",
       "    </tr>\n",
       "  </tbody>\n",
       "</table>\n",
       "</div>"
      ],
      "text/plain": [
       "  genderCat  genderCatstr    foodcat_lvl1   category_description  food_code  \\\n",
       "0      Male             1   Protein Foods  Beef, excludes ground   21101130   \n",
       "1      Male             1    Mixed Dishes     Burritos and tacos   58101345   \n",
       "2      Male             1   Protein Foods  Beef, excludes ground   21101120   \n",
       "3      Male             1  Milk and Dairy      Milk, reduced fat   11112110   \n",
       "4      Male             1  Milk and Dairy            Milk, whole   11111000   \n",
       "\n",
       "                                            drxfcsd  total_ghgcons  \n",
       "0     BEEF STEAK, BROILED OR BAKED, LEAN ONLY EATEN   2.338863e+07  \n",
       "1                               SOFT TACO WITH MEAT   1.810008e+07  \n",
       "2  BEEF STEAK, BROILED OR BAKED, LEAN AND FAT EATEN   1.613857e+07  \n",
       "3                            MILK, REDUCED FAT (2%)   1.283829e+07  \n",
       "4                                       MILK, WHOLE   9.424934e+06  "
      ]
     },
     "execution_count": 27,
     "metadata": {},
     "output_type": "execute_result"
    }
   ],
   "source": [
    "tt_gd.head()"
   ]
  },
  {
   "cell_type": "code",
   "execution_count": 28,
   "id": "2db2fd85",
   "metadata": {},
   "outputs": [],
   "source": [
    "tt_gd = tt_gd.sort_values(['total_ghgcons'],ascending=[False])"
   ]
  },
  {
   "cell_type": "code",
   "execution_count": 29,
   "id": "7222a7c3",
   "metadata": {},
   "outputs": [
    {
     "data": {
      "text/html": [
       "<div>\n",
       "<style scoped>\n",
       "    .dataframe tbody tr th:only-of-type {\n",
       "        vertical-align: middle;\n",
       "    }\n",
       "\n",
       "    .dataframe tbody tr th {\n",
       "        vertical-align: top;\n",
       "    }\n",
       "\n",
       "    .dataframe thead th {\n",
       "        text-align: right;\n",
       "    }\n",
       "</style>\n",
       "<table border=\"1\" class=\"dataframe\">\n",
       "  <thead>\n",
       "    <tr style=\"text-align: right;\">\n",
       "      <th></th>\n",
       "      <th>genderCat</th>\n",
       "      <th>genderCatstr</th>\n",
       "      <th>foodcat_lvl1</th>\n",
       "      <th>category_description</th>\n",
       "      <th>food_code</th>\n",
       "      <th>drxfcsd</th>\n",
       "      <th>total_ghgcons</th>\n",
       "    </tr>\n",
       "  </thead>\n",
       "  <tbody>\n",
       "    <tr>\n",
       "      <th>2606</th>\n",
       "      <td>Male</td>\n",
       "      <td>1</td>\n",
       "      <td>Mixed Dishes</td>\n",
       "      <td>Egg/breakfast sandwiches (single code)</td>\n",
       "      <td>32202035</td>\n",
       "      <td>EGG, EXTRA CHEESE, AND EXTRA SAUSAGE, ON BUN</td>\n",
       "      <td>0.0</td>\n",
       "    </tr>\n",
       "    <tr>\n",
       "      <th>2605</th>\n",
       "      <td>Male</td>\n",
       "      <td>1</td>\n",
       "      <td>Snacks and Sweets</td>\n",
       "      <td>Candy not containing chocolate</td>\n",
       "      <td>91770020</td>\n",
       "      <td>DIETETIC OR LOW CALORIE HARD CANDY</td>\n",
       "      <td>0.0</td>\n",
       "    </tr>\n",
       "    <tr>\n",
       "      <th>2603</th>\n",
       "      <td>Male</td>\n",
       "      <td>1</td>\n",
       "      <td>Mixed Dishes</td>\n",
       "      <td>Burritos and tacos</td>\n",
       "      <td>58101325</td>\n",
       "      <td>TACO OR TOSTADA WITH MEAT AND SOUR CREAM</td>\n",
       "      <td>0.0</td>\n",
       "    </tr>\n",
       "    <tr>\n",
       "      <th>2604</th>\n",
       "      <td>Male</td>\n",
       "      <td>1</td>\n",
       "      <td>Mixed Dishes</td>\n",
       "      <td>Seafood mixed dishes</td>\n",
       "      <td>27450660</td>\n",
       "      <td>SHELLFISH MIXTURE AND VEGETABLES EXCLUDING CAR...</td>\n",
       "      <td>0.0</td>\n",
       "    </tr>\n",
       "    <tr>\n",
       "      <th>5257</th>\n",
       "      <td>Female</td>\n",
       "      <td>2</td>\n",
       "      <td>Snacks and Sweets</td>\n",
       "      <td>Popcorn</td>\n",
       "      <td>54403092</td>\n",
       "      <td>POPCORN, READY-TO-EAT PACKAGED, OTHER FLAVORED</td>\n",
       "      <td>0.0</td>\n",
       "    </tr>\n",
       "  </tbody>\n",
       "</table>\n",
       "</div>"
      ],
      "text/plain": [
       "     genderCat  genderCatstr       foodcat_lvl1  \\\n",
       "2606      Male             1       Mixed Dishes   \n",
       "2605      Male             1  Snacks and Sweets   \n",
       "2603      Male             1       Mixed Dishes   \n",
       "2604      Male             1       Mixed Dishes   \n",
       "5257    Female             2  Snacks and Sweets   \n",
       "\n",
       "                        category_description  food_code  \\\n",
       "2606  Egg/breakfast sandwiches (single code)   32202035   \n",
       "2605          Candy not containing chocolate   91770020   \n",
       "2603                      Burritos and tacos   58101325   \n",
       "2604                    Seafood mixed dishes   27450660   \n",
       "5257                                 Popcorn   54403092   \n",
       "\n",
       "                                                drxfcsd  total_ghgcons  \n",
       "2606       EGG, EXTRA CHEESE, AND EXTRA SAUSAGE, ON BUN            0.0  \n",
       "2605                 DIETETIC OR LOW CALORIE HARD CANDY            0.0  \n",
       "2603           TACO OR TOSTADA WITH MEAT AND SOUR CREAM            0.0  \n",
       "2604  SHELLFISH MIXTURE AND VEGETABLES EXCLUDING CAR...            0.0  \n",
       "5257     POPCORN, READY-TO-EAT PACKAGED, OTHER FLAVORED            0.0  "
      ]
     },
     "execution_count": 29,
     "metadata": {},
     "output_type": "execute_result"
    }
   ],
   "source": [
    "tt_gd.tail()"
   ]
  },
  {
   "cell_type": "code",
   "execution_count": 30,
   "id": "92841624",
   "metadata": {},
   "outputs": [
    {
     "data": {
      "text/plain": [
       "array(['Protein Foods', 'Mixed Dishes', 'Milk and Dairy',\n",
       "       'Beverages, Nonalcoholic', 'Snacks and Sweets'], dtype=object)"
      ]
     },
     "execution_count": 30,
     "metadata": {},
     "output_type": "execute_result"
    }
   ],
   "source": [
    "tt_gd.foodcat_lvl1.unique()"
   ]
  },
  {
   "cell_type": "markdown",
   "id": "24e2892f",
   "metadata": {},
   "source": [
    "## Protein"
   ]
  },
  {
   "cell_type": "code",
   "execution_count": 31,
   "id": "7b32b9ae",
   "metadata": {},
   "outputs": [],
   "source": [
    "ptgdm = (tt_gd.loc[(tt_gd['genderCatstr']==1)&(tt_gd['foodcat_lvl1']==\"Protein Foods\")]).loc[:,('drxfcsd')]\n",
    "ptgdf = (tt_gd.loc[(tt_gd['genderCatstr']==2)&(tt_gd['foodcat_lvl1']==\"Protein Foods\")]).loc[:,('drxfcsd')]"
   ]
  },
  {
   "cell_type": "code",
   "execution_count": 32,
   "id": "562d2980",
   "metadata": {},
   "outputs": [
    {
     "data": {
      "text/plain": [
       "0           BEEF STEAK, BROILED OR BAKED, LEAN ONLY EATEN\n",
       "2        BEEF STEAK, BROILED OR BAKED, LEAN AND FAT EATEN\n",
       "6                               GROUND BEEF PATTY, COOKED\n",
       "7                    BEEF STEAK, BRAISED, LEAN ONLY EATEN\n",
       "12               BEEF, ROAST, ROASTED, NS AS TO FAT EATEN\n",
       "                              ...                        \n",
       "2582                      TEXTURED VEGETABLE PROTEIN, DRY\n",
       "2586                                      EDAMAME, COOKED\n",
       "2592                                PUMPKIN SEEDS, SALTED\n",
       "2593                                          WASABI PEAS\n",
       "2599    FAVA BEANS, CANNED, DRAINED, FAT ADDED IN COOKING\n",
       "Name: drxfcsd, Length: 708, dtype: object"
      ]
     },
     "execution_count": 32,
     "metadata": {},
     "output_type": "execute_result"
    }
   ],
   "source": [
    "ptgdm"
   ]
  },
  {
   "cell_type": "code",
   "execution_count": 33,
   "id": "d211b1a8",
   "metadata": {},
   "outputs": [],
   "source": [
    "#Write on a specific cell range with a specific range of DF\n",
    "ttpt.range('H4').options(index=False,header=False).value = ptgdm.iloc[0:100]\n",
    "ttpt.range('I4').options(index=False,header=False).value = ptgdf.iloc[0:100]"
   ]
  },
  {
   "cell_type": "markdown",
   "id": "745d5053",
   "metadata": {},
   "source": [
    "## Mixed Dishes"
   ]
  },
  {
   "cell_type": "code",
   "execution_count": 34,
   "id": "aca8a978",
   "metadata": {},
   "outputs": [],
   "source": [
    "mdgdm = (tt_gd.loc[(tt_gd['genderCatstr']==1)&(tt_gd['foodcat_lvl1']==\"Mixed Dishes\")]).loc[:,('drxfcsd')]\n",
    "mdgdf = (tt_gd.loc[(tt_gd['genderCatstr']==2)&(tt_gd['foodcat_lvl1']==\"Mixed Dishes\")]).loc[:,('drxfcsd')]"
   ]
  },
  {
   "cell_type": "code",
   "execution_count": 35,
   "id": "d50d99c4",
   "metadata": {},
   "outputs": [
    {
     "data": {
      "text/plain": [
       "1                                     SOFT TACO WITH MEAT\n",
       "5       MEAT LOAF MADE WITH BEEF, WITH TOMATO-BASED SAUCE\n",
       "9                                MEAT LOAF MADE WITH BEEF\n",
       "11      FRANKFURTER OR HOT DOG SANDWICH, BEEF, PLAIN, ...\n",
       "16      PASTA WITH TOMATO-BASED SAUCE AND MEAT, HOME R...\n",
       "                              ...                        \n",
       "2579    CHICKEN OR TURKEY SOUP, CREAM OF, NS AS TO PRE...\n",
       "2601                        ONION SOUP, MADE FROM DRY MIX\n",
       "2606         EGG, EXTRA CHEESE, AND EXTRA SAUSAGE, ON BUN\n",
       "2603             TACO OR TOSTADA WITH MEAT AND SOUR CREAM\n",
       "2604    SHELLFISH MIXTURE AND VEGETABLES EXCLUDING CAR...\n",
       "Name: drxfcsd, Length: 969, dtype: object"
      ]
     },
     "execution_count": 35,
     "metadata": {},
     "output_type": "execute_result"
    }
   ],
   "source": [
    "mdgdm"
   ]
  },
  {
   "cell_type": "code",
   "execution_count": 36,
   "id": "9b491ea6",
   "metadata": {},
   "outputs": [],
   "source": [
    "#Write on a specific cell range with a specific range of DF\n",
    "ttmd.range('H4').options(index=False,header=False).value = mdgdm.iloc[0:100]\n",
    "ttmd.range('I4').options(index=False,header=False).value = mdgdf.iloc[0:100]"
   ]
  },
  {
   "cell_type": "markdown",
   "id": "960063cb",
   "metadata": {},
   "source": [
    "## Milk & Dairy"
   ]
  },
  {
   "cell_type": "code",
   "execution_count": 37,
   "id": "fe2a8698",
   "metadata": {},
   "outputs": [],
   "source": [
    "mkgdm = (tt_gd.loc[(tt_gd['genderCatstr']==1)&(tt_gd['foodcat_lvl1']==\"Milk and Dairy\")]).loc[:,('drxfcsd')]\n",
    "mkgdf = (tt_gd.loc[(tt_gd['genderCatstr']==2)&(tt_gd['foodcat_lvl1']==\"Milk and Dairy\")]).loc[:,('drxfcsd')]"
   ]
  },
  {
   "cell_type": "code",
   "execution_count": 38,
   "id": "14d42522",
   "metadata": {},
   "outputs": [
    {
     "data": {
      "text/plain": [
       "2608             MILK, REDUCED FAT (2%)\n",
       "2610                        MILK, WHOLE\n",
       "2617                    CHEESE, CHEDDAR\n",
       "2621           CHEESE, COTTAGE, LOW FAT\n",
       "2623                   CHEESE, AMERICAN\n",
       "                     ...               \n",
       "5026                    QUESO CHIHUAHUA\n",
       "5131    MILK, DRY, RECONSTITUTED, WHOLE\n",
       "5143          STRAWBERRY MILK, FAT FREE\n",
       "5156                    CHEESE, RICOTTA\n",
       "5190                       QUESO COTIJA\n",
       "Name: drxfcsd, Length: 160, dtype: object"
      ]
     },
     "execution_count": 38,
     "metadata": {},
     "output_type": "execute_result"
    }
   ],
   "source": [
    "mkgdf"
   ]
  },
  {
   "cell_type": "code",
   "execution_count": 39,
   "id": "15007a2d",
   "metadata": {},
   "outputs": [],
   "source": [
    "#Write on a specific cell range with a specific range of DF\n",
    "ttmk.range('H4').options(index=False,header=False).value = mkgdm.iloc[0:100]\n",
    "ttmk.range('I4').options(index=False,header=False).value = mkgdf.iloc[0:100]"
   ]
  },
  {
   "cell_type": "markdown",
   "id": "de0ed2c2",
   "metadata": {},
   "source": [
    "## Beverages NA"
   ]
  },
  {
   "cell_type": "code",
   "execution_count": 40,
   "id": "940792c9",
   "metadata": {},
   "outputs": [],
   "source": [
    "bvgdm = (tt_gd.loc[(tt_gd['genderCatstr']==1)&(tt_gd['foodcat_lvl1']==\"Beverages, Nonalcoholic\")]).loc[:,('drxfcsd')]\n",
    "bvgdf = (tt_gd.loc[(tt_gd['genderCatstr']==2)&(tt_gd['foodcat_lvl1']==\"Beverages, Nonalcoholic\")]).loc[:,('drxfcsd')]"
   ]
  },
  {
   "cell_type": "code",
   "execution_count": 41,
   "id": "a0230fb9",
   "metadata": {},
   "outputs": [
    {
     "data": {
      "text/plain": [
       "2624                                       COFFEE, BREWED\n",
       "2647                                    APPLE JUICE, 100%\n",
       "2692           FRUIT SMOOTHIE, WITH WHOLE FRUIT AND DAIRY\n",
       "2705                    CRANBERRY JUICE BLEND, 100% JUICE\n",
       "2709    ORANGE JUICE, 100%, CANNED, BOTTLED OR IN A CA...\n",
       "                              ...                        \n",
       "5239                             FRUIT JUICE DRINK, LIGHT\n",
       "5243               TEA, ICED, BOTTLED, GREEN, UNSWEETENED\n",
       "5246                                      CEREAL BEVERAGE\n",
       "5247                                   TEA, HOT, HIBISCUS\n",
       "5251                              FRUIT JUICE DRINK, DIET\n",
       "Name: drxfcsd, Length: 238, dtype: object"
      ]
     },
     "execution_count": 41,
     "metadata": {},
     "output_type": "execute_result"
    }
   ],
   "source": [
    "bvgdf"
   ]
  },
  {
   "cell_type": "code",
   "execution_count": 42,
   "id": "d757e603",
   "metadata": {},
   "outputs": [],
   "source": [
    "#Write on a specific cell range with a specific range of DF\n",
    "ttbv.range('H4').options(index=False,header=False).value = bvgdm.iloc[0:100]\n",
    "ttbv.range('I4').options(index=False,header=False).value = bvgdf.iloc[0:100]"
   ]
  },
  {
   "cell_type": "markdown",
   "id": "1d5419b2",
   "metadata": {},
   "source": [
    "## Snacks & Sweets"
   ]
  },
  {
   "cell_type": "code",
   "execution_count": 43,
   "id": "644c5e40",
   "metadata": {},
   "outputs": [],
   "source": [
    "ssgdm = (tt_gd.loc[(tt_gd['genderCatstr']==1)&(tt_gd['foodcat_lvl1']==\"Snacks and Sweets\")]).loc[:,('drxfcsd')]\n",
    "ssgdf = (tt_gd.loc[(tt_gd['genderCatstr']==2)&(tt_gd['foodcat_lvl1']==\"Snacks and Sweets\")]).loc[:,('drxfcsd')]"
   ]
  },
  {
   "cell_type": "code",
   "execution_count": 44,
   "id": "349227dc",
   "metadata": {},
   "outputs": [
    {
     "data": {
      "text/plain": [
       "2620     ICE CREAM, REGULAR, FLAVORS OTHER THAN CHOCOLATE\n",
       "2720    CAKE OR CUPCAKE, CHOCOLATE, DEVIL'S FOOD OR FU...\n",
       "2732                        ICE CREAM, REGULAR, CHOCOLATE\n",
       "2761                               COOKIE, CHOCOLATE CHIP\n",
       "2765                          MILK CHOCOLATE CANDY, PLAIN\n",
       "                              ...                        \n",
       "5245                           PRETZEL CHIPS, HARD, PLAIN\n",
       "5249                                SESAME CRUNCH, SAHADI\n",
       "5250                     POPCORN, MICROWAVE, PLAIN, LIGHT\n",
       "5255                   DIETETIC OR LOW CALORIE HARD CANDY\n",
       "5257       POPCORN, READY-TO-EAT PACKAGED, OTHER FLAVORED\n",
       "Name: drxfcsd, Length: 564, dtype: object"
      ]
     },
     "execution_count": 44,
     "metadata": {},
     "output_type": "execute_result"
    }
   ],
   "source": [
    "ssgdf"
   ]
  },
  {
   "cell_type": "code",
   "execution_count": 45,
   "id": "c9233fd5",
   "metadata": {},
   "outputs": [],
   "source": [
    "#Write on a specific cell range with a specific range of DF\n",
    "ttss.range('H4').options(index=False,header=False).value = ssgdm.iloc[0:100]\n",
    "ttss.range('I4').options(index=False,header=False).value = ssgdf.iloc[0:100]"
   ]
  },
  {
   "cell_type": "code",
   "execution_count": null,
   "id": "3b829ab0",
   "metadata": {},
   "outputs": [],
   "source": []
  },
  {
   "cell_type": "markdown",
   "id": "e3a38a20",
   "metadata": {},
   "source": [
    "# RACE"
   ]
  },
  {
   "cell_type": "code",
   "execution_count": 46,
   "id": "d5eb980a",
   "metadata": {},
   "outputs": [],
   "source": [
    "tt_rc=pd.read_excel(\"/Users/clee/Dropbox/Aim 1/Analysis/Ranking/2015-16/total_ghg/by demo/Analysis_fdcodes-fdlvl3_ghgcons_by race.xlsx\")"
   ]
  },
  {
   "cell_type": "code",
   "execution_count": 47,
   "id": "85211ac2",
   "metadata": {},
   "outputs": [
    {
     "data": {
      "text/plain": [
       "(7561, 7)"
      ]
     },
     "execution_count": 47,
     "metadata": {},
     "output_type": "execute_result"
    }
   ],
   "source": [
    "tt_rc.shape"
   ]
  },
  {
   "cell_type": "code",
   "execution_count": 48,
   "id": "4c031ca0",
   "metadata": {},
   "outputs": [
    {
     "data": {
      "text/html": [
       "<div>\n",
       "<style scoped>\n",
       "    .dataframe tbody tr th:only-of-type {\n",
       "        vertical-align: middle;\n",
       "    }\n",
       "\n",
       "    .dataframe tbody tr th {\n",
       "        vertical-align: top;\n",
       "    }\n",
       "\n",
       "    .dataframe thead th {\n",
       "        text-align: right;\n",
       "    }\n",
       "</style>\n",
       "<table border=\"1\" class=\"dataframe\">\n",
       "  <thead>\n",
       "    <tr style=\"text-align: right;\">\n",
       "      <th></th>\n",
       "      <th>raceCat</th>\n",
       "      <th>raceCatstr</th>\n",
       "      <th>foodcat_lvl1</th>\n",
       "      <th>category_description</th>\n",
       "      <th>food_code</th>\n",
       "      <th>drxfcsd</th>\n",
       "      <th>total_ghgcons</th>\n",
       "    </tr>\n",
       "  </thead>\n",
       "  <tbody>\n",
       "    <tr>\n",
       "      <th>0</th>\n",
       "      <td>Non-Hispanic White</td>\n",
       "      <td>1</td>\n",
       "      <td>Protein Foods</td>\n",
       "      <td>Beef, excludes ground</td>\n",
       "      <td>21101130</td>\n",
       "      <td>BEEF STEAK, BROILED OR BAKED, LEAN ONLY EATEN</td>\n",
       "      <td>2.070465e+07</td>\n",
       "    </tr>\n",
       "    <tr>\n",
       "      <th>1</th>\n",
       "      <td>Non-Hispanic White</td>\n",
       "      <td>1</td>\n",
       "      <td>Protein Foods</td>\n",
       "      <td>Beef, excludes ground</td>\n",
       "      <td>21101120</td>\n",
       "      <td>BEEF STEAK, BROILED OR BAKED, LEAN AND FAT EATEN</td>\n",
       "      <td>1.510210e+07</td>\n",
       "    </tr>\n",
       "    <tr>\n",
       "      <th>2</th>\n",
       "      <td>Non-Hispanic White</td>\n",
       "      <td>1</td>\n",
       "      <td>Milk and Dairy</td>\n",
       "      <td>Milk, reduced fat</td>\n",
       "      <td>11112110</td>\n",
       "      <td>MILK, REDUCED FAT (2%)</td>\n",
       "      <td>1.291290e+07</td>\n",
       "    </tr>\n",
       "    <tr>\n",
       "      <th>3</th>\n",
       "      <td>Non-Hispanic White</td>\n",
       "      <td>1</td>\n",
       "      <td>Milk and Dairy</td>\n",
       "      <td>Milk, whole</td>\n",
       "      <td>11111000</td>\n",
       "      <td>MILK, WHOLE</td>\n",
       "      <td>9.894702e+06</td>\n",
       "    </tr>\n",
       "    <tr>\n",
       "      <th>4</th>\n",
       "      <td>Non-Hispanic White</td>\n",
       "      <td>1</td>\n",
       "      <td>Protein Foods</td>\n",
       "      <td>Ground beef</td>\n",
       "      <td>21500310</td>\n",
       "      <td>GROUND BEEF PATTY, COOKED</td>\n",
       "      <td>9.230866e+06</td>\n",
       "    </tr>\n",
       "  </tbody>\n",
       "</table>\n",
       "</div>"
      ],
      "text/plain": [
       "              raceCat  raceCatstr    foodcat_lvl1   category_description  \\\n",
       "0  Non-Hispanic White           1   Protein Foods  Beef, excludes ground   \n",
       "1  Non-Hispanic White           1   Protein Foods  Beef, excludes ground   \n",
       "2  Non-Hispanic White           1  Milk and Dairy      Milk, reduced fat   \n",
       "3  Non-Hispanic White           1  Milk and Dairy            Milk, whole   \n",
       "4  Non-Hispanic White           1   Protein Foods            Ground beef   \n",
       "\n",
       "   food_code                                           drxfcsd  total_ghgcons  \n",
       "0   21101130     BEEF STEAK, BROILED OR BAKED, LEAN ONLY EATEN   2.070465e+07  \n",
       "1   21101120  BEEF STEAK, BROILED OR BAKED, LEAN AND FAT EATEN   1.510210e+07  \n",
       "2   11112110                            MILK, REDUCED FAT (2%)   1.291290e+07  \n",
       "3   11111000                                       MILK, WHOLE   9.894702e+06  \n",
       "4   21500310                         GROUND BEEF PATTY, COOKED   9.230866e+06  "
      ]
     },
     "execution_count": 48,
     "metadata": {},
     "output_type": "execute_result"
    }
   ],
   "source": [
    "tt_rc.head()"
   ]
  },
  {
   "cell_type": "code",
   "execution_count": 49,
   "id": "efd8a693",
   "metadata": {},
   "outputs": [],
   "source": [
    "tt_rc = tt_rc.sort_values(['total_ghgcons'],ascending=[False])"
   ]
  },
  {
   "cell_type": "code",
   "execution_count": 50,
   "id": "95064eed",
   "metadata": {},
   "outputs": [
    {
     "data": {
      "text/html": [
       "<div>\n",
       "<style scoped>\n",
       "    .dataframe tbody tr th:only-of-type {\n",
       "        vertical-align: middle;\n",
       "    }\n",
       "\n",
       "    .dataframe tbody tr th {\n",
       "        vertical-align: top;\n",
       "    }\n",
       "\n",
       "    .dataframe thead th {\n",
       "        text-align: right;\n",
       "    }\n",
       "</style>\n",
       "<table border=\"1\" class=\"dataframe\">\n",
       "  <thead>\n",
       "    <tr style=\"text-align: right;\">\n",
       "      <th></th>\n",
       "      <th>raceCat</th>\n",
       "      <th>raceCatstr</th>\n",
       "      <th>foodcat_lvl1</th>\n",
       "      <th>category_description</th>\n",
       "      <th>food_code</th>\n",
       "      <th>drxfcsd</th>\n",
       "      <th>total_ghgcons</th>\n",
       "    </tr>\n",
       "  </thead>\n",
       "  <tbody>\n",
       "    <tr>\n",
       "      <th>3844</th>\n",
       "      <td>Non-Hispanic Black</td>\n",
       "      <td>2</td>\n",
       "      <td>Mixed Dishes</td>\n",
       "      <td>Egg/breakfast sandwiches (single code)</td>\n",
       "      <td>32202035</td>\n",
       "      <td>EGG, EXTRA CHEESE, AND EXTRA SAUSAGE, ON BUN</td>\n",
       "      <td>0.0</td>\n",
       "    </tr>\n",
       "    <tr>\n",
       "      <th>3845</th>\n",
       "      <td>Non-Hispanic Black</td>\n",
       "      <td>2</td>\n",
       "      <td>Mixed Dishes</td>\n",
       "      <td>Burritos and tacos</td>\n",
       "      <td>58101325</td>\n",
       "      <td>TACO OR TOSTADA WITH MEAT AND SOUR CREAM</td>\n",
       "      <td>0.0</td>\n",
       "    </tr>\n",
       "    <tr>\n",
       "      <th>3846</th>\n",
       "      <td>Non-Hispanic Black</td>\n",
       "      <td>2</td>\n",
       "      <td>Snacks and Sweets</td>\n",
       "      <td>Candy not containing chocolate</td>\n",
       "      <td>91770020</td>\n",
       "      <td>DIETETIC OR LOW CALORIE HARD CANDY</td>\n",
       "      <td>0.0</td>\n",
       "    </tr>\n",
       "    <tr>\n",
       "      <th>5922</th>\n",
       "      <td>Mexican American and other Hispanic</td>\n",
       "      <td>3</td>\n",
       "      <td>Mixed Dishes</td>\n",
       "      <td>Burritos and tacos</td>\n",
       "      <td>58101325</td>\n",
       "      <td>TACO OR TOSTADA WITH MEAT AND SOUR CREAM</td>\n",
       "      <td>0.0</td>\n",
       "    </tr>\n",
       "    <tr>\n",
       "      <th>7560</th>\n",
       "      <td>Other Race</td>\n",
       "      <td>4</td>\n",
       "      <td>Snacks and Sweets</td>\n",
       "      <td>Popcorn</td>\n",
       "      <td>54403092</td>\n",
       "      <td>POPCORN, READY-TO-EAT PACKAGED, OTHER FLAVORED</td>\n",
       "      <td>0.0</td>\n",
       "    </tr>\n",
       "  </tbody>\n",
       "</table>\n",
       "</div>"
      ],
      "text/plain": [
       "                                  raceCat  raceCatstr       foodcat_lvl1  \\\n",
       "3844                   Non-Hispanic Black           2       Mixed Dishes   \n",
       "3845                   Non-Hispanic Black           2       Mixed Dishes   \n",
       "3846                   Non-Hispanic Black           2  Snacks and Sweets   \n",
       "5922  Mexican American and other Hispanic           3       Mixed Dishes   \n",
       "7560                           Other Race           4  Snacks and Sweets   \n",
       "\n",
       "                        category_description  food_code  \\\n",
       "3844  Egg/breakfast sandwiches (single code)   32202035   \n",
       "3845                      Burritos and tacos   58101325   \n",
       "3846          Candy not containing chocolate   91770020   \n",
       "5922                      Burritos and tacos   58101325   \n",
       "7560                                 Popcorn   54403092   \n",
       "\n",
       "                                             drxfcsd  total_ghgcons  \n",
       "3844    EGG, EXTRA CHEESE, AND EXTRA SAUSAGE, ON BUN            0.0  \n",
       "3845        TACO OR TOSTADA WITH MEAT AND SOUR CREAM            0.0  \n",
       "3846              DIETETIC OR LOW CALORIE HARD CANDY            0.0  \n",
       "5922        TACO OR TOSTADA WITH MEAT AND SOUR CREAM            0.0  \n",
       "7560  POPCORN, READY-TO-EAT PACKAGED, OTHER FLAVORED            0.0  "
      ]
     },
     "execution_count": 50,
     "metadata": {},
     "output_type": "execute_result"
    }
   ],
   "source": [
    "tt_rc.tail()"
   ]
  },
  {
   "cell_type": "code",
   "execution_count": 51,
   "id": "7610ebfb",
   "metadata": {},
   "outputs": [
    {
     "data": {
      "text/plain": [
       "array(['Protein Foods', 'Mixed Dishes', 'Milk and Dairy',\n",
       "       'Beverages, Nonalcoholic', 'Snacks and Sweets'], dtype=object)"
      ]
     },
     "execution_count": 51,
     "metadata": {},
     "output_type": "execute_result"
    }
   ],
   "source": [
    "tt_rc.foodcat_lvl1.unique()"
   ]
  },
  {
   "cell_type": "markdown",
   "id": "77b6a535",
   "metadata": {},
   "source": [
    "## Protein"
   ]
  },
  {
   "cell_type": "code",
   "execution_count": 52,
   "id": "d264bdd5",
   "metadata": {},
   "outputs": [],
   "source": [
    "ptrcw = (tt_rc.loc[(tt_rc['raceCatstr']==1)&(tt_rc['foodcat_lvl1']==\"Protein Foods\")]).loc[:,('drxfcsd')]\n",
    "ptrcb = (tt_rc.loc[(tt_rc['raceCatstr']==2)&(tt_rc['foodcat_lvl1']==\"Protein Foods\")]).loc[:,('drxfcsd')]\n",
    "ptrch = (tt_rc.loc[(tt_rc['raceCatstr']==3)&(tt_rc['foodcat_lvl1']==\"Protein Foods\")]).loc[:,('drxfcsd')]\n",
    "ptrco = (tt_rc.loc[(tt_rc['raceCatstr']==4)&(tt_rc['foodcat_lvl1']==\"Protein Foods\")]).loc[:,('drxfcsd')]"
   ]
  },
  {
   "cell_type": "code",
   "execution_count": 53,
   "id": "533df63f",
   "metadata": {},
   "outputs": [
    {
     "data": {
      "text/plain": [
       "5925       BEEF STEAK, BROILED OR BAKED, LEAN ONLY EATEN\n",
       "5927                BEEF STEAK, BRAISED, LEAN ONLY EATEN\n",
       "5930                  BEEF STEAK, FRIED, LEAN ONLY EATEN\n",
       "5931    BEEF STEAK, BROILED OR BAKED, LEAN AND FAT EATEN\n",
       "5936                                 GROUND BEEF, COOKED\n",
       "                              ...                       \n",
       "7541                                         WASABI PEAS\n",
       "7542                    SUNFLOWER SEEDS, PLAIN, UNSALTED\n",
       "7544                               PUMPKIN SEEDS, SALTED\n",
       "7547                                         MIXED SEEDS\n",
       "7554                                  PUMPKIN SEEDS, NFS\n",
       "Name: drxfcsd, Length: 454, dtype: object"
      ]
     },
     "execution_count": 53,
     "metadata": {},
     "output_type": "execute_result"
    }
   ],
   "source": [
    "ptrco"
   ]
  },
  {
   "cell_type": "code",
   "execution_count": 54,
   "id": "c70b4c87",
   "metadata": {},
   "outputs": [],
   "source": [
    "#Write on a specific cell range with a specific range of DF\n",
    "ttpt.range('J4').options(index=False,header=False).value = ptrcw.iloc[0:100]\n",
    "ttpt.range('K4').options(index=False,header=False).value = ptrcb.iloc[0:100]\n",
    "ttpt.range('L4').options(index=False,header=False).value = ptrch.iloc[0:100]\n",
    "ttpt.range('M4').options(index=False,header=False).value = ptrco.iloc[0:100]"
   ]
  },
  {
   "cell_type": "markdown",
   "id": "027e2664",
   "metadata": {},
   "source": [
    "## Mixed Dishes"
   ]
  },
  {
   "cell_type": "code",
   "execution_count": 55,
   "id": "2a695f2c",
   "metadata": {},
   "outputs": [],
   "source": [
    "mdrcw = (tt_rc.loc[(tt_rc['raceCatstr']==1)&(tt_rc['foodcat_lvl1']==\"Mixed Dishes\")]).loc[:,('drxfcsd')]\n",
    "mdrcb = (tt_rc.loc[(tt_rc['raceCatstr']==2)&(tt_rc['foodcat_lvl1']==\"Mixed Dishes\")]).loc[:,('drxfcsd')]\n",
    "mdrch = (tt_rc.loc[(tt_rc['raceCatstr']==3)&(tt_rc['foodcat_lvl1']==\"Mixed Dishes\")]).loc[:,('drxfcsd')]\n",
    "mdrco = (tt_rc.loc[(tt_rc['raceCatstr']==4)&(tt_rc['foodcat_lvl1']==\"Mixed Dishes\")]).loc[:,('drxfcsd')]"
   ]
  },
  {
   "cell_type": "code",
   "execution_count": 56,
   "id": "caeef9ae",
   "metadata": {},
   "outputs": [
    {
     "data": {
      "text/plain": [
       "5926                                                  PHO\n",
       "5932                      FAJITA WITH MEAT AND VEGETABLES\n",
       "5933                        BEEF NOODLE SOUP, HOME RECIPE\n",
       "5934    PASTA WITH TOMATO-BASED SAUCE AND MEAT, HOME R...\n",
       "5935                                 LAMB OR MUTTON CURRY\n",
       "                              ...                        \n",
       "7488    SQUASH, WINTER TYPE, SOUP, HOME RECIPE, CANNED...\n",
       "7510                              FISH STOCK, HOME RECIPE\n",
       "7513        CAKE MADE WITH GLUTINOUS RICE AND DRIED BEANS\n",
       "7521      TUNA NOODLE CASSEROLE WITH CREAM OR WHITE SAUCE\n",
       "7527                     SEAWEED, PREPARED WITH SOY SAUCE\n",
       "Name: drxfcsd, Length: 545, dtype: object"
      ]
     },
     "execution_count": 56,
     "metadata": {},
     "output_type": "execute_result"
    }
   ],
   "source": [
    "mdrco"
   ]
  },
  {
   "cell_type": "code",
   "execution_count": 57,
   "id": "3f3bb304",
   "metadata": {},
   "outputs": [],
   "source": [
    "#Write on a specific cell range with a specific range of DF\n",
    "ttmd.range('J4').options(index=False,header=False).value = mdrcw.iloc[0:100]\n",
    "ttmd.range('K4').options(index=False,header=False).value = mdrcb.iloc[0:100]\n",
    "ttmd.range('L4').options(index=False,header=False).value = mdrch.iloc[0:100]\n",
    "ttmd.range('M4').options(index=False,header=False).value = mdrco.iloc[0:100]"
   ]
  },
  {
   "cell_type": "code",
   "execution_count": null,
   "id": "55654d33",
   "metadata": {},
   "outputs": [],
   "source": []
  },
  {
   "cell_type": "markdown",
   "id": "bd60e5ec",
   "metadata": {},
   "source": [
    "## Milk & Dairy"
   ]
  },
  {
   "cell_type": "code",
   "execution_count": 58,
   "id": "1a9b78fd",
   "metadata": {},
   "outputs": [],
   "source": [
    "mkrcw = (tt_rc.loc[(tt_rc['raceCatstr']==1)&(tt_rc['foodcat_lvl1']==\"Milk and Dairy\")]).loc[:,('drxfcsd')]\n",
    "mkrcb = (tt_rc.loc[(tt_rc['raceCatstr']==2)&(tt_rc['foodcat_lvl1']==\"Milk and Dairy\")]).loc[:,('drxfcsd')]\n",
    "mkrch = (tt_rc.loc[(tt_rc['raceCatstr']==3)&(tt_rc['foodcat_lvl1']==\"Milk and Dairy\")]).loc[:,('drxfcsd')]\n",
    "mkrco = (tt_rc.loc[(tt_rc['raceCatstr']==4)&(tt_rc['foodcat_lvl1']==\"Milk and Dairy\")]).loc[:,('drxfcsd')]"
   ]
  },
  {
   "cell_type": "code",
   "execution_count": 59,
   "id": "6356272e",
   "metadata": {},
   "outputs": [
    {
     "data": {
      "text/plain": [
       "5928                               MILK, REDUCED FAT (2%)\n",
       "5929                                          MILK, WHOLE\n",
       "5951                                     CHEESE, AMERICAN\n",
       "5959                                   MILK, LOW FAT (1%)\n",
       "5968                                MILK, FAT FREE (SKIM)\n",
       "                              ...                        \n",
       "7322                                      SOY MILK, LIGHT\n",
       "7346            CHEESE, PARMESAN, DRY GRATED, REDUCED FAT\n",
       "7398                                     SOY MILK, NONFAT\n",
       "7405    CHEESE, PROCESSED CREAM CHEESE PRODUCT, NONFAT...\n",
       "7409                                         CHEESE, GOAT\n",
       "Name: drxfcsd, Length: 106, dtype: object"
      ]
     },
     "execution_count": 59,
     "metadata": {},
     "output_type": "execute_result"
    }
   ],
   "source": [
    "mkrco"
   ]
  },
  {
   "cell_type": "code",
   "execution_count": 60,
   "id": "cd95219d",
   "metadata": {},
   "outputs": [],
   "source": [
    "#Write on a specific cell range with a specific range of DF\n",
    "ttmk.range('J4').options(index=False,header=False).value = mkrcw.iloc[0:100]\n",
    "ttmk.range('K4').options(index=False,header=False).value = mkrcb.iloc[0:100]\n",
    "ttmk.range('L4').options(index=False,header=False).value = mkrch.iloc[0:100]\n",
    "ttmk.range('M4').options(index=False,header=False).value = mkrco.iloc[0:100]"
   ]
  },
  {
   "cell_type": "markdown",
   "id": "03786ef0",
   "metadata": {},
   "source": [
    "## Beverages NA"
   ]
  },
  {
   "cell_type": "code",
   "execution_count": 61,
   "id": "8fce8520",
   "metadata": {},
   "outputs": [],
   "source": [
    "bvrcw = (tt_rc.loc[(tt_rc['raceCatstr']==1)&(tt_rc['foodcat_lvl1']==\"Beverages, Nonalcoholic\")]).loc[:,('drxfcsd')]\n",
    "bvrcb = (tt_rc.loc[(tt_rc['raceCatstr']==2)&(tt_rc['foodcat_lvl1']==\"Beverages, Nonalcoholic\")]).loc[:,('drxfcsd')]\n",
    "bvrch = (tt_rc.loc[(tt_rc['raceCatstr']==3)&(tt_rc['foodcat_lvl1']==\"Beverages, Nonalcoholic\")]).loc[:,('drxfcsd')]\n",
    "bvrco = (tt_rc.loc[(tt_rc['raceCatstr']==4)&(tt_rc['foodcat_lvl1']==\"Beverages, Nonalcoholic\")]).loc[:,('drxfcsd')]"
   ]
  },
  {
   "cell_type": "code",
   "execution_count": 62,
   "id": "88f67344",
   "metadata": {},
   "outputs": [
    {
     "data": {
      "text/plain": [
       "5952                                       COFFEE, BREWED\n",
       "5967                                    APPLE JUICE, 100%\n",
       "6003                        FRUIT JUICE BLEND, 100% JUICE\n",
       "6025    ORANGE JUICE, 100%, CANNED, BOTTLED OR IN A CA...\n",
       "6036                           COCONUT WATER, UNSWEETENED\n",
       "                              ...                        \n",
       "7548               SOFT DRINK, PEPPER TYPE, DECAFFEINATED\n",
       "7553                                      CEREAL BEVERAGE\n",
       "7555                                  TEA, HOT, CHAMOMILE\n",
       "7556                              FRUIT JUICE DRINK, DIET\n",
       "7558                             FRUIT JUICE DRINK, LIGHT\n",
       "Name: drxfcsd, Length: 169, dtype: object"
      ]
     },
     "execution_count": 62,
     "metadata": {},
     "output_type": "execute_result"
    }
   ],
   "source": [
    "bvrco"
   ]
  },
  {
   "cell_type": "code",
   "execution_count": 63,
   "id": "32a78393",
   "metadata": {},
   "outputs": [],
   "source": [
    "#Write on a specific cell range with a specific range of DF\n",
    "ttbv.range('J4').options(index=False,header=False).value = bvrcw.iloc[0:100]\n",
    "ttbv.range('K4').options(index=False,header=False).value = bvrcb.iloc[0:100]\n",
    "ttbv.range('L4').options(index=False,header=False).value = bvrch.iloc[0:100]\n",
    "ttbv.range('M4').options(index=False,header=False).value = bvrco.iloc[0:100]"
   ]
  },
  {
   "cell_type": "markdown",
   "id": "3c12d861",
   "metadata": {},
   "source": [
    "## Snacks & Sweets"
   ]
  },
  {
   "cell_type": "code",
   "execution_count": 64,
   "id": "4de10600",
   "metadata": {},
   "outputs": [],
   "source": [
    "ssrcw = (tt_rc.loc[(tt_rc['raceCatstr']==1)&(tt_rc['foodcat_lvl1']==\"Snacks and Sweets\")]).loc[:,('drxfcsd')]\n",
    "ssrcb = (tt_rc.loc[(tt_rc['raceCatstr']==2)&(tt_rc['foodcat_lvl1']==\"Snacks and Sweets\")]).loc[:,('drxfcsd')]\n",
    "ssrch = (tt_rc.loc[(tt_rc['raceCatstr']==3)&(tt_rc['foodcat_lvl1']==\"Snacks and Sweets\")]).loc[:,('drxfcsd')]\n",
    "ssrco = (tt_rc.loc[(tt_rc['raceCatstr']==4)&(tt_rc['foodcat_lvl1']==\"Snacks and Sweets\")]).loc[:,('drxfcsd')]"
   ]
  },
  {
   "cell_type": "code",
   "execution_count": 65,
   "id": "7d0e2bae",
   "metadata": {},
   "outputs": [
    {
     "data": {
      "text/plain": [
       "5940     ICE CREAM, REGULAR, FLAVORS OTHER THAN CHOCOLATE\n",
       "6063    CAKE OR CUPCAKE, CHOCOLATE, DEVIL'S FOOD OR FU...\n",
       "6080                                            CROISSANT\n",
       "6131                               COOKIE, CHOCOLATE CHIP\n",
       "6159                              COOKIE, BUTTER OR SUGAR\n",
       "                              ...                        \n",
       "7551         POPCORN, READY-TO-EAT PACKAGED, PLAIN, LIGHT\n",
       "7552                                SESAME CRUNCH, SAHADI\n",
       "7557                         CRACKERS, WHEAT, REDUCED FAT\n",
       "7559                   DIETETIC OR LOW CALORIE HARD CANDY\n",
       "7560       POPCORN, READY-TO-EAT PACKAGED, OTHER FLAVORED\n",
       "Name: drxfcsd, Length: 362, dtype: object"
      ]
     },
     "execution_count": 65,
     "metadata": {},
     "output_type": "execute_result"
    }
   ],
   "source": [
    "ssrco"
   ]
  },
  {
   "cell_type": "code",
   "execution_count": 66,
   "id": "50b6c023",
   "metadata": {},
   "outputs": [],
   "source": [
    "#Write on a specific cell range with a specific range of DF\n",
    "ttss.range('J4').options(index=False,header=False).value = ssrcw.iloc[0:100]\n",
    "ttss.range('K4').options(index=False,header=False).value = ssrcb.iloc[0:100]\n",
    "ttss.range('L4').options(index=False,header=False).value = ssrch.iloc[0:100]\n",
    "ttss.range('M4').options(index=False,header=False).value = ssrco.iloc[0:100]"
   ]
  },
  {
   "cell_type": "code",
   "execution_count": null,
   "id": "4044bc82",
   "metadata": {},
   "outputs": [],
   "source": []
  },
  {
   "cell_type": "markdown",
   "id": "2708a6c3",
   "metadata": {},
   "source": [
    "# OVERALL"
   ]
  },
  {
   "cell_type": "code",
   "execution_count": 67,
   "id": "8f186d22",
   "metadata": {},
   "outputs": [],
   "source": [
    "tt_ov=pd.read_excel(\"/Users/clee/Dropbox/Aim 1/Analysis/Ranking/2015-16/total_ghg/Analysis_foodcodes_ghgconsumed_weighted.xlsx\")"
   ]
  },
  {
   "cell_type": "code",
   "execution_count": 68,
   "id": "bc0d3a6d",
   "metadata": {},
   "outputs": [
    {
     "data": {
      "text/plain": [
       "(4882, 7)"
      ]
     },
     "execution_count": 68,
     "metadata": {},
     "output_type": "execute_result"
    }
   ],
   "source": [
    "tt_ov.shape"
   ]
  },
  {
   "cell_type": "code",
   "execution_count": 69,
   "id": "48223501",
   "metadata": {
    "scrolled": true
   },
   "outputs": [
    {
     "data": {
      "text/html": [
       "<div>\n",
       "<style scoped>\n",
       "    .dataframe tbody tr th:only-of-type {\n",
       "        vertical-align: middle;\n",
       "    }\n",
       "\n",
       "    .dataframe tbody tr th {\n",
       "        vertical-align: top;\n",
       "    }\n",
       "\n",
       "    .dataframe thead th {\n",
       "        text-align: right;\n",
       "    }\n",
       "</style>\n",
       "<table border=\"1\" class=\"dataframe\">\n",
       "  <thead>\n",
       "    <tr style=\"text-align: right;\">\n",
       "      <th></th>\n",
       "      <th>foodcat_lvl1</th>\n",
       "      <th>food_code</th>\n",
       "      <th>drxfcsd</th>\n",
       "      <th>total_ghgcons</th>\n",
       "      <th>mean_ghgcons</th>\n",
       "      <th>mean_ghg100</th>\n",
       "      <th>freq</th>\n",
       "    </tr>\n",
       "  </thead>\n",
       "  <tbody>\n",
       "    <tr>\n",
       "      <th>0</th>\n",
       "      <td>Protein Foods</td>\n",
       "      <td>21101130</td>\n",
       "      <td>BEEF STEAK, BROILED OR BAKED, LEAN ONLY EATEN</td>\n",
       "      <td>3.373401e+07</td>\n",
       "      <td>6.150408</td>\n",
       "      <td>4.210774</td>\n",
       "      <td>5.484841e+06</td>\n",
       "    </tr>\n",
       "    <tr>\n",
       "      <th>1</th>\n",
       "      <td>Mixed Dishes</td>\n",
       "      <td>58101345</td>\n",
       "      <td>SOFT TACO WITH MEAT</td>\n",
       "      <td>2.580280e+07</td>\n",
       "      <td>4.527406</td>\n",
       "      <td>1.562998</td>\n",
       "      <td>5.699247e+06</td>\n",
       "    </tr>\n",
       "    <tr>\n",
       "      <th>2</th>\n",
       "      <td>Protein Foods</td>\n",
       "      <td>21101120</td>\n",
       "      <td>BEEF STEAK, BROILED OR BAKED, LEAN AND FAT EATEN</td>\n",
       "      <td>2.164989e+07</td>\n",
       "      <td>6.825477</td>\n",
       "      <td>4.210774</td>\n",
       "      <td>3.171923e+06</td>\n",
       "    </tr>\n",
       "    <tr>\n",
       "      <th>3</th>\n",
       "      <td>Milk and Dairy</td>\n",
       "      <td>11112110</td>\n",
       "      <td>MILK, REDUCED FAT (2%)</td>\n",
       "      <td>2.144307e+07</td>\n",
       "      <td>0.360572</td>\n",
       "      <td>0.160628</td>\n",
       "      <td>5.946961e+07</td>\n",
       "    </tr>\n",
       "    <tr>\n",
       "      <th>4</th>\n",
       "      <td>Milk and Dairy</td>\n",
       "      <td>11111000</td>\n",
       "      <td>MILK, WHOLE</td>\n",
       "      <td>1.686874e+07</td>\n",
       "      <td>0.381546</td>\n",
       "      <td>0.178790</td>\n",
       "      <td>4.421153e+07</td>\n",
       "    </tr>\n",
       "  </tbody>\n",
       "</table>\n",
       "</div>"
      ],
      "text/plain": [
       "     foodcat_lvl1  food_code  \\\n",
       "0   Protein Foods   21101130   \n",
       "1    Mixed Dishes   58101345   \n",
       "2   Protein Foods   21101120   \n",
       "3  Milk and Dairy   11112110   \n",
       "4  Milk and Dairy   11111000   \n",
       "\n",
       "                                            drxfcsd  total_ghgcons  \\\n",
       "0     BEEF STEAK, BROILED OR BAKED, LEAN ONLY EATEN   3.373401e+07   \n",
       "1                               SOFT TACO WITH MEAT   2.580280e+07   \n",
       "2  BEEF STEAK, BROILED OR BAKED, LEAN AND FAT EATEN   2.164989e+07   \n",
       "3                            MILK, REDUCED FAT (2%)   2.144307e+07   \n",
       "4                                       MILK, WHOLE   1.686874e+07   \n",
       "\n",
       "   mean_ghgcons  mean_ghg100          freq  \n",
       "0      6.150408     4.210774  5.484841e+06  \n",
       "1      4.527406     1.562998  5.699247e+06  \n",
       "2      6.825477     4.210774  3.171923e+06  \n",
       "3      0.360572     0.160628  5.946961e+07  \n",
       "4      0.381546     0.178790  4.421153e+07  "
      ]
     },
     "execution_count": 69,
     "metadata": {},
     "output_type": "execute_result"
    }
   ],
   "source": [
    "tt_ov.head()"
   ]
  },
  {
   "cell_type": "code",
   "execution_count": 70,
   "id": "1d3a5ea4",
   "metadata": {},
   "outputs": [],
   "source": [
    "tt_ov = tt_ov.sort_values(['total_ghgcons'],ascending=[False])"
   ]
  },
  {
   "cell_type": "code",
   "execution_count": 71,
   "id": "1c6ccfc1",
   "metadata": {},
   "outputs": [
    {
     "data": {
      "text/html": [
       "<div>\n",
       "<style scoped>\n",
       "    .dataframe tbody tr th:only-of-type {\n",
       "        vertical-align: middle;\n",
       "    }\n",
       "\n",
       "    .dataframe tbody tr th {\n",
       "        vertical-align: top;\n",
       "    }\n",
       "\n",
       "    .dataframe thead th {\n",
       "        text-align: right;\n",
       "    }\n",
       "</style>\n",
       "<table border=\"1\" class=\"dataframe\">\n",
       "  <thead>\n",
       "    <tr style=\"text-align: right;\">\n",
       "      <th></th>\n",
       "      <th>foodcat_lvl1</th>\n",
       "      <th>food_code</th>\n",
       "      <th>drxfcsd</th>\n",
       "      <th>total_ghgcons</th>\n",
       "      <th>mean_ghgcons</th>\n",
       "      <th>mean_ghg100</th>\n",
       "      <th>freq</th>\n",
       "    </tr>\n",
       "  </thead>\n",
       "  <tbody>\n",
       "    <tr>\n",
       "      <th>4830</th>\n",
       "      <td>Alcoholic Beverages</td>\n",
       "      <td>93301183</td>\n",
       "      <td>WHISKEY AND DIET COLA</td>\n",
       "      <td>0.0</td>\n",
       "      <td>NaN</td>\n",
       "      <td>NaN</td>\n",
       "      <td>320240.824800</td>\n",
       "    </tr>\n",
       "    <tr>\n",
       "      <th>4829</th>\n",
       "      <td>Grains</td>\n",
       "      <td>57344007</td>\n",
       "      <td>CEREAL (KELLOGG'S SPECIAL K LOW FAT GRANOLA)</td>\n",
       "      <td>0.0</td>\n",
       "      <td>NaN</td>\n",
       "      <td>NaN</td>\n",
       "      <td>74700.751261</td>\n",
       "    </tr>\n",
       "    <tr>\n",
       "      <th>4828</th>\n",
       "      <td>Infant Formula &amp; Baby Food</td>\n",
       "      <td>76407020</td>\n",
       "      <td>MIXED VEGETABLES, GARDEN VEGETABLES, BABY FOOD...</td>\n",
       "      <td>0.0</td>\n",
       "      <td>NaN</td>\n",
       "      <td>NaN</td>\n",
       "      <td>18501.346172</td>\n",
       "    </tr>\n",
       "    <tr>\n",
       "      <th>4827</th>\n",
       "      <td>Infant Formula &amp; Baby Food</td>\n",
       "      <td>67105030</td>\n",
       "      <td>BANANAS, BABY FOOD, STRAINED</td>\n",
       "      <td>0.0</td>\n",
       "      <td>NaN</td>\n",
       "      <td>NaN</td>\n",
       "      <td>5547.603390</td>\n",
       "    </tr>\n",
       "    <tr>\n",
       "      <th>4881</th>\n",
       "      <td>Infant Formula &amp; Baby Food</td>\n",
       "      <td>67600100</td>\n",
       "      <td>APPLES AND SWEET POTATOES, BABY FOOD, STRAINED</td>\n",
       "      <td>0.0</td>\n",
       "      <td>NaN</td>\n",
       "      <td>NaN</td>\n",
       "      <td>18059.966796</td>\n",
       "    </tr>\n",
       "  </tbody>\n",
       "</table>\n",
       "</div>"
      ],
      "text/plain": [
       "                    foodcat_lvl1  food_code  \\\n",
       "4830         Alcoholic Beverages   93301183   \n",
       "4829                      Grains   57344007   \n",
       "4828  Infant Formula & Baby Food   76407020   \n",
       "4827  Infant Formula & Baby Food   67105030   \n",
       "4881  Infant Formula & Baby Food   67600100   \n",
       "\n",
       "                                                drxfcsd  total_ghgcons  \\\n",
       "4830                              WHISKEY AND DIET COLA            0.0   \n",
       "4829       CEREAL (KELLOGG'S SPECIAL K LOW FAT GRANOLA)            0.0   \n",
       "4828  MIXED VEGETABLES, GARDEN VEGETABLES, BABY FOOD...            0.0   \n",
       "4827                       BANANAS, BABY FOOD, STRAINED            0.0   \n",
       "4881     APPLES AND SWEET POTATOES, BABY FOOD, STRAINED            0.0   \n",
       "\n",
       "      mean_ghgcons  mean_ghg100           freq  \n",
       "4830           NaN          NaN  320240.824800  \n",
       "4829           NaN          NaN   74700.751261  \n",
       "4828           NaN          NaN   18501.346172  \n",
       "4827           NaN          NaN    5547.603390  \n",
       "4881           NaN          NaN   18059.966796  "
      ]
     },
     "execution_count": 71,
     "metadata": {},
     "output_type": "execute_result"
    }
   ],
   "source": [
    "tt_ov.tail()"
   ]
  },
  {
   "cell_type": "code",
   "execution_count": 72,
   "id": "0dcb0e4f",
   "metadata": {},
   "outputs": [
    {
     "data": {
      "text/plain": [
       "array(['Protein Foods', 'Mixed Dishes', 'Milk and Dairy',\n",
       "       'Beverages, Nonalcoholic', 'Snacks and Sweets', 'Fruit',\n",
       "       'Alcoholic Beverages', 'Fats and Oils', 'Vegetables', 'Grains',\n",
       "       'Other', 'Water', 'Condiments and Sauces', 'Sugars',\n",
       "       'Infant Formula & Baby Food'], dtype=object)"
      ]
     },
     "execution_count": 72,
     "metadata": {},
     "output_type": "execute_result"
    }
   ],
   "source": [
    "tt_ov.foodcat_lvl1.unique()"
   ]
  },
  {
   "cell_type": "markdown",
   "id": "6e1d1800",
   "metadata": {},
   "source": [
    "## 5 categories"
   ]
  },
  {
   "cell_type": "code",
   "execution_count": 73,
   "id": "51ce0ce9",
   "metadata": {},
   "outputs": [],
   "source": [
    "pt = (tt_ov.loc[tt_ov['foodcat_lvl1']==\"Protein Foods\"]).loc[:,('drxfcsd')]\n",
    "md = (tt_ov.loc[tt_ov['foodcat_lvl1']==\"Mixed Dishes\"]).loc[:,('drxfcsd')]\n",
    "mk = (tt_ov.loc[tt_ov['foodcat_lvl1']==\"Milk and Dairy\"]).loc[:,('drxfcsd')]\n",
    "bv = (tt_ov.loc[tt_ov['foodcat_lvl1']==\"Beverages, Nonalcoholic\"]).loc[:,('drxfcsd')]\n",
    "ss = (tt_ov.loc[tt_ov['foodcat_lvl1']==\"Snacks and Sweets\"]).loc[:,('drxfcsd')]"
   ]
  },
  {
   "cell_type": "code",
   "execution_count": 74,
   "id": "7421785f",
   "metadata": {},
   "outputs": [
    {
     "data": {
      "text/plain": [
       "1                                     SOFT TACO WITH MEAT\n",
       "7       MEAT LOAF MADE WITH BEEF, WITH TOMATO-BASED SAUCE\n",
       "11      PASTA WITH TOMATO-BASED SAUCE AND MEAT, HOME R...\n",
       "12                               MEAT LOAF MADE WITH BEEF\n",
       "16                                      BURRITO WITH MEAT\n",
       "                              ...                        \n",
       "4746                     SEAWEED, PREPARED WITH SOY SAUCE\n",
       "4775    GARBANZO BEAN OR CHICKPEA SOUP, HOME RECIPE, C...\n",
       "4854         EGG, EXTRA CHEESE, AND EXTRA SAUSAGE, ON BUN\n",
       "4853    SHELLFISH MIXTURE AND VEGETABLES EXCLUDING CAR...\n",
       "4865             TACO OR TOSTADA WITH MEAT AND SOUR CREAM\n",
       "Name: drxfcsd, Length: 1181, dtype: object"
      ]
     },
     "execution_count": 74,
     "metadata": {},
     "output_type": "execute_result"
    }
   ],
   "source": [
    "md"
   ]
  },
  {
   "cell_type": "code",
   "execution_count": 75,
   "id": "35604046",
   "metadata": {},
   "outputs": [],
   "source": [
    "app = xw.App()\n",
    "wb = xw.Book(\"/Users/clee/Dropbox/Aim 1/Writing/2015-16/FoodSubs.xlsx\")"
   ]
  },
  {
   "cell_type": "markdown",
   "id": "72549b7c",
   "metadata": {},
   "source": [
    "wb.sheets.add('Overall Mixed Dishes')\n",
    "wb.sheets.add('Overall Milk and Dairy')\n",
    "wb.sheets.add('Overall Snacks and Sweets')\n",
    "wb.sheets.add('Overall Beverages NA')"
   ]
  },
  {
   "cell_type": "code",
   "execution_count": 76,
   "id": "25ff6deb",
   "metadata": {},
   "outputs": [],
   "source": [
    "ttpt = wb.sheets['Overall Protein']\n",
    "ttmd = wb.sheets['Overall Mixed Dishes']\n",
    "ttmk = wb.sheets['Overall Milk and Dairy']\n",
    "ttss = wb.sheets['Overall Snacks and Sweets']\n",
    "ttbv = wb.sheets['Overall Beverages NA']"
   ]
  },
  {
   "cell_type": "code",
   "execution_count": 77,
   "id": "8eef368a",
   "metadata": {},
   "outputs": [],
   "source": [
    "#Write on a specific cell range with a specific range of DF\n",
    "ttpt.range('B4').options(index=False,header=False).value = pt.iloc[0:100]\n",
    "ttmd.range('B4').options(index=False,header=False).value = md.iloc[0:100]\n",
    "ttmk.range('B4').options(index=False,header=False).value = mk.iloc[0:100]\n",
    "ttbv.range('B4').options(index=False,header=False).value = bv.iloc[0:100]\n",
    "ttss.range('B4').options(index=False,header=False).value = ss.iloc[0:100]"
   ]
  },
  {
   "cell_type": "code",
   "execution_count": 78,
   "id": "caec1f10",
   "metadata": {},
   "outputs": [],
   "source": [
    "wb.save()"
   ]
  }
 ],
 "metadata": {
  "kernelspec": {
   "display_name": "Python 3 (ipykernel)",
   "language": "python",
   "name": "python3"
  },
  "language_info": {
   "codemirror_mode": {
    "name": "ipython",
    "version": 3
   },
   "file_extension": ".py",
   "mimetype": "text/x-python",
   "name": "python",
   "nbconvert_exporter": "python",
   "pygments_lexer": "ipython3",
   "version": "3.9.7"
  }
 },
 "nbformat": 4,
 "nbformat_minor": 5
}
