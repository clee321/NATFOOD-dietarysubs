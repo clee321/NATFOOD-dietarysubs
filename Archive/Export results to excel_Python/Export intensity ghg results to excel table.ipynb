{
 "cells": [
  {
   "cell_type": "code",
   "execution_count": 1,
   "id": "4d7eabfd",
   "metadata": {},
   "outputs": [],
   "source": [
    "import pandas as pd\n",
    "import xlwings as xw"
   ]
  },
  {
   "cell_type": "markdown",
   "id": "91106f23",
   "metadata": {},
   "source": [
    "# AGE"
   ]
  },
  {
   "cell_type": "code",
   "execution_count": 2,
   "id": "0eb33979",
   "metadata": {},
   "outputs": [],
   "source": [
    "tt_age=pd.read_excel(\"/Users/clee/Dropbox/Aim 1/Analysis/Ranking/2015-16/ghg_intensity/by demo/Analysis_fdcodes-fdlvl3_ghg100g_by age.xlsx\")"
   ]
  },
  {
   "cell_type": "code",
   "execution_count": 3,
   "id": "45fea4e3",
   "metadata": {},
   "outputs": [
    {
     "data": {
      "text/plain": [
       "(8911, 7)"
      ]
     },
     "execution_count": 3,
     "metadata": {},
     "output_type": "execute_result"
    }
   ],
   "source": [
    "tt_age.shape"
   ]
  },
  {
   "cell_type": "code",
   "execution_count": 4,
   "id": "40c134be",
   "metadata": {},
   "outputs": [
    {
     "data": {
      "text/html": [
       "<div>\n",
       "<style scoped>\n",
       "    .dataframe tbody tr th:only-of-type {\n",
       "        vertical-align: middle;\n",
       "    }\n",
       "\n",
       "    .dataframe tbody tr th {\n",
       "        vertical-align: top;\n",
       "    }\n",
       "\n",
       "    .dataframe thead th {\n",
       "        text-align: right;\n",
       "    }\n",
       "</style>\n",
       "<table border=\"1\" class=\"dataframe\">\n",
       "  <thead>\n",
       "    <tr style=\"text-align: right;\">\n",
       "      <th></th>\n",
       "      <th>tb_ageCat</th>\n",
       "      <th>tb_ageCatstr</th>\n",
       "      <th>foodcat_lvl1</th>\n",
       "      <th>category_description</th>\n",
       "      <th>food_code</th>\n",
       "      <th>drxfcsd</th>\n",
       "      <th>mean_ghg100</th>\n",
       "    </tr>\n",
       "  </thead>\n",
       "  <tbody>\n",
       "    <tr>\n",
       "      <th>0</th>\n",
       "      <td>2-17</td>\n",
       "      <td>1</td>\n",
       "      <td>Protein Foods</td>\n",
       "      <td>Cold cuts and cured meats</td>\n",
       "      <td>21602100</td>\n",
       "      <td>BEEF JERKY</td>\n",
       "      <td>5.404419</td>\n",
       "    </tr>\n",
       "    <tr>\n",
       "      <th>1</th>\n",
       "      <td>2-17</td>\n",
       "      <td>1</td>\n",
       "      <td>Protein Foods</td>\n",
       "      <td>Shellfish</td>\n",
       "      <td>26319110</td>\n",
       "      <td>SHRIMP, COOKED, NS AS TO COOKING METHOD</td>\n",
       "      <td>5.125374</td>\n",
       "    </tr>\n",
       "    <tr>\n",
       "      <th>2</th>\n",
       "      <td>2-17</td>\n",
       "      <td>1</td>\n",
       "      <td>Protein Foods</td>\n",
       "      <td>Shellfish</td>\n",
       "      <td>26319170</td>\n",
       "      <td>SHRIMP, DRIED</td>\n",
       "      <td>5.125374</td>\n",
       "    </tr>\n",
       "    <tr>\n",
       "      <th>3</th>\n",
       "      <td>2-17</td>\n",
       "      <td>1</td>\n",
       "      <td>Protein Foods</td>\n",
       "      <td>Shellfish</td>\n",
       "      <td>26305160</td>\n",
       "      <td>CRAB, HARD SHELL, STEAMED</td>\n",
       "      <td>5.125374</td>\n",
       "    </tr>\n",
       "    <tr>\n",
       "      <th>4</th>\n",
       "      <td>2-17</td>\n",
       "      <td>1</td>\n",
       "      <td>Protein Foods</td>\n",
       "      <td>Shellfish</td>\n",
       "      <td>26319130</td>\n",
       "      <td>SHRIMP, STEAMED OR BOILED</td>\n",
       "      <td>5.125374</td>\n",
       "    </tr>\n",
       "  </tbody>\n",
       "</table>\n",
       "</div>"
      ],
      "text/plain": [
       "  tb_ageCat  tb_ageCatstr   foodcat_lvl1       category_description  \\\n",
       "0      2-17             1  Protein Foods  Cold cuts and cured meats   \n",
       "1      2-17             1  Protein Foods                  Shellfish   \n",
       "2      2-17             1  Protein Foods                  Shellfish   \n",
       "3      2-17             1  Protein Foods                  Shellfish   \n",
       "4      2-17             1  Protein Foods                  Shellfish   \n",
       "\n",
       "   food_code                                  drxfcsd  mean_ghg100  \n",
       "0   21602100                               BEEF JERKY     5.404419  \n",
       "1   26319110  SHRIMP, COOKED, NS AS TO COOKING METHOD     5.125374  \n",
       "2   26319170                            SHRIMP, DRIED     5.125374  \n",
       "3   26305160                CRAB, HARD SHELL, STEAMED     5.125374  \n",
       "4   26319130                SHRIMP, STEAMED OR BOILED     5.125374  "
      ]
     },
     "execution_count": 4,
     "metadata": {},
     "output_type": "execute_result"
    }
   ],
   "source": [
    "tt_age.head()"
   ]
  },
  {
   "cell_type": "code",
   "execution_count": 5,
   "id": "663fe317",
   "metadata": {},
   "outputs": [],
   "source": [
    "tt_age = tt_age.sort_values(['mean_ghg100'],ascending=[False])"
   ]
  },
  {
   "cell_type": "code",
   "execution_count": 6,
   "id": "e4716987",
   "metadata": {},
   "outputs": [
    {
     "data": {
      "text/html": [
       "<div>\n",
       "<style scoped>\n",
       "    .dataframe tbody tr th:only-of-type {\n",
       "        vertical-align: middle;\n",
       "    }\n",
       "\n",
       "    .dataframe tbody tr th {\n",
       "        vertical-align: top;\n",
       "    }\n",
       "\n",
       "    .dataframe thead th {\n",
       "        text-align: right;\n",
       "    }\n",
       "</style>\n",
       "<table border=\"1\" class=\"dataframe\">\n",
       "  <thead>\n",
       "    <tr style=\"text-align: right;\">\n",
       "      <th></th>\n",
       "      <th>tb_ageCat</th>\n",
       "      <th>tb_ageCatstr</th>\n",
       "      <th>foodcat_lvl1</th>\n",
       "      <th>category_description</th>\n",
       "      <th>food_code</th>\n",
       "      <th>drxfcsd</th>\n",
       "      <th>mean_ghg100</th>\n",
       "    </tr>\n",
       "  </thead>\n",
       "  <tbody>\n",
       "    <tr>\n",
       "      <th>6926</th>\n",
       "      <td>40-59</td>\n",
       "      <td>6</td>\n",
       "      <td>Snacks and Sweets</td>\n",
       "      <td>Popcorn</td>\n",
       "      <td>54403092</td>\n",
       "      <td>POPCORN, READY-TO-EAT PACKAGED, OTHER FLAVORED</td>\n",
       "      <td>NaN</td>\n",
       "    </tr>\n",
       "    <tr>\n",
       "      <th>8907</th>\n",
       "      <td>60 and over</td>\n",
       "      <td>8</td>\n",
       "      <td>Mixed Dishes</td>\n",
       "      <td>Seafood mixed dishes</td>\n",
       "      <td>27450660</td>\n",
       "      <td>SHELLFISH MIXTURE AND VEGETABLES EXCLUDING CAR...</td>\n",
       "      <td>NaN</td>\n",
       "    </tr>\n",
       "    <tr>\n",
       "      <th>8908</th>\n",
       "      <td>60 and over</td>\n",
       "      <td>8</td>\n",
       "      <td>Snacks and Sweets</td>\n",
       "      <td>Candy not containing chocolate</td>\n",
       "      <td>91770020</td>\n",
       "      <td>DIETETIC OR LOW CALORIE HARD CANDY</td>\n",
       "      <td>NaN</td>\n",
       "    </tr>\n",
       "    <tr>\n",
       "      <th>8909</th>\n",
       "      <td>60 and over</td>\n",
       "      <td>8</td>\n",
       "      <td>Mixed Dishes</td>\n",
       "      <td>Burritos and tacos</td>\n",
       "      <td>58101325</td>\n",
       "      <td>TACO OR TOSTADA WITH MEAT AND SOUR CREAM</td>\n",
       "      <td>NaN</td>\n",
       "    </tr>\n",
       "    <tr>\n",
       "      <th>8910</th>\n",
       "      <td>60 and over</td>\n",
       "      <td>8</td>\n",
       "      <td>Mixed Dishes</td>\n",
       "      <td>Egg/breakfast sandwiches (single code)</td>\n",
       "      <td>32202035</td>\n",
       "      <td>EGG, EXTRA CHEESE, AND EXTRA SAUSAGE, ON BUN</td>\n",
       "      <td>NaN</td>\n",
       "    </tr>\n",
       "  </tbody>\n",
       "</table>\n",
       "</div>"
      ],
      "text/plain": [
       "        tb_ageCat  tb_ageCatstr       foodcat_lvl1  \\\n",
       "6926        40-59             6  Snacks and Sweets   \n",
       "8907  60 and over             8       Mixed Dishes   \n",
       "8908  60 and over             8  Snacks and Sweets   \n",
       "8909  60 and over             8       Mixed Dishes   \n",
       "8910  60 and over             8       Mixed Dishes   \n",
       "\n",
       "                        category_description  food_code  \\\n",
       "6926                                 Popcorn   54403092   \n",
       "8907                    Seafood mixed dishes   27450660   \n",
       "8908          Candy not containing chocolate   91770020   \n",
       "8909                      Burritos and tacos   58101325   \n",
       "8910  Egg/breakfast sandwiches (single code)   32202035   \n",
       "\n",
       "                                                drxfcsd  mean_ghg100  \n",
       "6926     POPCORN, READY-TO-EAT PACKAGED, OTHER FLAVORED          NaN  \n",
       "8907  SHELLFISH MIXTURE AND VEGETABLES EXCLUDING CAR...          NaN  \n",
       "8908                 DIETETIC OR LOW CALORIE HARD CANDY          NaN  \n",
       "8909           TACO OR TOSTADA WITH MEAT AND SOUR CREAM          NaN  \n",
       "8910       EGG, EXTRA CHEESE, AND EXTRA SAUSAGE, ON BUN          NaN  "
      ]
     },
     "execution_count": 6,
     "metadata": {},
     "output_type": "execute_result"
    }
   ],
   "source": [
    "tt_age.tail()"
   ]
  },
  {
   "cell_type": "code",
   "execution_count": 7,
   "id": "60046ba8",
   "metadata": {},
   "outputs": [
    {
     "data": {
      "text/plain": [
       "array(['Protein Foods', 'Mixed Dishes', 'Milk and Dairy',\n",
       "       'Snacks and Sweets', 'Beverages, Nonalcoholic'], dtype=object)"
      ]
     },
     "execution_count": 7,
     "metadata": {},
     "output_type": "execute_result"
    }
   ],
   "source": [
    "tt_age.foodcat_lvl1.unique()"
   ]
  },
  {
   "cell_type": "markdown",
   "id": "e2e91508",
   "metadata": {},
   "source": [
    "## Protein"
   ]
  },
  {
   "cell_type": "code",
   "execution_count": 8,
   "id": "93a95143",
   "metadata": {},
   "outputs": [],
   "source": [
    "ptage2 = (tt_age.loc[(tt_age['tb_ageCatstr']==1)&(tt_age['foodcat_lvl1']==\"Protein Foods\")]).loc[:,('drxfcsd')]\n",
    "ptage18 = (tt_age.loc[(tt_age['tb_ageCatstr']==4)&(tt_age['foodcat_lvl1']==\"Protein Foods\")]).loc[:,('drxfcsd')]\n",
    "ptage26 = (tt_age.loc[(tt_age['tb_ageCatstr']==5)&(tt_age['foodcat_lvl1']==\"Protein Foods\")]).loc[:,('drxfcsd')]\n",
    "ptage40 = (tt_age.loc[(tt_age['tb_ageCatstr']==6)&(tt_age['foodcat_lvl1']==\"Protein Foods\")]).loc[:,('drxfcsd')]\n",
    "ptage60 = (tt_age.loc[(tt_age['tb_ageCatstr']==8)&(tt_age['foodcat_lvl1']==\"Protein Foods\")]).loc[:,('drxfcsd')]"
   ]
  },
  {
   "cell_type": "code",
   "execution_count": 9,
   "id": "ac9a6205",
   "metadata": {},
   "outputs": [
    {
     "data": {
      "text/plain": [
       "0                                              BEEF JERKY\n",
       "1                 SHRIMP, COOKED, NS AS TO COOKING METHOD\n",
       "2                                           SHRIMP, DRIED\n",
       "4                               SHRIMP, STEAMED OR BOILED\n",
       "3                               CRAB, HARD SHELL, STEAMED\n",
       "                              ...                        \n",
       "1873    BLACK, BROWN, OR BAYO BEANS, DRY, COOKED, FAT ...\n",
       "1874    BLACK, BROWN, OR BAYO BEANS, CANNED, DRAINED, ...\n",
       "1875    PINTO, CALICO, OR RED MEXICAN BEANS, DRY, COOK...\n",
       "1876    PINTO, CALICO, OR RED MEXICAN BEANS, CANNED, D...\n",
       "1877    PINTO, CALICO, OR RED MEXICAN BEANS, CANNED, D...\n",
       "Name: drxfcsd, Length: 490, dtype: object"
      ]
     },
     "execution_count": 9,
     "metadata": {},
     "output_type": "execute_result"
    }
   ],
   "source": [
    "ptage2"
   ]
  },
  {
   "cell_type": "code",
   "execution_count": 10,
   "id": "ca6826f9",
   "metadata": {},
   "outputs": [],
   "source": [
    "app = xw.App()\n",
    "wb = xw.Book(\"/Users/clee/Dropbox/Aim 1/Writing/2015-16/FoodSubs.xlsx\")"
   ]
  },
  {
   "cell_type": "markdown",
   "id": "fe7143fc",
   "metadata": {},
   "source": [
    "wb.sheets.add('Intensity Protein')\n",
    "wb.sheets.add('Intensity Mixed Dishes')\n",
    "wb.sheets.add('Intensity Milk and Dairy')\n",
    "wb.sheets.add('Intensity Snacks and Sweets')\n",
    "wb.sheets.add('Intensity Beverages NA')"
   ]
  },
  {
   "cell_type": "code",
   "execution_count": 11,
   "id": "6704a168",
   "metadata": {},
   "outputs": [],
   "source": [
    "ttpt = wb.sheets['Intensity Protein']\n",
    "ttmd = wb.sheets['Intensity Mixed Dishes']\n",
    "ttmk = wb.sheets['Intensity Milk and Dairy']\n",
    "ttss = wb.sheets['Intensity Snacks and Sweets']\n",
    "ttbv = wb.sheets['Intensity Beverages NA']"
   ]
  },
  {
   "cell_type": "code",
   "execution_count": 12,
   "id": "b7ce0993",
   "metadata": {},
   "outputs": [],
   "source": [
    "ttpt.range('A1:M3').font.bold = True\n",
    "ttpt.range('A1').value = \"Supplemental Table 7. 100 highest ranked protein foods on consumed intensity of GHGE, overall and by demographic group\"\n",
    "ttpt.range('A3').value = \"Rank\"\n",
    "ttpt.range('B3').value = \"Overall\"\n",
    "ttpt.range('C3').value = \"Children, aged 2-17 years\"\n",
    "ttpt.range('D3').value = \"Emerging adults, aged 18-25 years\"\n",
    "ttpt.range('E3').value = \"Young adults, aged 26-39 years\"\n",
    "ttpt.range('F3').value = \"Middle adults, aged 40-59 years\"\n",
    "ttpt.range('G3').value = \"Older adults, aged 60+ years\"\n",
    "ttpt.range('H3').value = \"Men\"\n",
    "ttpt.range('I3').value = \"Women\"\n",
    "ttpt.range('J3').value = \"Non-Hispanic White\"\n",
    "ttpt.range('K3').value = \"Non-Hispanic Black\"\n",
    "ttpt.range('L3').value = \"Hispanic or Mexican American\"\n",
    "ttpt.range('M3').value = \"Other race\""
   ]
  },
  {
   "cell_type": "code",
   "execution_count": 13,
   "id": "a360f6bc",
   "metadata": {},
   "outputs": [],
   "source": [
    "#Write on a specific cell range with a specific range of DF\n",
    "ttpt.range('C4').options(index=False,header=False).value = ptage2.iloc[0:100]\n",
    "ttpt.range('D4').options(index=False,header=False).value = ptage18.iloc[0:100]\n",
    "ttpt.range('E4').options(index=False,header=False).value = ptage26.iloc[0:100]\n",
    "ttpt.range('F4').options(index=False,header=False).value = ptage40.iloc[0:100]\n",
    "ttpt.range('G4').options(index=False,header=False).value = ptage60.iloc[0:100]"
   ]
  },
  {
   "cell_type": "code",
   "execution_count": null,
   "id": "0627e57b",
   "metadata": {},
   "outputs": [],
   "source": []
  },
  {
   "cell_type": "markdown",
   "id": "f8313c81",
   "metadata": {},
   "source": [
    "## Mixed Dishes"
   ]
  },
  {
   "cell_type": "code",
   "execution_count": 14,
   "id": "30527302",
   "metadata": {},
   "outputs": [],
   "source": [
    "mdage2 = (tt_age.loc[(tt_age['tb_ageCatstr']==1)&(tt_age['foodcat_lvl1']==\"Mixed Dishes\")]).loc[:,('drxfcsd')]\n",
    "mdage18 = (tt_age.loc[(tt_age['tb_ageCatstr']==4)&(tt_age['foodcat_lvl1']==\"Mixed Dishes\")]).loc[:,('drxfcsd')]\n",
    "mdage26 = (tt_age.loc[(tt_age['tb_ageCatstr']==5)&(tt_age['foodcat_lvl1']==\"Mixed Dishes\")]).loc[:,('drxfcsd')]\n",
    "mdage40 = (tt_age.loc[(tt_age['tb_ageCatstr']==6)&(tt_age['foodcat_lvl1']==\"Mixed Dishes\")]).loc[:,('drxfcsd')]\n",
    "mdage60 = (tt_age.loc[(tt_age['tb_ageCatstr']==8)&(tt_age['foodcat_lvl1']==\"Mixed Dishes\")]).loc[:,('drxfcsd')]"
   ]
  },
  {
   "cell_type": "code",
   "execution_count": 15,
   "id": "03f582ae",
   "metadata": {},
   "outputs": [
    {
     "data": {
      "text/plain": [
       "12                                              CRAB CAKE\n",
       "53                                    SOFT TACO WITH FISH\n",
       "55                               BEEF WITH BARBECUE SAUCE\n",
       "57                                           SHRIMP SALAD\n",
       "61      DOUBLE HAMBURGER, 2 MEDIUM PATTIES, PLAIN, ON ...\n",
       "                              ...                        \n",
       "1865                                       RICE SOUP, NFS\n",
       "1872                              FISH STOCK, HOME RECIPE\n",
       "1880                               BEAN SOUP, HOME RECIPE\n",
       "1881                                 SOUP, MOSTLY NOODLES\n",
       "1950             TACO OR TOSTADA WITH MEAT AND SOUR CREAM\n",
       "Name: drxfcsd, Length: 691, dtype: object"
      ]
     },
     "execution_count": 15,
     "metadata": {},
     "output_type": "execute_result"
    }
   ],
   "source": [
    "mdage2"
   ]
  },
  {
   "cell_type": "code",
   "execution_count": 16,
   "id": "f797de8f",
   "metadata": {},
   "outputs": [],
   "source": [
    "ttmd.range('A1:M3').font.bold = True\n",
    "ttmd.range('A1').value = \"Supplemental Table 8. 100 highest ranked mixed dishes on consumed intensity of GHGE, overall and by demographic group\"\n",
    "ttmd.range('A3').value = \"Rank\"\n",
    "ttmd.range('B3').value = \"Overall\"\n",
    "ttmd.range('C3').value = \"Children, aged 2-17 years\"\n",
    "ttmd.range('D3').value = \"Emerging adults, aged 18-25 years\"\n",
    "ttmd.range('E3').value = \"Young adults, aged 26-39 years\"\n",
    "ttmd.range('F3').value = \"Middle adults, aged 40-59 years\"\n",
    "ttmd.range('G3').value = \"Older adults, aged 60+ years\"\n",
    "ttmd.range('H3').value = \"Men\"\n",
    "ttmd.range('I3').value = \"Women\"\n",
    "ttmd.range('J3').value = \"Non-Hispanic White\"\n",
    "ttmd.range('K3').value = \"Non-Hispanic Black\"\n",
    "ttmd.range('L3').value = \"Hispanic or Mexican American\"\n",
    "ttmd.range('M3').value = \"Other race\""
   ]
  },
  {
   "cell_type": "code",
   "execution_count": 17,
   "id": "901f63a4",
   "metadata": {},
   "outputs": [],
   "source": [
    "#Write on a specific cell range with a specific range of DF\n",
    "ttmd.range('C4').options(index=False,header=False).value = mdage2.iloc[0:100]\n",
    "ttmd.range('D4').options(index=False,header=False).value = mdage18.iloc[0:100]\n",
    "ttmd.range('E4').options(index=False,header=False).value = mdage26.iloc[0:100]\n",
    "ttmd.range('F4').options(index=False,header=False).value = mdage40.iloc[0:100]\n",
    "ttmd.range('G4').options(index=False,header=False).value = mdage60.iloc[0:100]"
   ]
  },
  {
   "cell_type": "code",
   "execution_count": null,
   "id": "20090ea1",
   "metadata": {},
   "outputs": [],
   "source": []
  },
  {
   "cell_type": "markdown",
   "id": "cc501472",
   "metadata": {},
   "source": [
    "## Milk & Dairy"
   ]
  },
  {
   "cell_type": "code",
   "execution_count": 18,
   "id": "9040e5e6",
   "metadata": {},
   "outputs": [],
   "source": [
    "mkage2 = (tt_age.loc[(tt_age['tb_ageCatstr']==1)&(tt_age['foodcat_lvl1']==\"Milk and Dairy\")]).loc[:,('drxfcsd')]\n",
    "mkage18 = (tt_age.loc[(tt_age['tb_ageCatstr']==4)&(tt_age['foodcat_lvl1']==\"Milk and Dairy\")]).loc[:,('drxfcsd')]\n",
    "mkage26 = (tt_age.loc[(tt_age['tb_ageCatstr']==5)&(tt_age['foodcat_lvl1']==\"Milk and Dairy\")]).loc[:,('drxfcsd')]\n",
    "mkage40 = (tt_age.loc[(tt_age['tb_ageCatstr']==6)&(tt_age['foodcat_lvl1']==\"Milk and Dairy\")]).loc[:,('drxfcsd')]\n",
    "mkage60 = (tt_age.loc[(tt_age['tb_ageCatstr']==8)&(tt_age['foodcat_lvl1']==\"Milk and Dairy\")]).loc[:,('drxfcsd')]"
   ]
  },
  {
   "cell_type": "code",
   "execution_count": 19,
   "id": "b91ccb52",
   "metadata": {},
   "outputs": [
    {
     "data": {
      "text/plain": [
       "179                   CHEESE, CHEDDAR\n",
       "178           CHEESE, MOZZARELLA, NFS\n",
       "177                CHEESE, COLBY JACK\n",
       "176                       CHEESE, NFS\n",
       "175     CHEESE, MOZZARELLA, PART SKIM\n",
       "                    ...              \n",
       "1691           ALMOND MILK, SWEETENED\n",
       "1779         ALMOND MILK, UNSWEETENED\n",
       "1809                 SOY MILK, NONFAT\n",
       "1810                  SOY MILK, LIGHT\n",
       "1811                         SOY MILK\n",
       "Name: drxfcsd, Length: 137, dtype: object"
      ]
     },
     "execution_count": 19,
     "metadata": {},
     "output_type": "execute_result"
    }
   ],
   "source": [
    "mkage2"
   ]
  },
  {
   "cell_type": "code",
   "execution_count": 20,
   "id": "e011ced7",
   "metadata": {},
   "outputs": [],
   "source": [
    "ttmk.range('A1:M3').font.bold = True\n",
    "ttmk.range('A1').value = \"Supplemental Table 9. 100 highest ranked milk and dairy foods on consumed intensity of GHGE, overall and by demographic group\"\n",
    "ttmk.range('A3').value = \"Rank\"\n",
    "ttmk.range('B3').value = \"Overall\"\n",
    "ttmk.range('C3').value = \"Children, aged 2-17 years\"\n",
    "ttmk.range('D3').value = \"Emerging adults, aged 18-25 years\"\n",
    "ttmk.range('E3').value = \"Young adults, aged 26-39 years\"\n",
    "ttmk.range('F3').value = \"Middle adults, aged 40-59 years\"\n",
    "ttmk.range('G3').value = \"Older adults, aged 60+ years\"\n",
    "ttmk.range('H3').value = \"Men\"\n",
    "ttmk.range('I3').value = \"Women\"\n",
    "ttmk.range('J3').value = \"Non-Hispanic White\"\n",
    "ttmk.range('K3').value = \"Non-Hispanic Black\"\n",
    "ttmk.range('L3').value = \"Hispanic or Mexican American\"\n",
    "ttmk.range('M3').value = \"Other race\""
   ]
  },
  {
   "cell_type": "code",
   "execution_count": 21,
   "id": "12ae8920",
   "metadata": {},
   "outputs": [],
   "source": [
    "#Write on a specific cell range with a specific range of DF\n",
    "ttmk.range('C4').options(index=False,header=False).value = mkage2.iloc[0:100]\n",
    "ttmk.range('D4').options(index=False,header=False).value = mkage18.iloc[0:100]\n",
    "ttmk.range('E4').options(index=False,header=False).value = mkage26.iloc[0:100]\n",
    "ttmk.range('F4').options(index=False,header=False).value = mkage40.iloc[0:100]\n",
    "ttmk.range('G4').options(index=False,header=False).value = mkage60.iloc[0:100]"
   ]
  },
  {
   "cell_type": "markdown",
   "id": "f4dbebe1",
   "metadata": {},
   "source": [
    "## Beverages NA"
   ]
  },
  {
   "cell_type": "code",
   "execution_count": 22,
   "id": "e57e7274",
   "metadata": {},
   "outputs": [],
   "source": [
    "bvage2 = (tt_age.loc[(tt_age['tb_ageCatstr']==1)&(tt_age['foodcat_lvl1']==\"Beverages, Nonalcoholic\")]).loc[:,('drxfcsd')]\n",
    "bvage18 = (tt_age.loc[(tt_age['tb_ageCatstr']==4)&(tt_age['foodcat_lvl1']==\"Beverages, Nonalcoholic\")]).loc[:,('drxfcsd')]\n",
    "bvage26 = (tt_age.loc[(tt_age['tb_ageCatstr']==5)&(tt_age['foodcat_lvl1']==\"Beverages, Nonalcoholic\")]).loc[:,('drxfcsd')]\n",
    "bvage40 = (tt_age.loc[(tt_age['tb_ageCatstr']==6)&(tt_age['foodcat_lvl1']==\"Beverages, Nonalcoholic\")]).loc[:,('drxfcsd')]\n",
    "bvage60 = (tt_age.loc[(tt_age['tb_ageCatstr']==8)&(tt_age['foodcat_lvl1']==\"Beverages, Nonalcoholic\")]).loc[:,('drxfcsd')]"
   ]
  },
  {
   "cell_type": "code",
   "execution_count": 23,
   "id": "478de06b",
   "metadata": {},
   "outputs": [
    {
     "data": {
      "text/plain": [
       "611           FRUIT AND VEGETABLE SMOOTHIE, ADDED PROTEIN\n",
       "804                            COCONUT WATER, UNSWEETENED\n",
       "984                                WATERMELON JUICE, 100%\n",
       "1070    FRUIT SMOOTHIE, WITH WHOLE FRUIT AND DAIRY, AD...\n",
       "1078                              POMEGRANATE JUICE, 100%\n",
       "                              ...                        \n",
       "1943                              FRUIT JUICE DRINK, DIET\n",
       "1944                             FRUIT JUICE DRINK, LIGHT\n",
       "1945                                  TEA, HOT, CHAMOMILE\n",
       "1946                                     TEA, HOT, HERBAL\n",
       "1947                                   TEA, HOT, HIBISCUS\n",
       "Name: drxfcsd, Length: 176, dtype: object"
      ]
     },
     "execution_count": 23,
     "metadata": {},
     "output_type": "execute_result"
    }
   ],
   "source": [
    "bvage2"
   ]
  },
  {
   "cell_type": "code",
   "execution_count": 24,
   "id": "acba58da",
   "metadata": {},
   "outputs": [],
   "source": [
    "ttbv.range('A1:M3').font.bold = True\n",
    "ttbv.range('A1').value = \"Supplemental Table 10. 100 highest ranked non-alcoholic beverages on consumed intensity of GHGE, overall and by demographic group\"\n",
    "ttbv.range('A3').value = \"Rank\"\n",
    "ttbv.range('B3').value = \"Overall\"\n",
    "ttbv.range('C3').value = \"Children, aged 2-17 years\"\n",
    "ttbv.range('D3').value = \"Emerging adults, aged 18-25 years\"\n",
    "ttbv.range('E3').value = \"Young adults, aged 26-39 years\"\n",
    "ttbv.range('F3').value = \"Middle adults, aged 40-59 years\"\n",
    "ttbv.range('G3').value = \"Older adults, aged 60+ years\"\n",
    "ttbv.range('H3').value = \"Men\"\n",
    "ttbv.range('I3').value = \"Women\"\n",
    "ttbv.range('J3').value = \"Non-Hispanic White\"\n",
    "ttbv.range('K3').value = \"Non-Hispanic Black\"\n",
    "ttbv.range('L3').value = \"Hispanic or Mexican American\"\n",
    "ttbv.range('M3').value = \"Other race\""
   ]
  },
  {
   "cell_type": "code",
   "execution_count": 25,
   "id": "41dc4a6d",
   "metadata": {},
   "outputs": [],
   "source": [
    "#Write on a specific cell range with a specific range of DF\n",
    "ttbv.range('C4').options(index=False,header=False).value = bvage2.iloc[0:100]\n",
    "ttbv.range('D4').options(index=False,header=False).value = bvage18.iloc[0:100]\n",
    "ttbv.range('E4').options(index=False,header=False).value = bvage26.iloc[0:100]\n",
    "ttbv.range('F4').options(index=False,header=False).value = bvage40.iloc[0:100]\n",
    "ttbv.range('G4').options(index=False,header=False).value = bvage60.iloc[0:100]"
   ]
  },
  {
   "cell_type": "markdown",
   "id": "112447f0",
   "metadata": {},
   "source": [
    "## Snacks & Sweets"
   ]
  },
  {
   "cell_type": "code",
   "execution_count": 26,
   "id": "8ba1a3f8",
   "metadata": {},
   "outputs": [],
   "source": [
    "ssage2 = (tt_age.loc[(tt_age['tb_ageCatstr']==1)&(tt_age['foodcat_lvl1']==\"Snacks and Sweets\")]).loc[:,('drxfcsd')]\n",
    "ssage18 = (tt_age.loc[(tt_age['tb_ageCatstr']==4)&(tt_age['foodcat_lvl1']==\"Snacks and Sweets\")]).loc[:,('drxfcsd')]\n",
    "ssage26 = (tt_age.loc[(tt_age['tb_ageCatstr']==5)&(tt_age['foodcat_lvl1']==\"Snacks and Sweets\")]).loc[:,('drxfcsd')]\n",
    "ssage40 = (tt_age.loc[(tt_age['tb_ageCatstr']==6)&(tt_age['foodcat_lvl1']==\"Snacks and Sweets\")]).loc[:,('drxfcsd')]\n",
    "ssage60 = (tt_age.loc[(tt_age['tb_ageCatstr']==8)&(tt_age['foodcat_lvl1']==\"Snacks and Sweets\")]).loc[:,('drxfcsd')]"
   ]
  },
  {
   "cell_type": "code",
   "execution_count": 27,
   "id": "2856abad",
   "metadata": {},
   "outputs": [
    {
     "data": {
      "text/plain": [
       "345                          CHOCOLATE, SEMI-SWEET MORSEL\n",
       "348                           MILK CHOCOLATE CANDY, PLAIN\n",
       "361                              CHOCOLATE, SWEET OR DARK\n",
       "363                                              TRUFFLES\n",
       "373     TOBLERONE, MILK CHOCOLATE WITH HONEY AND ALMON...\n",
       "                              ...                        \n",
       "1819    SWEET BREAD DOUGH, FILLED WITH BEAN PASTE, MEA...\n",
       "1835                                              ICE POP\n",
       "1928        ICE POP, SWEETENED WITH LOW CALORIE SWEETENER\n",
       "1948       POPCORN, READY-TO-EAT PACKAGED, OTHER FLAVORED\n",
       "1949                   DIETETIC OR LOW CALORIE HARD CANDY\n",
       "Name: drxfcsd, Length: 457, dtype: object"
      ]
     },
     "execution_count": 27,
     "metadata": {},
     "output_type": "execute_result"
    }
   ],
   "source": [
    "ssage2"
   ]
  },
  {
   "cell_type": "code",
   "execution_count": 28,
   "id": "d3a2df21",
   "metadata": {},
   "outputs": [],
   "source": [
    "ttss.range('A1:M3').font.bold = True\n",
    "ttss.range('A1').value = \"Supplemental Table 11. 100 highest ranked snacks and sweets on consumed intensity of GHGE, overall and by demographic group\"\n",
    "ttss.range('A3').value = \"Rank\"\n",
    "ttss.range('B3').value = \"Overall\"\n",
    "ttss.range('C3').value = \"Children, aged 2-17 years\"\n",
    "ttss.range('D3').value = \"Emerging adults, aged 18-25 years\"\n",
    "ttss.range('E3').value = \"Young adults, aged 26-39 years\"\n",
    "ttss.range('F3').value = \"Middle adults, aged 40-59 years\"\n",
    "ttss.range('G3').value = \"Older adults, aged 60+ years\"\n",
    "ttss.range('H3').value = \"Men\"\n",
    "ttss.range('I3').value = \"Women\"\n",
    "ttss.range('J3').value = \"Non-Hispanic White\"\n",
    "ttss.range('K3').value = \"Non-Hispanic Black\"\n",
    "ttss.range('L3').value = \"Hispanic or Mexican American\"\n",
    "ttss.range('M3').value = \"Other race\""
   ]
  },
  {
   "cell_type": "code",
   "execution_count": 29,
   "id": "2a242baa",
   "metadata": {},
   "outputs": [],
   "source": [
    "#Write on a specific cell range with a specific range of DF\n",
    "ttss.range('C4').options(index=False,header=False).value = ssage2.iloc[0:100]\n",
    "ttss.range('D4').options(index=False,header=False).value = ssage18.iloc[0:100]\n",
    "ttss.range('E4').options(index=False,header=False).value = ssage26.iloc[0:100]\n",
    "ttss.range('F4').options(index=False,header=False).value = ssage40.iloc[0:100]\n",
    "ttss.range('G4').options(index=False,header=False).value = ssage60.iloc[0:100]"
   ]
  },
  {
   "cell_type": "code",
   "execution_count": null,
   "id": "5e42c053",
   "metadata": {},
   "outputs": [],
   "source": []
  },
  {
   "cell_type": "markdown",
   "id": "92db3f2c",
   "metadata": {},
   "source": [
    "# GENDER"
   ]
  },
  {
   "cell_type": "code",
   "execution_count": 30,
   "id": "d47832f7",
   "metadata": {},
   "outputs": [],
   "source": [
    "tt_gd=pd.read_excel(\"/Users/clee/Dropbox/Aim 1/Analysis/Ranking/2015-16/ghg_intensity/by demo/Analysis_fdcodes-fdlvl3_ghg100g_by gender.xlsx\")"
   ]
  },
  {
   "cell_type": "code",
   "execution_count": 31,
   "id": "fc8ee3d4",
   "metadata": {},
   "outputs": [
    {
     "data": {
      "text/plain": [
       "(5258, 7)"
      ]
     },
     "execution_count": 31,
     "metadata": {},
     "output_type": "execute_result"
    }
   ],
   "source": [
    "tt_gd.shape"
   ]
  },
  {
   "cell_type": "code",
   "execution_count": 32,
   "id": "f4fee2ee",
   "metadata": {},
   "outputs": [
    {
     "data": {
      "text/html": [
       "<div>\n",
       "<style scoped>\n",
       "    .dataframe tbody tr th:only-of-type {\n",
       "        vertical-align: middle;\n",
       "    }\n",
       "\n",
       "    .dataframe tbody tr th {\n",
       "        vertical-align: top;\n",
       "    }\n",
       "\n",
       "    .dataframe thead th {\n",
       "        text-align: right;\n",
       "    }\n",
       "</style>\n",
       "<table border=\"1\" class=\"dataframe\">\n",
       "  <thead>\n",
       "    <tr style=\"text-align: right;\">\n",
       "      <th></th>\n",
       "      <th>genderCat</th>\n",
       "      <th>genderCatstr</th>\n",
       "      <th>foodcat_lvl1</th>\n",
       "      <th>category_description</th>\n",
       "      <th>food_code</th>\n",
       "      <th>drxfcsd</th>\n",
       "      <th>mean_ghg100</th>\n",
       "    </tr>\n",
       "  </thead>\n",
       "  <tbody>\n",
       "    <tr>\n",
       "      <th>0</th>\n",
       "      <td>Male</td>\n",
       "      <td>1</td>\n",
       "      <td>Protein Foods</td>\n",
       "      <td>Cold cuts and cured meats</td>\n",
       "      <td>21602100</td>\n",
       "      <td>BEEF JERKY</td>\n",
       "      <td>5.404419</td>\n",
       "    </tr>\n",
       "    <tr>\n",
       "      <th>1</th>\n",
       "      <td>Male</td>\n",
       "      <td>1</td>\n",
       "      <td>Protein Foods</td>\n",
       "      <td>Shellfish</td>\n",
       "      <td>26305110</td>\n",
       "      <td>CRAB, COOKED, NS AS TO COOKING METHOD</td>\n",
       "      <td>5.125374</td>\n",
       "    </tr>\n",
       "    <tr>\n",
       "      <th>2</th>\n",
       "      <td>Male</td>\n",
       "      <td>1</td>\n",
       "      <td>Protein Foods</td>\n",
       "      <td>Shellfish</td>\n",
       "      <td>26305160</td>\n",
       "      <td>CRAB, HARD SHELL, STEAMED</td>\n",
       "      <td>5.125374</td>\n",
       "    </tr>\n",
       "    <tr>\n",
       "      <th>3</th>\n",
       "      <td>Male</td>\n",
       "      <td>1</td>\n",
       "      <td>Protein Foods</td>\n",
       "      <td>Shellfish</td>\n",
       "      <td>26311110</td>\n",
       "      <td>LOBSTER, COOKED, NS AS TO COOKING METHOD</td>\n",
       "      <td>5.125374</td>\n",
       "    </tr>\n",
       "    <tr>\n",
       "      <th>4</th>\n",
       "      <td>Male</td>\n",
       "      <td>1</td>\n",
       "      <td>Protein Foods</td>\n",
       "      <td>Shellfish</td>\n",
       "      <td>26319170</td>\n",
       "      <td>SHRIMP, DRIED</td>\n",
       "      <td>5.125374</td>\n",
       "    </tr>\n",
       "  </tbody>\n",
       "</table>\n",
       "</div>"
      ],
      "text/plain": [
       "  genderCat  genderCatstr   foodcat_lvl1       category_description  \\\n",
       "0      Male             1  Protein Foods  Cold cuts and cured meats   \n",
       "1      Male             1  Protein Foods                  Shellfish   \n",
       "2      Male             1  Protein Foods                  Shellfish   \n",
       "3      Male             1  Protein Foods                  Shellfish   \n",
       "4      Male             1  Protein Foods                  Shellfish   \n",
       "\n",
       "   food_code                                   drxfcsd  mean_ghg100  \n",
       "0   21602100                                BEEF JERKY     5.404419  \n",
       "1   26305110     CRAB, COOKED, NS AS TO COOKING METHOD     5.125374  \n",
       "2   26305160                 CRAB, HARD SHELL, STEAMED     5.125374  \n",
       "3   26311110  LOBSTER, COOKED, NS AS TO COOKING METHOD     5.125374  \n",
       "4   26319170                             SHRIMP, DRIED     5.125374  "
      ]
     },
     "execution_count": 32,
     "metadata": {},
     "output_type": "execute_result"
    }
   ],
   "source": [
    "tt_gd.head()"
   ]
  },
  {
   "cell_type": "code",
   "execution_count": 33,
   "id": "2db2fd85",
   "metadata": {},
   "outputs": [],
   "source": [
    "tt_gd = tt_gd.sort_values(['mean_ghg100'],ascending=[False])"
   ]
  },
  {
   "cell_type": "code",
   "execution_count": 34,
   "id": "7222a7c3",
   "metadata": {},
   "outputs": [
    {
     "data": {
      "text/html": [
       "<div>\n",
       "<style scoped>\n",
       "    .dataframe tbody tr th:only-of-type {\n",
       "        vertical-align: middle;\n",
       "    }\n",
       "\n",
       "    .dataframe tbody tr th {\n",
       "        vertical-align: top;\n",
       "    }\n",
       "\n",
       "    .dataframe thead th {\n",
       "        text-align: right;\n",
       "    }\n",
       "</style>\n",
       "<table border=\"1\" class=\"dataframe\">\n",
       "  <thead>\n",
       "    <tr style=\"text-align: right;\">\n",
       "      <th></th>\n",
       "      <th>genderCat</th>\n",
       "      <th>genderCatstr</th>\n",
       "      <th>foodcat_lvl1</th>\n",
       "      <th>category_description</th>\n",
       "      <th>food_code</th>\n",
       "      <th>drxfcsd</th>\n",
       "      <th>mean_ghg100</th>\n",
       "    </tr>\n",
       "  </thead>\n",
       "  <tbody>\n",
       "    <tr>\n",
       "      <th>2606</th>\n",
       "      <td>Male</td>\n",
       "      <td>1</td>\n",
       "      <td>Mixed Dishes</td>\n",
       "      <td>Burritos and tacos</td>\n",
       "      <td>58101325</td>\n",
       "      <td>TACO OR TOSTADA WITH MEAT AND SOUR CREAM</td>\n",
       "      <td>NaN</td>\n",
       "    </tr>\n",
       "    <tr>\n",
       "      <th>5254</th>\n",
       "      <td>Female</td>\n",
       "      <td>2</td>\n",
       "      <td>Mixed Dishes</td>\n",
       "      <td>Egg/breakfast sandwiches (single code)</td>\n",
       "      <td>32202035</td>\n",
       "      <td>EGG, EXTRA CHEESE, AND EXTRA SAUSAGE, ON BUN</td>\n",
       "      <td>NaN</td>\n",
       "    </tr>\n",
       "    <tr>\n",
       "      <th>5255</th>\n",
       "      <td>Female</td>\n",
       "      <td>2</td>\n",
       "      <td>Mixed Dishes</td>\n",
       "      <td>Burritos and tacos</td>\n",
       "      <td>58101325</td>\n",
       "      <td>TACO OR TOSTADA WITH MEAT AND SOUR CREAM</td>\n",
       "      <td>NaN</td>\n",
       "    </tr>\n",
       "    <tr>\n",
       "      <th>5256</th>\n",
       "      <td>Female</td>\n",
       "      <td>2</td>\n",
       "      <td>Snacks and Sweets</td>\n",
       "      <td>Candy not containing chocolate</td>\n",
       "      <td>91770020</td>\n",
       "      <td>DIETETIC OR LOW CALORIE HARD CANDY</td>\n",
       "      <td>NaN</td>\n",
       "    </tr>\n",
       "    <tr>\n",
       "      <th>5257</th>\n",
       "      <td>Female</td>\n",
       "      <td>2</td>\n",
       "      <td>Snacks and Sweets</td>\n",
       "      <td>Popcorn</td>\n",
       "      <td>54403092</td>\n",
       "      <td>POPCORN, READY-TO-EAT PACKAGED, OTHER FLAVORED</td>\n",
       "      <td>NaN</td>\n",
       "    </tr>\n",
       "  </tbody>\n",
       "</table>\n",
       "</div>"
      ],
      "text/plain": [
       "     genderCat  genderCatstr       foodcat_lvl1  \\\n",
       "2606      Male             1       Mixed Dishes   \n",
       "5254    Female             2       Mixed Dishes   \n",
       "5255    Female             2       Mixed Dishes   \n",
       "5256    Female             2  Snacks and Sweets   \n",
       "5257    Female             2  Snacks and Sweets   \n",
       "\n",
       "                        category_description  food_code  \\\n",
       "2606                      Burritos and tacos   58101325   \n",
       "5254  Egg/breakfast sandwiches (single code)   32202035   \n",
       "5255                      Burritos and tacos   58101325   \n",
       "5256          Candy not containing chocolate   91770020   \n",
       "5257                                 Popcorn   54403092   \n",
       "\n",
       "                                             drxfcsd  mean_ghg100  \n",
       "2606        TACO OR TOSTADA WITH MEAT AND SOUR CREAM          NaN  \n",
       "5254    EGG, EXTRA CHEESE, AND EXTRA SAUSAGE, ON BUN          NaN  \n",
       "5255        TACO OR TOSTADA WITH MEAT AND SOUR CREAM          NaN  \n",
       "5256              DIETETIC OR LOW CALORIE HARD CANDY          NaN  \n",
       "5257  POPCORN, READY-TO-EAT PACKAGED, OTHER FLAVORED          NaN  "
      ]
     },
     "execution_count": 34,
     "metadata": {},
     "output_type": "execute_result"
    }
   ],
   "source": [
    "tt_gd.tail()"
   ]
  },
  {
   "cell_type": "code",
   "execution_count": 35,
   "id": "92841624",
   "metadata": {},
   "outputs": [
    {
     "data": {
      "text/plain": [
       "array(['Protein Foods', 'Mixed Dishes', 'Milk and Dairy',\n",
       "       'Snacks and Sweets', 'Beverages, Nonalcoholic'], dtype=object)"
      ]
     },
     "execution_count": 35,
     "metadata": {},
     "output_type": "execute_result"
    }
   ],
   "source": [
    "tt_gd.foodcat_lvl1.unique()"
   ]
  },
  {
   "cell_type": "markdown",
   "id": "24e2892f",
   "metadata": {},
   "source": [
    "## Protein"
   ]
  },
  {
   "cell_type": "code",
   "execution_count": 36,
   "id": "7b32b9ae",
   "metadata": {},
   "outputs": [],
   "source": [
    "ptgdm = (tt_gd.loc[(tt_gd['genderCatstr']==1)&(tt_gd['foodcat_lvl1']==\"Protein Foods\")]).loc[:,('drxfcsd')]\n",
    "ptgdf = (tt_gd.loc[(tt_gd['genderCatstr']==2)&(tt_gd['foodcat_lvl1']==\"Protein Foods\")]).loc[:,('drxfcsd')]"
   ]
  },
  {
   "cell_type": "code",
   "execution_count": 37,
   "id": "562d2980",
   "metadata": {},
   "outputs": [
    {
     "data": {
      "text/plain": [
       "2607                                           BEEF JERKY\n",
       "2609                CRAB, COOKED, NS AS TO COOKING METHOD\n",
       "2610                            CRAB, HARD SHELL, STEAMED\n",
       "2611                            SHRIMP, STEAMED OR BOILED\n",
       "2608                                        SHRIMP, DRIED\n",
       "                              ...                        \n",
       "5153    BLACK, BROWN, OR BAYO BEANS, CANNED, DRAINED, ...\n",
       "5155    LIMA BEANS, DRY, COOKED, FAT NOT ADDED IN COOKING\n",
       "5156    PINTO, CALICO, OR RED MEXICAN BEANS, DRY, COOK...\n",
       "5157    PINTO, CALICO, OR RED MEXICAN BEANS, CANNED, D...\n",
       "5158    PINTO, CALICO, OR RED MEXICAN BEANS, CANNED, D...\n",
       "Name: drxfcsd, Length: 722, dtype: object"
      ]
     },
     "execution_count": 37,
     "metadata": {},
     "output_type": "execute_result"
    }
   ],
   "source": [
    "ptgdf"
   ]
  },
  {
   "cell_type": "code",
   "execution_count": 38,
   "id": "d211b1a8",
   "metadata": {},
   "outputs": [],
   "source": [
    "#Write on a specific cell range with a specific range of DF\n",
    "ttpt.range('H4').options(index=False,header=False).value = ptgdm.iloc[0:100]\n",
    "ttpt.range('I4').options(index=False,header=False).value = ptgdf.iloc[0:100]"
   ]
  },
  {
   "cell_type": "markdown",
   "id": "745d5053",
   "metadata": {},
   "source": [
    "## Mixed Dishes"
   ]
  },
  {
   "cell_type": "code",
   "execution_count": 39,
   "id": "aca8a978",
   "metadata": {},
   "outputs": [],
   "source": [
    "mdgdm = (tt_gd.loc[(tt_gd['genderCatstr']==1)&(tt_gd['foodcat_lvl1']==\"Mixed Dishes\")]).loc[:,('drxfcsd')]\n",
    "mdgdf = (tt_gd.loc[(tt_gd['genderCatstr']==2)&(tt_gd['foodcat_lvl1']==\"Mixed Dishes\")]).loc[:,('drxfcsd')]"
   ]
  },
  {
   "cell_type": "code",
   "execution_count": 40,
   "id": "d50d99c4",
   "metadata": {},
   "outputs": [
    {
     "data": {
      "text/plain": [
       "23                                              CRAB CAKE\n",
       "63                                          STEAK TARTARE\n",
       "71                       BEEF, GROUND, WITH EGG AND ONION\n",
       "72                                        SHRIMP TERIYAKI\n",
       "74                                    SOFT TACO WITH FISH\n",
       "                              ...                        \n",
       "2520                                 SOUP, MOSTLY NOODLES\n",
       "2581    DARK-GREEN LEAFY VEGETABLE SOUP, MEATLESS, ASI...\n",
       "2603         EGG, EXTRA CHEESE, AND EXTRA SAUSAGE, ON BUN\n",
       "2604    SHELLFISH MIXTURE AND VEGETABLES EXCLUDING CAR...\n",
       "2606             TACO OR TOSTADA WITH MEAT AND SOUR CREAM\n",
       "Name: drxfcsd, Length: 969, dtype: object"
      ]
     },
     "execution_count": 40,
     "metadata": {},
     "output_type": "execute_result"
    }
   ],
   "source": [
    "mdgdm"
   ]
  },
  {
   "cell_type": "code",
   "execution_count": 41,
   "id": "9b491ea6",
   "metadata": {},
   "outputs": [],
   "source": [
    "#Write on a specific cell range with a specific range of DF\n",
    "ttmd.range('H4').options(index=False,header=False).value = mdgdm.iloc[0:100]\n",
    "ttmd.range('I4').options(index=False,header=False).value = mdgdf.iloc[0:100]"
   ]
  },
  {
   "cell_type": "markdown",
   "id": "960063cb",
   "metadata": {},
   "source": [
    "## Milk & Dairy"
   ]
  },
  {
   "cell_type": "code",
   "execution_count": 42,
   "id": "fe2a8698",
   "metadata": {},
   "outputs": [],
   "source": [
    "mkgdm = (tt_gd.loc[(tt_gd['genderCatstr']==1)&(tt_gd['foodcat_lvl1']==\"Milk and Dairy\")]).loc[:,('drxfcsd')]\n",
    "mkgdf = (tt_gd.loc[(tt_gd['genderCatstr']==2)&(tt_gd['foodcat_lvl1']==\"Milk and Dairy\")]).loc[:,('drxfcsd')]"
   ]
  },
  {
   "cell_type": "code",
   "execution_count": 43,
   "id": "14d42522",
   "metadata": {},
   "outputs": [
    {
     "data": {
      "text/plain": [
       "2839    CHEESE SPREAD, AMERICAN OR CHEDDAR CHEESE BASE\n",
       "2846                     CHEESE, MOZZARELLA, PART SKIM\n",
       "2847                                 CHEESE, PROVOLONE\n",
       "2838                      CHEESE, PARMESAN, DRY GRATED\n",
       "2844                           CHEESE, MOZZARELLA, NFS\n",
       "                             ...                      \n",
       "5013                          ALMOND MILK, UNSWEETENED\n",
       "5020                                         RICE MILK\n",
       "5053                                          SOY MILK\n",
       "5054                                  SOY MILK, NONFAT\n",
       "5055                                   SOY MILK, LIGHT\n",
       "Name: drxfcsd, Length: 160, dtype: object"
      ]
     },
     "execution_count": 43,
     "metadata": {},
     "output_type": "execute_result"
    }
   ],
   "source": [
    "mkgdf"
   ]
  },
  {
   "cell_type": "code",
   "execution_count": 44,
   "id": "15007a2d",
   "metadata": {},
   "outputs": [],
   "source": [
    "#Write on a specific cell range with a specific range of DF\n",
    "ttmk.range('H4').options(index=False,header=False).value = mkgdm.iloc[0:100]\n",
    "ttmk.range('I4').options(index=False,header=False).value = mkgdf.iloc[0:100]"
   ]
  },
  {
   "cell_type": "markdown",
   "id": "de0ed2c2",
   "metadata": {},
   "source": [
    "## Beverages NA"
   ]
  },
  {
   "cell_type": "code",
   "execution_count": 45,
   "id": "940792c9",
   "metadata": {},
   "outputs": [],
   "source": [
    "bvgdm = (tt_gd.loc[(tt_gd['genderCatstr']==1)&(tt_gd['foodcat_lvl1']==\"Beverages, Nonalcoholic\")]).loc[:,('drxfcsd')]\n",
    "bvgdf = (tt_gd.loc[(tt_gd['genderCatstr']==2)&(tt_gd['foodcat_lvl1']==\"Beverages, Nonalcoholic\")]).loc[:,('drxfcsd')]"
   ]
  },
  {
   "cell_type": "code",
   "execution_count": 46,
   "id": "a0230fb9",
   "metadata": {},
   "outputs": [
    {
     "data": {
      "text/plain": [
       "3442    FRUIT AND VEGETABLE SMOOTHIE, ADDED PROTEIN\n",
       "3694                     COCONUT WATER, UNSWEETENED\n",
       "3730                       COCONUT WATER, SWEETENED\n",
       "3847        COFFEE, CAFE MOCHA, WITH NON-DAIRY MILK\n",
       "3935                         WATERMELON JUICE, 100%\n",
       "                           ...                     \n",
       "5249                        FRUIT JUICE DRINK, DIET\n",
       "5250                       FRUIT JUICE DRINK, LIGHT\n",
       "5251                               TEA, HOT, HERBAL\n",
       "5252                            TEA, HOT, CHAMOMILE\n",
       "5253                             TEA, HOT, HIBISCUS\n",
       "Name: drxfcsd, Length: 238, dtype: object"
      ]
     },
     "execution_count": 46,
     "metadata": {},
     "output_type": "execute_result"
    }
   ],
   "source": [
    "bvgdf"
   ]
  },
  {
   "cell_type": "code",
   "execution_count": 47,
   "id": "d757e603",
   "metadata": {},
   "outputs": [],
   "source": [
    "#Write on a specific cell range with a specific range of DF\n",
    "ttbv.range('H4').options(index=False,header=False).value = bvgdm.iloc[0:100]\n",
    "ttbv.range('I4').options(index=False,header=False).value = bvgdf.iloc[0:100]"
   ]
  },
  {
   "cell_type": "markdown",
   "id": "1d5419b2",
   "metadata": {},
   "source": [
    "## Snacks & Sweets"
   ]
  },
  {
   "cell_type": "code",
   "execution_count": 48,
   "id": "644c5e40",
   "metadata": {},
   "outputs": [],
   "source": [
    "ssgdm = (tt_gd.loc[(tt_gd['genderCatstr']==1)&(tt_gd['foodcat_lvl1']==\"Snacks and Sweets\")]).loc[:,('drxfcsd')]\n",
    "ssgdf = (tt_gd.loc[(tt_gd['genderCatstr']==2)&(tt_gd['foodcat_lvl1']==\"Snacks and Sweets\")]).loc[:,('drxfcsd')]"
   ]
  },
  {
   "cell_type": "code",
   "execution_count": 49,
   "id": "349227dc",
   "metadata": {},
   "outputs": [
    {
     "data": {
      "text/plain": [
       "3078                         CHOCOLATE, SEMI-SWEET MORSEL\n",
       "3081                          MILK CHOCOLATE CANDY, PLAIN\n",
       "3098                             CHOCOLATE, SWEET OR DARK\n",
       "3099                                             TRUFFLES\n",
       "3110    TOBLERONE, MILK CHOCOLATE WITH HONEY AND ALMON...\n",
       "                              ...                        \n",
       "5066    SWEET BREAD DOUGH, FILLED WITH BEAN PASTE, MEA...\n",
       "5094                                              ICE POP\n",
       "5230        ICE POP, SWEETENED WITH LOW CALORIE SWEETENER\n",
       "5256                   DIETETIC OR LOW CALORIE HARD CANDY\n",
       "5257       POPCORN, READY-TO-EAT PACKAGED, OTHER FLAVORED\n",
       "Name: drxfcsd, Length: 564, dtype: object"
      ]
     },
     "execution_count": 49,
     "metadata": {},
     "output_type": "execute_result"
    }
   ],
   "source": [
    "ssgdf"
   ]
  },
  {
   "cell_type": "code",
   "execution_count": 50,
   "id": "c9233fd5",
   "metadata": {},
   "outputs": [],
   "source": [
    "#Write on a specific cell range with a specific range of DF\n",
    "ttss.range('H4').options(index=False,header=False).value = ssgdm.iloc[0:100]\n",
    "ttss.range('I4').options(index=False,header=False).value = ssgdf.iloc[0:100]"
   ]
  },
  {
   "cell_type": "code",
   "execution_count": null,
   "id": "3b829ab0",
   "metadata": {},
   "outputs": [],
   "source": []
  },
  {
   "cell_type": "markdown",
   "id": "e3a38a20",
   "metadata": {},
   "source": [
    "# RACE"
   ]
  },
  {
   "cell_type": "code",
   "execution_count": 51,
   "id": "d5eb980a",
   "metadata": {},
   "outputs": [],
   "source": [
    "tt_rc=pd.read_excel(\"/Users/clee/Dropbox/Aim 1/Analysis/Ranking/2015-16/ghg_intensity/by demo/Analysis_fdcodes-fdlvl3_ghg100g_by race.xlsx\")"
   ]
  },
  {
   "cell_type": "code",
   "execution_count": 52,
   "id": "85211ac2",
   "metadata": {},
   "outputs": [
    {
     "data": {
      "text/plain": [
       "(7561, 7)"
      ]
     },
     "execution_count": 52,
     "metadata": {},
     "output_type": "execute_result"
    }
   ],
   "source": [
    "tt_rc.shape"
   ]
  },
  {
   "cell_type": "code",
   "execution_count": 53,
   "id": "4c031ca0",
   "metadata": {},
   "outputs": [
    {
     "data": {
      "text/html": [
       "<div>\n",
       "<style scoped>\n",
       "    .dataframe tbody tr th:only-of-type {\n",
       "        vertical-align: middle;\n",
       "    }\n",
       "\n",
       "    .dataframe tbody tr th {\n",
       "        vertical-align: top;\n",
       "    }\n",
       "\n",
       "    .dataframe thead th {\n",
       "        text-align: right;\n",
       "    }\n",
       "</style>\n",
       "<table border=\"1\" class=\"dataframe\">\n",
       "  <thead>\n",
       "    <tr style=\"text-align: right;\">\n",
       "      <th></th>\n",
       "      <th>raceCat</th>\n",
       "      <th>raceCatstr</th>\n",
       "      <th>foodcat_lvl1</th>\n",
       "      <th>category_description</th>\n",
       "      <th>food_code</th>\n",
       "      <th>drxfcsd</th>\n",
       "      <th>mean_ghg100</th>\n",
       "    </tr>\n",
       "  </thead>\n",
       "  <tbody>\n",
       "    <tr>\n",
       "      <th>0</th>\n",
       "      <td>Non-Hispanic White</td>\n",
       "      <td>1</td>\n",
       "      <td>Protein Foods</td>\n",
       "      <td>Cold cuts and cured meats</td>\n",
       "      <td>21602100</td>\n",
       "      <td>BEEF JERKY</td>\n",
       "      <td>5.404419</td>\n",
       "    </tr>\n",
       "    <tr>\n",
       "      <th>1</th>\n",
       "      <td>Non-Hispanic White</td>\n",
       "      <td>1</td>\n",
       "      <td>Protein Foods</td>\n",
       "      <td>Shellfish</td>\n",
       "      <td>26319130</td>\n",
       "      <td>SHRIMP, STEAMED OR BOILED</td>\n",
       "      <td>5.125374</td>\n",
       "    </tr>\n",
       "    <tr>\n",
       "      <th>2</th>\n",
       "      <td>Non-Hispanic White</td>\n",
       "      <td>1</td>\n",
       "      <td>Protein Foods</td>\n",
       "      <td>Shellfish</td>\n",
       "      <td>26319170</td>\n",
       "      <td>SHRIMP, DRIED</td>\n",
       "      <td>5.125374</td>\n",
       "    </tr>\n",
       "    <tr>\n",
       "      <th>3</th>\n",
       "      <td>Non-Hispanic White</td>\n",
       "      <td>1</td>\n",
       "      <td>Protein Foods</td>\n",
       "      <td>Shellfish</td>\n",
       "      <td>26319110</td>\n",
       "      <td>SHRIMP, COOKED, NS AS TO COOKING METHOD</td>\n",
       "      <td>5.125374</td>\n",
       "    </tr>\n",
       "    <tr>\n",
       "      <th>4</th>\n",
       "      <td>Non-Hispanic White</td>\n",
       "      <td>1</td>\n",
       "      <td>Protein Foods</td>\n",
       "      <td>Shellfish</td>\n",
       "      <td>26305160</td>\n",
       "      <td>CRAB, HARD SHELL, STEAMED</td>\n",
       "      <td>5.125374</td>\n",
       "    </tr>\n",
       "  </tbody>\n",
       "</table>\n",
       "</div>"
      ],
      "text/plain": [
       "              raceCat  raceCatstr   foodcat_lvl1       category_description  \\\n",
       "0  Non-Hispanic White           1  Protein Foods  Cold cuts and cured meats   \n",
       "1  Non-Hispanic White           1  Protein Foods                  Shellfish   \n",
       "2  Non-Hispanic White           1  Protein Foods                  Shellfish   \n",
       "3  Non-Hispanic White           1  Protein Foods                  Shellfish   \n",
       "4  Non-Hispanic White           1  Protein Foods                  Shellfish   \n",
       "\n",
       "   food_code                                  drxfcsd  mean_ghg100  \n",
       "0   21602100                               BEEF JERKY     5.404419  \n",
       "1   26319130                SHRIMP, STEAMED OR BOILED     5.125374  \n",
       "2   26319170                            SHRIMP, DRIED     5.125374  \n",
       "3   26319110  SHRIMP, COOKED, NS AS TO COOKING METHOD     5.125374  \n",
       "4   26305160                CRAB, HARD SHELL, STEAMED     5.125374  "
      ]
     },
     "execution_count": 53,
     "metadata": {},
     "output_type": "execute_result"
    }
   ],
   "source": [
    "tt_rc.head()"
   ]
  },
  {
   "cell_type": "code",
   "execution_count": 54,
   "id": "efd8a693",
   "metadata": {},
   "outputs": [],
   "source": [
    "tt_rc = tt_rc.sort_values(['mean_ghg100'],ascending=[False])"
   ]
  },
  {
   "cell_type": "code",
   "execution_count": 55,
   "id": "95064eed",
   "metadata": {},
   "outputs": [
    {
     "data": {
      "text/html": [
       "<div>\n",
       "<style scoped>\n",
       "    .dataframe tbody tr th:only-of-type {\n",
       "        vertical-align: middle;\n",
       "    }\n",
       "\n",
       "    .dataframe tbody tr th {\n",
       "        vertical-align: top;\n",
       "    }\n",
       "\n",
       "    .dataframe thead th {\n",
       "        text-align: right;\n",
       "    }\n",
       "</style>\n",
       "<table border=\"1\" class=\"dataframe\">\n",
       "  <thead>\n",
       "    <tr style=\"text-align: right;\">\n",
       "      <th></th>\n",
       "      <th>raceCat</th>\n",
       "      <th>raceCatstr</th>\n",
       "      <th>foodcat_lvl1</th>\n",
       "      <th>category_description</th>\n",
       "      <th>food_code</th>\n",
       "      <th>drxfcsd</th>\n",
       "      <th>mean_ghg100</th>\n",
       "    </tr>\n",
       "  </thead>\n",
       "  <tbody>\n",
       "    <tr>\n",
       "      <th>5922</th>\n",
       "      <td>Mexican American and other Hispanic</td>\n",
       "      <td>3</td>\n",
       "      <td>Mixed Dishes</td>\n",
       "      <td>Egg/breakfast sandwiches (single code)</td>\n",
       "      <td>32202035</td>\n",
       "      <td>EGG, EXTRA CHEESE, AND EXTRA SAUSAGE, ON BUN</td>\n",
       "      <td>NaN</td>\n",
       "    </tr>\n",
       "    <tr>\n",
       "      <th>5923</th>\n",
       "      <td>Mexican American and other Hispanic</td>\n",
       "      <td>3</td>\n",
       "      <td>Snacks and Sweets</td>\n",
       "      <td>Popcorn</td>\n",
       "      <td>54403092</td>\n",
       "      <td>POPCORN, READY-TO-EAT PACKAGED, OTHER FLAVORED</td>\n",
       "      <td>NaN</td>\n",
       "    </tr>\n",
       "    <tr>\n",
       "      <th>5924</th>\n",
       "      <td>Mexican American and other Hispanic</td>\n",
       "      <td>3</td>\n",
       "      <td>Mixed Dishes</td>\n",
       "      <td>Burritos and tacos</td>\n",
       "      <td>58101325</td>\n",
       "      <td>TACO OR TOSTADA WITH MEAT AND SOUR CREAM</td>\n",
       "      <td>NaN</td>\n",
       "    </tr>\n",
       "    <tr>\n",
       "      <th>7559</th>\n",
       "      <td>Other Race</td>\n",
       "      <td>4</td>\n",
       "      <td>Snacks and Sweets</td>\n",
       "      <td>Popcorn</td>\n",
       "      <td>54403092</td>\n",
       "      <td>POPCORN, READY-TO-EAT PACKAGED, OTHER FLAVORED</td>\n",
       "      <td>NaN</td>\n",
       "    </tr>\n",
       "    <tr>\n",
       "      <th>7560</th>\n",
       "      <td>Other Race</td>\n",
       "      <td>4</td>\n",
       "      <td>Snacks and Sweets</td>\n",
       "      <td>Candy not containing chocolate</td>\n",
       "      <td>91770020</td>\n",
       "      <td>DIETETIC OR LOW CALORIE HARD CANDY</td>\n",
       "      <td>NaN</td>\n",
       "    </tr>\n",
       "  </tbody>\n",
       "</table>\n",
       "</div>"
      ],
      "text/plain": [
       "                                  raceCat  raceCatstr       foodcat_lvl1  \\\n",
       "5922  Mexican American and other Hispanic           3       Mixed Dishes   \n",
       "5923  Mexican American and other Hispanic           3  Snacks and Sweets   \n",
       "5924  Mexican American and other Hispanic           3       Mixed Dishes   \n",
       "7559                           Other Race           4  Snacks and Sweets   \n",
       "7560                           Other Race           4  Snacks and Sweets   \n",
       "\n",
       "                        category_description  food_code  \\\n",
       "5922  Egg/breakfast sandwiches (single code)   32202035   \n",
       "5923                                 Popcorn   54403092   \n",
       "5924                      Burritos and tacos   58101325   \n",
       "7559                                 Popcorn   54403092   \n",
       "7560          Candy not containing chocolate   91770020   \n",
       "\n",
       "                                             drxfcsd  mean_ghg100  \n",
       "5922    EGG, EXTRA CHEESE, AND EXTRA SAUSAGE, ON BUN          NaN  \n",
       "5923  POPCORN, READY-TO-EAT PACKAGED, OTHER FLAVORED          NaN  \n",
       "5924        TACO OR TOSTADA WITH MEAT AND SOUR CREAM          NaN  \n",
       "7559  POPCORN, READY-TO-EAT PACKAGED, OTHER FLAVORED          NaN  \n",
       "7560              DIETETIC OR LOW CALORIE HARD CANDY          NaN  "
      ]
     },
     "execution_count": 55,
     "metadata": {},
     "output_type": "execute_result"
    }
   ],
   "source": [
    "tt_rc.tail()"
   ]
  },
  {
   "cell_type": "code",
   "execution_count": 56,
   "id": "7610ebfb",
   "metadata": {},
   "outputs": [
    {
     "data": {
      "text/plain": [
       "array(['Protein Foods', 'Mixed Dishes', 'Milk and Dairy',\n",
       "       'Snacks and Sweets', 'Beverages, Nonalcoholic'], dtype=object)"
      ]
     },
     "execution_count": 56,
     "metadata": {},
     "output_type": "execute_result"
    }
   ],
   "source": [
    "tt_rc.foodcat_lvl1.unique()"
   ]
  },
  {
   "cell_type": "markdown",
   "id": "77b6a535",
   "metadata": {},
   "source": [
    "## Protein"
   ]
  },
  {
   "cell_type": "code",
   "execution_count": 57,
   "id": "d264bdd5",
   "metadata": {},
   "outputs": [],
   "source": [
    "ptrcw = (tt_rc.loc[(tt_rc['raceCatstr']==1)&(tt_rc['foodcat_lvl1']==\"Protein Foods\")]).loc[:,('drxfcsd')]\n",
    "ptrcb = (tt_rc.loc[(tt_rc['raceCatstr']==2)&(tt_rc['foodcat_lvl1']==\"Protein Foods\")]).loc[:,('drxfcsd')]\n",
    "ptrch = (tt_rc.loc[(tt_rc['raceCatstr']==3)&(tt_rc['foodcat_lvl1']==\"Protein Foods\")]).loc[:,('drxfcsd')]\n",
    "ptrco = (tt_rc.loc[(tt_rc['raceCatstr']==4)&(tt_rc['foodcat_lvl1']==\"Protein Foods\")]).loc[:,('drxfcsd')]"
   ]
  },
  {
   "cell_type": "code",
   "execution_count": 58,
   "id": "533df63f",
   "metadata": {},
   "outputs": [
    {
     "data": {
      "text/plain": [
       "5925                                           BEEF JERKY\n",
       "5929              SHRIMP, COOKED, NS AS TO COOKING METHOD\n",
       "5928                                        SHRIMP, DRIED\n",
       "5927                            CRAB, HARD SHELL, STEAMED\n",
       "5926                            SHRIMP, STEAMED OR BOILED\n",
       "                              ...                        \n",
       "7484                                   PUMPKIN SEEDS, NFS\n",
       "7485                                PUMPKIN SEEDS, SALTED\n",
       "7486                              PUMPKIN SEEDS, UNSALTED\n",
       "7487    BLACK, BROWN, OR BAYO BEANS, DRY, COOKED, FAT ...\n",
       "7488    BLACK, BROWN, OR BAYO BEANS, CANNED, DRAINED, ...\n",
       "Name: drxfcsd, Length: 454, dtype: object"
      ]
     },
     "execution_count": 58,
     "metadata": {},
     "output_type": "execute_result"
    }
   ],
   "source": [
    "ptrco"
   ]
  },
  {
   "cell_type": "code",
   "execution_count": 59,
   "id": "c70b4c87",
   "metadata": {},
   "outputs": [],
   "source": [
    "#Write on a specific cell range with a specific range of DF\n",
    "ttpt.range('J4').options(index=False,header=False).value = ptrcw.iloc[0:100]\n",
    "ttpt.range('K4').options(index=False,header=False).value = ptrcb.iloc[0:100]\n",
    "ttpt.range('L4').options(index=False,header=False).value = ptrch.iloc[0:100]\n",
    "ttpt.range('M4').options(index=False,header=False).value = ptrco.iloc[0:100]"
   ]
  },
  {
   "cell_type": "markdown",
   "id": "027e2664",
   "metadata": {},
   "source": [
    "## Mixed Dishes"
   ]
  },
  {
   "cell_type": "code",
   "execution_count": 60,
   "id": "2a695f2c",
   "metadata": {},
   "outputs": [],
   "source": [
    "mdrcw = (tt_rc.loc[(tt_rc['raceCatstr']==1)&(tt_rc['foodcat_lvl1']==\"Mixed Dishes\")]).loc[:,('drxfcsd')]\n",
    "mdrcb = (tt_rc.loc[(tt_rc['raceCatstr']==2)&(tt_rc['foodcat_lvl1']==\"Mixed Dishes\")]).loc[:,('drxfcsd')]\n",
    "mdrch = (tt_rc.loc[(tt_rc['raceCatstr']==3)&(tt_rc['foodcat_lvl1']==\"Mixed Dishes\")]).loc[:,('drxfcsd')]\n",
    "mdrco = (tt_rc.loc[(tt_rc['raceCatstr']==4)&(tt_rc['foodcat_lvl1']==\"Mixed Dishes\")]).loc[:,('drxfcsd')]"
   ]
  },
  {
   "cell_type": "code",
   "execution_count": 61,
   "id": "caeef9ae",
   "metadata": {},
   "outputs": [
    {
     "data": {
      "text/plain": [
       "5942                                            CRAB CAKE\n",
       "5970                            SHRIMP WITH CRAB STUFFING\n",
       "5972                                        STEAK TARTARE\n",
       "5979                                      SHRIMP TERIYAKI\n",
       "5980                                  SOFT TACO WITH FISH\n",
       "                              ...                        \n",
       "7483                                   ONION SOUP, FRENCH\n",
       "7490                               BEAN SOUP, HOME RECIPE\n",
       "7491                                 SOUP, MOSTLY NOODLES\n",
       "7492    CHICKEN OR TURKEY BROTH, LESS OR REDUCED SODIU...\n",
       "7541    DARK-GREEN LEAFY VEGETABLE SOUP, MEATLESS, ASI...\n",
       "Name: drxfcsd, Length: 545, dtype: object"
      ]
     },
     "execution_count": 61,
     "metadata": {},
     "output_type": "execute_result"
    }
   ],
   "source": [
    "mdrco"
   ]
  },
  {
   "cell_type": "code",
   "execution_count": 62,
   "id": "3f3bb304",
   "metadata": {},
   "outputs": [],
   "source": [
    "#Write on a specific cell range with a specific range of DF\n",
    "ttmd.range('J4').options(index=False,header=False).value = mdrcw.iloc[0:100]\n",
    "ttmd.range('K4').options(index=False,header=False).value = mdrcb.iloc[0:100]\n",
    "ttmd.range('L4').options(index=False,header=False).value = mdrch.iloc[0:100]\n",
    "ttmd.range('M4').options(index=False,header=False).value = mdrco.iloc[0:100]"
   ]
  },
  {
   "cell_type": "code",
   "execution_count": null,
   "id": "55654d33",
   "metadata": {},
   "outputs": [],
   "source": []
  },
  {
   "cell_type": "markdown",
   "id": "bd60e5ec",
   "metadata": {},
   "source": [
    "## Milk & Dairy"
   ]
  },
  {
   "cell_type": "code",
   "execution_count": 63,
   "id": "1a9b78fd",
   "metadata": {},
   "outputs": [],
   "source": [
    "mkrcw = (tt_rc.loc[(tt_rc['raceCatstr']==1)&(tt_rc['foodcat_lvl1']==\"Milk and Dairy\")]).loc[:,('drxfcsd')]\n",
    "mkrcb = (tt_rc.loc[(tt_rc['raceCatstr']==2)&(tt_rc['foodcat_lvl1']==\"Milk and Dairy\")]).loc[:,('drxfcsd')]\n",
    "mkrch = (tt_rc.loc[(tt_rc['raceCatstr']==3)&(tt_rc['foodcat_lvl1']==\"Milk and Dairy\")]).loc[:,('drxfcsd')]\n",
    "mkrco = (tt_rc.loc[(tt_rc['raceCatstr']==4)&(tt_rc['foodcat_lvl1']==\"Milk and Dairy\")]).loc[:,('drxfcsd')]"
   ]
  },
  {
   "cell_type": "code",
   "execution_count": 64,
   "id": "6356272e",
   "metadata": {},
   "outputs": [
    {
     "data": {
      "text/plain": [
       "6058                      CHEESE, NFS\n",
       "6059    CHEESE, MOZZARELLA, PART SKIM\n",
       "6060                  CHEESE, CHEDDAR\n",
       "6061                 CHEESE, AMERICAN\n",
       "6063          CHEESE, MOZZARELLA, NFS\n",
       "                    ...              \n",
       "7318           ALMOND MILK, SWEETENED\n",
       "7392         ALMOND MILK, UNSWEETENED\n",
       "7416                  SOY MILK, LIGHT\n",
       "7417                 SOY MILK, NONFAT\n",
       "7418                         SOY MILK\n",
       "Name: drxfcsd, Length: 106, dtype: object"
      ]
     },
     "execution_count": 64,
     "metadata": {},
     "output_type": "execute_result"
    }
   ],
   "source": [
    "mkrco"
   ]
  },
  {
   "cell_type": "code",
   "execution_count": 65,
   "id": "cd95219d",
   "metadata": {},
   "outputs": [],
   "source": [
    "#Write on a specific cell range with a specific range of DF\n",
    "ttmk.range('J4').options(index=False,header=False).value = mkrcw.iloc[0:100]\n",
    "ttmk.range('K4').options(index=False,header=False).value = mkrcb.iloc[0:100]\n",
    "ttmk.range('L4').options(index=False,header=False).value = mkrch.iloc[0:100]\n",
    "ttmk.range('M4').options(index=False,header=False).value = mkrco.iloc[0:100]"
   ]
  },
  {
   "cell_type": "markdown",
   "id": "03786ef0",
   "metadata": {},
   "source": [
    "## Beverages NA"
   ]
  },
  {
   "cell_type": "code",
   "execution_count": 66,
   "id": "8fce8520",
   "metadata": {},
   "outputs": [],
   "source": [
    "bvrcw = (tt_rc.loc[(tt_rc['raceCatstr']==1)&(tt_rc['foodcat_lvl1']==\"Beverages, Nonalcoholic\")]).loc[:,('drxfcsd')]\n",
    "bvrcb = (tt_rc.loc[(tt_rc['raceCatstr']==2)&(tt_rc['foodcat_lvl1']==\"Beverages, Nonalcoholic\")]).loc[:,('drxfcsd')]\n",
    "bvrch = (tt_rc.loc[(tt_rc['raceCatstr']==3)&(tt_rc['foodcat_lvl1']==\"Beverages, Nonalcoholic\")]).loc[:,('drxfcsd')]\n",
    "bvrco = (tt_rc.loc[(tt_rc['raceCatstr']==4)&(tt_rc['foodcat_lvl1']==\"Beverages, Nonalcoholic\")]).loc[:,('drxfcsd')]"
   ]
  },
  {
   "cell_type": "code",
   "execution_count": 67,
   "id": "88f67344",
   "metadata": {},
   "outputs": [
    {
     "data": {
      "text/plain": [
       "6418          FRUIT AND VEGETABLE SMOOTHIE, ADDED PROTEIN\n",
       "6578                           COCONUT WATER, UNSWEETENED\n",
       "6599                             COCONUT WATER, SWEETENED\n",
       "6723                               WATERMELON JUICE, 100%\n",
       "6794    FRUIT SMOOTHIE, WITH WHOLE FRUIT AND DAIRY, AD...\n",
       "                              ...                        \n",
       "7554                                      CEREAL BEVERAGE\n",
       "7556                             FRUIT JUICE DRINK, LIGHT\n",
       "7555                              FRUIT JUICE DRINK, DIET\n",
       "7557                                  TEA, HOT, CHAMOMILE\n",
       "7558                                     TEA, HOT, HERBAL\n",
       "Name: drxfcsd, Length: 169, dtype: object"
      ]
     },
     "execution_count": 67,
     "metadata": {},
     "output_type": "execute_result"
    }
   ],
   "source": [
    "bvrco"
   ]
  },
  {
   "cell_type": "code",
   "execution_count": 68,
   "id": "32a78393",
   "metadata": {},
   "outputs": [],
   "source": [
    "#Write on a specific cell range with a specific range of DF\n",
    "ttbv.range('J4').options(index=False,header=False).value = bvrcw.iloc[0:100]\n",
    "ttbv.range('K4').options(index=False,header=False).value = bvrcb.iloc[0:100]\n",
    "ttbv.range('L4').options(index=False,header=False).value = bvrch.iloc[0:100]\n",
    "ttbv.range('M4').options(index=False,header=False).value = bvrco.iloc[0:100]"
   ]
  },
  {
   "cell_type": "markdown",
   "id": "3c12d861",
   "metadata": {},
   "source": [
    "## Snacks & Sweets"
   ]
  },
  {
   "cell_type": "code",
   "execution_count": 69,
   "id": "4de10600",
   "metadata": {},
   "outputs": [],
   "source": [
    "ssrcw = (tt_rc.loc[(tt_rc['raceCatstr']==1)&(tt_rc['foodcat_lvl1']==\"Snacks and Sweets\")]).loc[:,('drxfcsd')]\n",
    "ssrcb = (tt_rc.loc[(tt_rc['raceCatstr']==2)&(tt_rc['foodcat_lvl1']==\"Snacks and Sweets\")]).loc[:,('drxfcsd')]\n",
    "ssrch = (tt_rc.loc[(tt_rc['raceCatstr']==3)&(tt_rc['foodcat_lvl1']==\"Snacks and Sweets\")]).loc[:,('drxfcsd')]\n",
    "ssrco = (tt_rc.loc[(tt_rc['raceCatstr']==4)&(tt_rc['foodcat_lvl1']==\"Snacks and Sweets\")]).loc[:,('drxfcsd')]"
   ]
  },
  {
   "cell_type": "code",
   "execution_count": 70,
   "id": "7d0e2bae",
   "metadata": {},
   "outputs": [
    {
     "data": {
      "text/plain": [
       "6198                         CHOCOLATE, SEMI-SWEET MORSEL\n",
       "6199                          MILK CHOCOLATE CANDY, PLAIN\n",
       "6213                             CHOCOLATE, SWEET OR DARK\n",
       "6215                                             TRUFFLES\n",
       "6221    TOBLERONE, MILK CHOCOLATE WITH HONEY AND ALMON...\n",
       "                              ...                        \n",
       "7403                                           PITA CHIPS\n",
       "7427    SWEET BREAD DOUGH, FILLED WITH BEAN PASTE, MEA...\n",
       "7444                                              ICE POP\n",
       "7559       POPCORN, READY-TO-EAT PACKAGED, OTHER FLAVORED\n",
       "7560                   DIETETIC OR LOW CALORIE HARD CANDY\n",
       "Name: drxfcsd, Length: 362, dtype: object"
      ]
     },
     "execution_count": 70,
     "metadata": {},
     "output_type": "execute_result"
    }
   ],
   "source": [
    "ssrco"
   ]
  },
  {
   "cell_type": "code",
   "execution_count": 71,
   "id": "50b6c023",
   "metadata": {},
   "outputs": [],
   "source": [
    "#Write on a specific cell range with a specific range of DF\n",
    "ttss.range('J4').options(index=False,header=False).value = ssrcw.iloc[0:100]\n",
    "ttss.range('K4').options(index=False,header=False).value = ssrcb.iloc[0:100]\n",
    "ttss.range('L4').options(index=False,header=False).value = ssrch.iloc[0:100]\n",
    "ttss.range('M4').options(index=False,header=False).value = ssrco.iloc[0:100]"
   ]
  },
  {
   "cell_type": "code",
   "execution_count": null,
   "id": "7c100958",
   "metadata": {},
   "outputs": [],
   "source": []
  },
  {
   "cell_type": "markdown",
   "id": "00e7e5a3",
   "metadata": {},
   "source": [
    "# OVERALL"
   ]
  },
  {
   "cell_type": "code",
   "execution_count": 72,
   "id": "8a02d300",
   "metadata": {},
   "outputs": [],
   "source": [
    "tt_ov=pd.read_excel(\"/Users/clee/Dropbox/Aim 1/Analysis/Ranking/2015-16/ghg_intensity/Analysis_foodcodes_ghg.xlsx\")"
   ]
  },
  {
   "cell_type": "code",
   "execution_count": 73,
   "id": "d936738a",
   "metadata": {},
   "outputs": [
    {
     "data": {
      "text/plain": [
       "(4882, 7)"
      ]
     },
     "execution_count": 73,
     "metadata": {},
     "output_type": "execute_result"
    }
   ],
   "source": [
    "tt_ov.shape"
   ]
  },
  {
   "cell_type": "code",
   "execution_count": 74,
   "id": "50501586",
   "metadata": {},
   "outputs": [
    {
     "data": {
      "text/html": [
       "<div>\n",
       "<style scoped>\n",
       "    .dataframe tbody tr th:only-of-type {\n",
       "        vertical-align: middle;\n",
       "    }\n",
       "\n",
       "    .dataframe tbody tr th {\n",
       "        vertical-align: top;\n",
       "    }\n",
       "\n",
       "    .dataframe thead th {\n",
       "        text-align: right;\n",
       "    }\n",
       "</style>\n",
       "<table border=\"1\" class=\"dataframe\">\n",
       "  <thead>\n",
       "    <tr style=\"text-align: right;\">\n",
       "      <th></th>\n",
       "      <th>foodcat_lvl1</th>\n",
       "      <th>food_code</th>\n",
       "      <th>drxfcsd</th>\n",
       "      <th>mean_ghg100</th>\n",
       "      <th>med_ghg100</th>\n",
       "      <th>sd_ghg100</th>\n",
       "      <th>freq</th>\n",
       "    </tr>\n",
       "  </thead>\n",
       "  <tbody>\n",
       "    <tr>\n",
       "      <th>0</th>\n",
       "      <td>Protein Foods</td>\n",
       "      <td>21602100</td>\n",
       "      <td>BEEF JERKY</td>\n",
       "      <td>5.404419</td>\n",
       "      <td>5.404419</td>\n",
       "      <td>3.590310e-15</td>\n",
       "      <td>48</td>\n",
       "    </tr>\n",
       "    <tr>\n",
       "      <th>1</th>\n",
       "      <td>Protein Foods</td>\n",
       "      <td>26319170</td>\n",
       "      <td>SHRIMP, DRIED</td>\n",
       "      <td>5.125374</td>\n",
       "      <td>5.125374</td>\n",
       "      <td>0.000000e+00</td>\n",
       "      <td>5</td>\n",
       "    </tr>\n",
       "    <tr>\n",
       "      <th>2</th>\n",
       "      <td>Protein Foods</td>\n",
       "      <td>26305110</td>\n",
       "      <td>CRAB, COOKED, NS AS TO COOKING METHOD</td>\n",
       "      <td>5.125374</td>\n",
       "      <td>5.125374</td>\n",
       "      <td>0.000000e+00</td>\n",
       "      <td>3</td>\n",
       "    </tr>\n",
       "    <tr>\n",
       "      <th>3</th>\n",
       "      <td>Protein Foods</td>\n",
       "      <td>26311110</td>\n",
       "      <td>LOBSTER, COOKED, NS AS TO COOKING METHOD</td>\n",
       "      <td>5.125374</td>\n",
       "      <td>5.125374</td>\n",
       "      <td>NaN</td>\n",
       "      <td>1</td>\n",
       "    </tr>\n",
       "    <tr>\n",
       "      <th>4</th>\n",
       "      <td>Protein Foods</td>\n",
       "      <td>26305160</td>\n",
       "      <td>CRAB, HARD SHELL, STEAMED</td>\n",
       "      <td>5.125374</td>\n",
       "      <td>5.125374</td>\n",
       "      <td>9.193520e-16</td>\n",
       "      <td>15</td>\n",
       "    </tr>\n",
       "  </tbody>\n",
       "</table>\n",
       "</div>"
      ],
      "text/plain": [
       "    foodcat_lvl1  food_code                                   drxfcsd  \\\n",
       "0  Protein Foods   21602100                                BEEF JERKY   \n",
       "1  Protein Foods   26319170                             SHRIMP, DRIED   \n",
       "2  Protein Foods   26305110     CRAB, COOKED, NS AS TO COOKING METHOD   \n",
       "3  Protein Foods   26311110  LOBSTER, COOKED, NS AS TO COOKING METHOD   \n",
       "4  Protein Foods   26305160                 CRAB, HARD SHELL, STEAMED   \n",
       "\n",
       "   mean_ghg100  med_ghg100     sd_ghg100  freq  \n",
       "0     5.404419    5.404419  3.590310e-15    48  \n",
       "1     5.125374    5.125374  0.000000e+00     5  \n",
       "2     5.125374    5.125374  0.000000e+00     3  \n",
       "3     5.125374    5.125374           NaN     1  \n",
       "4     5.125374    5.125374  9.193520e-16    15  "
      ]
     },
     "execution_count": 74,
     "metadata": {},
     "output_type": "execute_result"
    }
   ],
   "source": [
    "tt_ov.head()"
   ]
  },
  {
   "cell_type": "code",
   "execution_count": 75,
   "id": "a21a12c6",
   "metadata": {},
   "outputs": [],
   "source": [
    "tt_ov = tt_ov.sort_values(['mean_ghg100'],ascending=[False])"
   ]
  },
  {
   "cell_type": "code",
   "execution_count": 76,
   "id": "6cc1c377",
   "metadata": {},
   "outputs": [
    {
     "data": {
      "text/html": [
       "<div>\n",
       "<style scoped>\n",
       "    .dataframe tbody tr th:only-of-type {\n",
       "        vertical-align: middle;\n",
       "    }\n",
       "\n",
       "    .dataframe tbody tr th {\n",
       "        vertical-align: top;\n",
       "    }\n",
       "\n",
       "    .dataframe thead th {\n",
       "        text-align: right;\n",
       "    }\n",
       "</style>\n",
       "<table border=\"1\" class=\"dataframe\">\n",
       "  <thead>\n",
       "    <tr style=\"text-align: right;\">\n",
       "      <th></th>\n",
       "      <th>foodcat_lvl1</th>\n",
       "      <th>food_code</th>\n",
       "      <th>drxfcsd</th>\n",
       "      <th>mean_ghg100</th>\n",
       "      <th>med_ghg100</th>\n",
       "      <th>sd_ghg100</th>\n",
       "      <th>freq</th>\n",
       "    </tr>\n",
       "  </thead>\n",
       "  <tbody>\n",
       "    <tr>\n",
       "      <th>4877</th>\n",
       "      <td>Sugars</td>\n",
       "      <td>91200005</td>\n",
       "      <td>SUGAR SUBSTITUTE, LIQUID, NFS</td>\n",
       "      <td>NaN</td>\n",
       "      <td>NaN</td>\n",
       "      <td>NaN</td>\n",
       "      <td>1</td>\n",
       "    </tr>\n",
       "    <tr>\n",
       "      <th>4878</th>\n",
       "      <td>Infant Formula &amp; Baby Food</td>\n",
       "      <td>57806200</td>\n",
       "      <td>OATMEAL CEREAL WITH FRUIT, BABY FOOD, DRY, INS...</td>\n",
       "      <td>NaN</td>\n",
       "      <td>NaN</td>\n",
       "      <td>NaN</td>\n",
       "      <td>1</td>\n",
       "    </tr>\n",
       "    <tr>\n",
       "      <th>4879</th>\n",
       "      <td>Sugars</td>\n",
       "      <td>91106010</td>\n",
       "      <td>SUGAR SUBSTITUTE AND SUGAR BLEND</td>\n",
       "      <td>NaN</td>\n",
       "      <td>NaN</td>\n",
       "      <td>NaN</td>\n",
       "      <td>1</td>\n",
       "    </tr>\n",
       "    <tr>\n",
       "      <th>4880</th>\n",
       "      <td>Infant Formula &amp; Baby Food</td>\n",
       "      <td>67105030</td>\n",
       "      <td>BANANAS, BABY FOOD, STRAINED</td>\n",
       "      <td>NaN</td>\n",
       "      <td>NaN</td>\n",
       "      <td>NaN</td>\n",
       "      <td>1</td>\n",
       "    </tr>\n",
       "    <tr>\n",
       "      <th>4881</th>\n",
       "      <td>Infant Formula &amp; Baby Food</td>\n",
       "      <td>76201020</td>\n",
       "      <td>CARROTS, BABY FOOD, JUNIOR</td>\n",
       "      <td>NaN</td>\n",
       "      <td>NaN</td>\n",
       "      <td>NaN</td>\n",
       "      <td>1</td>\n",
       "    </tr>\n",
       "  </tbody>\n",
       "</table>\n",
       "</div>"
      ],
      "text/plain": [
       "                    foodcat_lvl1  food_code  \\\n",
       "4877                      Sugars   91200005   \n",
       "4878  Infant Formula & Baby Food   57806200   \n",
       "4879                      Sugars   91106010   \n",
       "4880  Infant Formula & Baby Food   67105030   \n",
       "4881  Infant Formula & Baby Food   76201020   \n",
       "\n",
       "                                                drxfcsd  mean_ghg100  \\\n",
       "4877                      SUGAR SUBSTITUTE, LIQUID, NFS          NaN   \n",
       "4878  OATMEAL CEREAL WITH FRUIT, BABY FOOD, DRY, INS...          NaN   \n",
       "4879                   SUGAR SUBSTITUTE AND SUGAR BLEND          NaN   \n",
       "4880                       BANANAS, BABY FOOD, STRAINED          NaN   \n",
       "4881                         CARROTS, BABY FOOD, JUNIOR          NaN   \n",
       "\n",
       "      med_ghg100  sd_ghg100  freq  \n",
       "4877         NaN        NaN     1  \n",
       "4878         NaN        NaN     1  \n",
       "4879         NaN        NaN     1  \n",
       "4880         NaN        NaN     1  \n",
       "4881         NaN        NaN     1  "
      ]
     },
     "execution_count": 76,
     "metadata": {},
     "output_type": "execute_result"
    }
   ],
   "source": [
    "tt_ov.tail()"
   ]
  },
  {
   "cell_type": "code",
   "execution_count": 77,
   "id": "a5c8ec35",
   "metadata": {},
   "outputs": [
    {
     "data": {
      "text/plain": [
       "array(['Protein Foods', 'Mixed Dishes', 'Other', 'Fats and Oils',\n",
       "       'Milk and Dairy', 'Condiments and Sauces', 'Vegetables', 'Sugars',\n",
       "       'Snacks and Sweets', 'Fruit', 'Beverages, Nonalcoholic', 'Grains',\n",
       "       'Alcoholic Beverages', 'Water', 'Infant Formula & Baby Food'],\n",
       "      dtype=object)"
      ]
     },
     "execution_count": 77,
     "metadata": {},
     "output_type": "execute_result"
    }
   ],
   "source": [
    "tt_ov.foodcat_lvl1.unique()"
   ]
  },
  {
   "cell_type": "markdown",
   "id": "eeed87dc",
   "metadata": {},
   "source": [
    "## 5 categories"
   ]
  },
  {
   "cell_type": "code",
   "execution_count": 78,
   "id": "48d9ead6",
   "metadata": {},
   "outputs": [],
   "source": [
    "pt = (tt_ov.loc[tt_ov['foodcat_lvl1']==\"Protein Foods\"]).loc[:,('drxfcsd')]\n",
    "md = (tt_ov.loc[tt_ov['foodcat_lvl1']==\"Mixed Dishes\"]).loc[:,('drxfcsd')]\n",
    "mk = (tt_ov.loc[tt_ov['foodcat_lvl1']==\"Milk and Dairy\"]).loc[:,('drxfcsd')]\n",
    "bv = (tt_ov.loc[tt_ov['foodcat_lvl1']==\"Beverages, Nonalcoholic\"]).loc[:,('drxfcsd')]\n",
    "ss = (tt_ov.loc[tt_ov['foodcat_lvl1']==\"Snacks and Sweets\"]).loc[:,('drxfcsd')]"
   ]
  },
  {
   "cell_type": "code",
   "execution_count": 79,
   "id": "9985cd31",
   "metadata": {},
   "outputs": [
    {
     "data": {
      "text/plain": [
       "28                                              CRAB CAKE\n",
       "75                              SHRIMP WITH CRAB STUFFING\n",
       "77                                          STEAK TARTARE\n",
       "87                       BEEF, GROUND, WITH EGG AND ONION\n",
       "89                                        SHRIMP TERIYAKI\n",
       "                              ...                        \n",
       "4775    DARK-GREEN LEAFY VEGETABLE SOUP, MEATLESS, ASI...\n",
       "4779    LIQUID FROM STEWED KIDNEY BEANS, PUERTO RICAN ...\n",
       "4812             TACO OR TOSTADA WITH MEAT AND SOUR CREAM\n",
       "4835         EGG, EXTRA CHEESE, AND EXTRA SAUSAGE, ON BUN\n",
       "4852    SHELLFISH MIXTURE AND VEGETABLES EXCLUDING CAR...\n",
       "Name: drxfcsd, Length: 1181, dtype: object"
      ]
     },
     "execution_count": 79,
     "metadata": {},
     "output_type": "execute_result"
    }
   ],
   "source": [
    "md"
   ]
  },
  {
   "cell_type": "code",
   "execution_count": 80,
   "id": "d2f1d502",
   "metadata": {},
   "outputs": [],
   "source": [
    "#Write on a specific cell range with a specific range of DF\n",
    "ttpt.range('B4').options(index=False,header=False).value = pt.iloc[0:100]\n",
    "ttmd.range('B4').options(index=False,header=False).value = md.iloc[0:100]\n",
    "ttmk.range('B4').options(index=False,header=False).value = mk.iloc[0:100]\n",
    "ttbv.range('B4').options(index=False,header=False).value = bv.iloc[0:100]\n",
    "ttss.range('B4').options(index=False,header=False).value = ss.iloc[0:100]"
   ]
  },
  {
   "cell_type": "code",
   "execution_count": 81,
   "id": "c40a4aec",
   "metadata": {},
   "outputs": [
    {
     "name": "stdout",
     "output_type": "stream",
     "text": [
      "[1, 2, 3, 4, 5, 6, 7, 8, 9, 10, 11, 12, 13, 14, 15, 16, 17, 18, 19, 20, 21, 22, 23, 24, 25, 26, 27, 28, 29, 30, 31, 32, 33, 34, 35, 36, 37, 38, 39, 40, 41, 42, 43, 44, 45, 46, 47, 48, 49, 50, 51, 52, 53, 54, 55, 56, 57, 58, 59, 60, 61, 62, 63, 64, 65, 66, 67, 68, 69, 70, 71, 72, 73, 74, 75, 76, 77, 78, 79, 80, 81, 82, 83, 84, 85, 86, 87, 88, 89, 90, 91, 92, 93, 94, 95, 96, 97, 98, 99, 100]\n"
     ]
    }
   ],
   "source": [
    "rk = list(range(1,101))\n",
    "print(rk)"
   ]
  },
  {
   "cell_type": "code",
   "execution_count": 82,
   "id": "bd877eaf",
   "metadata": {},
   "outputs": [],
   "source": [
    "#Write list 1-100 on 1st column (need to transpose)\n",
    "ttpt.range('A4').options(index=False,header=False,transpose=True).value = rk\n",
    "ttmd.range('A4').options(index=False,header=False,transpose=True).value = rk\n",
    "ttmk.range('A4').options(index=False,header=False,transpose=True).value = rk\n",
    "ttbv.range('A4').options(index=False,header=False,transpose=True).value = rk\n",
    "ttss.range('A4').options(index=False,header=False,transpose=True).value = rk"
   ]
  },
  {
   "cell_type": "code",
   "execution_count": 84,
   "id": "db73f846",
   "metadata": {},
   "outputs": [],
   "source": [
    "wb.save()"
   ]
  },
  {
   "cell_type": "code",
   "execution_count": null,
   "id": "0b305bc1",
   "metadata": {},
   "outputs": [],
   "source": []
  }
 ],
 "metadata": {
  "kernelspec": {
   "display_name": "Python 3 (ipykernel)",
   "language": "python",
   "name": "python3"
  },
  "language_info": {
   "codemirror_mode": {
    "name": "ipython",
    "version": 3
   },
   "file_extension": ".py",
   "mimetype": "text/x-python",
   "name": "python",
   "nbconvert_exporter": "python",
   "pygments_lexer": "ipython3",
   "version": "3.9.7"
  }
 },
 "nbformat": 4,
 "nbformat_minor": 5
}
