{
 "cells": [
  {
   "cell_type": "code",
   "execution_count": 1,
   "id": "4d7eabfd",
   "metadata": {},
   "outputs": [],
   "source": [
    "import pandas as pd\n",
    "import xlwings as xw"
   ]
  },
  {
   "cell_type": "code",
   "execution_count": 2,
   "id": "0eb33979",
   "metadata": {},
   "outputs": [],
   "source": [
    "bv=pd.read_excel(\"/Users/clee/Dropbox/Aim 1/Analysis/Ranking/2015-16/overlap/Beverages_RankedOverlap.xlsx\")\n",
    "mk=pd.read_excel(\"/Users/clee/Dropbox/Aim 1/Analysis/Ranking/2015-16/overlap/Milk_RankedOverlap.xlsx\")\n",
    "md=pd.read_excel(\"/Users/clee/Dropbox/Aim 1/Analysis/Ranking/2015-16/overlap/MxDishes_RankedOverlap.xlsx\")\n",
    "pt=pd.read_excel(\"/Users/clee/Dropbox/Aim 1/Analysis/Ranking/2015-16/overlap/Protein_RankedOverlap.xlsx\")\n",
    "ss=pd.read_excel(\"/Users/clee/Dropbox/Aim 1/Analysis/Ranking/2015-16/overlap/Snacks_RankedOverlap.xlsx\")"
   ]
  },
  {
   "cell_type": "code",
   "execution_count": 3,
   "id": "45fea4e3",
   "metadata": {},
   "outputs": [
    {
     "name": "stdout",
     "output_type": "stream",
     "text": [
      "(55, 7) (60, 7) (26, 7) (47, 7) (27, 7)\n"
     ]
    }
   ],
   "source": [
    "print(bv.shape, mk.shape, md.shape, pt.shape, ss.shape)"
   ]
  },
  {
   "cell_type": "code",
   "execution_count": 4,
   "id": "40c134be",
   "metadata": {},
   "outputs": [
    {
     "data": {
      "text/html": [
       "<div>\n",
       "<style scoped>\n",
       "    .dataframe tbody tr th:only-of-type {\n",
       "        vertical-align: middle;\n",
       "    }\n",
       "\n",
       "    .dataframe tbody tr th {\n",
       "        vertical-align: top;\n",
       "    }\n",
       "\n",
       "    .dataframe thead th {\n",
       "        text-align: right;\n",
       "    }\n",
       "</style>\n",
       "<table border=\"1\" class=\"dataframe\">\n",
       "  <thead>\n",
       "    <tr style=\"text-align: right;\">\n",
       "      <th></th>\n",
       "      <th>food_code</th>\n",
       "      <th>description</th>\n",
       "      <th>total_ghg</th>\n",
       "      <th>mean_ghg100</th>\n",
       "      <th>total_kg</th>\n",
       "      <th>rank_total_ghg</th>\n",
       "      <th>rank_ghg100</th>\n",
       "    </tr>\n",
       "  </thead>\n",
       "  <tbody>\n",
       "    <tr>\n",
       "      <th>0</th>\n",
       "      <td>64104010</td>\n",
       "      <td>APPLE JUICE, 100%</td>\n",
       "      <td>4.621987e+06</td>\n",
       "      <td>0.150353</td>\n",
       "      <td>3.074098e+06</td>\n",
       "      <td>2</td>\n",
       "      <td>30</td>\n",
       "    </tr>\n",
       "    <tr>\n",
       "      <th>1</th>\n",
       "      <td>64100200</td>\n",
       "      <td>CRANBERRY JUICE BLEND, 100% JUICE</td>\n",
       "      <td>1.838320e+06</td>\n",
       "      <td>0.177228</td>\n",
       "      <td>1.037260e+06</td>\n",
       "      <td>4</td>\n",
       "      <td>24</td>\n",
       "    </tr>\n",
       "    <tr>\n",
       "      <th>2</th>\n",
       "      <td>11553110</td>\n",
       "      <td>FRUIT SMOOTHIE, WITH WHOLE FRUIT AND DAIRY</td>\n",
       "      <td>1.776120e+06</td>\n",
       "      <td>0.143608</td>\n",
       "      <td>1.236782e+06</td>\n",
       "      <td>6</td>\n",
       "      <td>32</td>\n",
       "    </tr>\n",
       "    <tr>\n",
       "      <th>3</th>\n",
       "      <td>64100110</td>\n",
       "      <td>FRUIT JUICE BLEND, 100% JUICE</td>\n",
       "      <td>1.609322e+06</td>\n",
       "      <td>0.161357</td>\n",
       "      <td>9.973691e+05</td>\n",
       "      <td>7</td>\n",
       "      <td>25</td>\n",
       "    </tr>\n",
       "    <tr>\n",
       "      <th>4</th>\n",
       "      <td>11553120</td>\n",
       "      <td>FRUIT SMOOTHIE, WITH WHOLE FRUIT AND DAIRY, AD...</td>\n",
       "      <td>1.585821e+06</td>\n",
       "      <td>0.225046</td>\n",
       "      <td>7.046667e+05</td>\n",
       "      <td>8</td>\n",
       "      <td>6</td>\n",
       "    </tr>\n",
       "  </tbody>\n",
       "</table>\n",
       "</div>"
      ],
      "text/plain": [
       "   food_code                                        description     total_ghg  \\\n",
       "0   64104010                                  APPLE JUICE, 100%  4.621987e+06   \n",
       "1   64100200                  CRANBERRY JUICE BLEND, 100% JUICE  1.838320e+06   \n",
       "2   11553110         FRUIT SMOOTHIE, WITH WHOLE FRUIT AND DAIRY  1.776120e+06   \n",
       "3   64100110                      FRUIT JUICE BLEND, 100% JUICE  1.609322e+06   \n",
       "4   11553120  FRUIT SMOOTHIE, WITH WHOLE FRUIT AND DAIRY, AD...  1.585821e+06   \n",
       "\n",
       "   mean_ghg100      total_kg  rank_total_ghg  rank_ghg100  \n",
       "0     0.150353  3.074098e+06               2           30  \n",
       "1     0.177228  1.037260e+06               4           24  \n",
       "2     0.143608  1.236782e+06               6           32  \n",
       "3     0.161357  9.973691e+05               7           25  \n",
       "4     0.225046  7.046667e+05               8            6  "
      ]
     },
     "execution_count": 4,
     "metadata": {},
     "output_type": "execute_result"
    }
   ],
   "source": [
    "bv.head()"
   ]
  },
  {
   "cell_type": "code",
   "execution_count": 5,
   "id": "ca6826f9",
   "metadata": {},
   "outputs": [],
   "source": [
    "app = xw.App()\n",
    "wb = xw.Book(\"/Users/clee/Dropbox/Aim 1/Writing/2015-16/FoodSubs.xlsx\")"
   ]
  },
  {
   "cell_type": "code",
   "execution_count": 6,
   "id": "44196328",
   "metadata": {},
   "outputs": [
    {
     "data": {
      "text/plain": [
       "<Sheet [foodsubs.xlsx]16. Overlap Snacks and Sweets>"
      ]
     },
     "execution_count": 6,
     "metadata": {},
     "output_type": "execute_result"
    }
   ],
   "source": [
    "#Create worksheets\n",
    "wb.sheets.add('12. Overlap Protein')\n",
    "wb.sheets.add('13. Overlap Mixed Dishes')\n",
    "wb.sheets.add('14. Overlap Milk and Dairy')\n",
    "wb.sheets.add('15. Overlap Beverages NA')\n",
    "wb.sheets.add('16. Overlap Snacks and Sweets')"
   ]
  },
  {
   "cell_type": "code",
   "execution_count": 7,
   "id": "6704a168",
   "metadata": {},
   "outputs": [],
   "source": [
    "ttpt = wb.sheets['12. Overlap Protein']\n",
    "ttmd = wb.sheets['13. Overlap Mixed Dishes']\n",
    "ttmk = wb.sheets['14. Overlap Milk and Dairy']\n",
    "ttbv = wb.sheets['15. Overlap Beverages NA']\n",
    "ttss = wb.sheets['16. Overlap Snacks and Sweets']"
   ]
  },
  {
   "cell_type": "markdown",
   "id": "e2e91508",
   "metadata": {},
   "source": [
    "## Protein"
   ]
  },
  {
   "cell_type": "code",
   "execution_count": 8,
   "id": "b7ce0993",
   "metadata": {},
   "outputs": [],
   "source": [
    "#Enter text into worksheet\n",
    "ttpt.range('A1:M3').font.bold = True\n",
    "ttpt.range('A1').value = \"Supplemental Table 12. Protein foods that were highest ranked on overall dietary GHGE impact and on consumed intensity of GHGE\"\n",
    "ttpt.range('A3').value = \"Rank\"\n",
    "ttpt.range('B3').value = \"Food code\"\n",
    "ttpt.range('C3').value = \"Food description\"\n",
    "ttpt.range('D3').value = \"Overall GHGE impact (kg CO2-eq)\"\n",
    "ttpt.range('E3').value = \"Intensity (kg CO2-eq/100g)\"\n",
    "ttpt.range('F3').value = \"Amount consumed (kg)\"\n",
    "ttpt.range('G3').value = \"Overall impact rank\"\n",
    "ttpt.range('H3').value = \"Intensity rank\""
   ]
  },
  {
   "cell_type": "code",
   "execution_count": 9,
   "id": "1028922e",
   "metadata": {},
   "outputs": [
    {
     "data": {
      "text/html": [
       "<div>\n",
       "<style scoped>\n",
       "    .dataframe tbody tr th:only-of-type {\n",
       "        vertical-align: middle;\n",
       "    }\n",
       "\n",
       "    .dataframe tbody tr th {\n",
       "        vertical-align: top;\n",
       "    }\n",
       "\n",
       "    .dataframe thead th {\n",
       "        text-align: right;\n",
       "    }\n",
       "</style>\n",
       "<table border=\"1\" class=\"dataframe\">\n",
       "  <thead>\n",
       "    <tr style=\"text-align: right;\">\n",
       "      <th></th>\n",
       "      <th>food_code</th>\n",
       "      <th>description</th>\n",
       "      <th>total_ghg</th>\n",
       "      <th>mean_ghg100</th>\n",
       "      <th>total_kg</th>\n",
       "      <th>rank_total_ghg</th>\n",
       "      <th>rank_ghg100</th>\n",
       "    </tr>\n",
       "  </thead>\n",
       "  <tbody>\n",
       "    <tr>\n",
       "      <th>0</th>\n",
       "      <td>21101130</td>\n",
       "      <td>BEEF STEAK, BROILED OR BAKED, LEAN ONLY EATEN</td>\n",
       "      <td>3.373401e+07</td>\n",
       "      <td>4.210774</td>\n",
       "      <td>801135.562500</td>\n",
       "      <td>1</td>\n",
       "      <td>29</td>\n",
       "    </tr>\n",
       "    <tr>\n",
       "      <th>1</th>\n",
       "      <td>21101120</td>\n",
       "      <td>BEEF STEAK, BROILED OR BAKED, LEAN AND FAT EATEN</td>\n",
       "      <td>2.164989e+07</td>\n",
       "      <td>4.210774</td>\n",
       "      <td>514154.625000</td>\n",
       "      <td>2</td>\n",
       "      <td>56</td>\n",
       "    </tr>\n",
       "    <tr>\n",
       "      <th>2</th>\n",
       "      <td>21500310</td>\n",
       "      <td>GROUND BEEF PATTY, COOKED</td>\n",
       "      <td>1.241210e+07</td>\n",
       "      <td>4.210395</td>\n",
       "      <td>294796.468750</td>\n",
       "      <td>3</td>\n",
       "      <td>59</td>\n",
       "    </tr>\n",
       "    <tr>\n",
       "      <th>3</th>\n",
       "      <td>21500100</td>\n",
       "      <td>GROUND BEEF, COOKED</td>\n",
       "      <td>1.071993e+07</td>\n",
       "      <td>4.210395</td>\n",
       "      <td>254606.234375</td>\n",
       "      <td>4</td>\n",
       "      <td>60</td>\n",
       "    </tr>\n",
       "    <tr>\n",
       "      <th>4</th>\n",
       "      <td>21102130</td>\n",
       "      <td>BEEF STEAK, FRIED, LEAN ONLY EATEN</td>\n",
       "      <td>1.048869e+07</td>\n",
       "      <td>4.098432</td>\n",
       "      <td>255919.546875</td>\n",
       "      <td>5</td>\n",
       "      <td>71</td>\n",
       "    </tr>\n",
       "  </tbody>\n",
       "</table>\n",
       "</div>"
      ],
      "text/plain": [
       "   food_code                                       description     total_ghg  \\\n",
       "0   21101130     BEEF STEAK, BROILED OR BAKED, LEAN ONLY EATEN  3.373401e+07   \n",
       "1   21101120  BEEF STEAK, BROILED OR BAKED, LEAN AND FAT EATEN  2.164989e+07   \n",
       "2   21500310                         GROUND BEEF PATTY, COOKED  1.241210e+07   \n",
       "3   21500100                               GROUND BEEF, COOKED  1.071993e+07   \n",
       "4   21102130                BEEF STEAK, FRIED, LEAN ONLY EATEN  1.048869e+07   \n",
       "\n",
       "   mean_ghg100       total_kg  rank_total_ghg  rank_ghg100  \n",
       "0     4.210774  801135.562500               1           29  \n",
       "1     4.210774  514154.625000               2           56  \n",
       "2     4.210395  294796.468750               3           59  \n",
       "3     4.210395  254606.234375               4           60  \n",
       "4     4.098432  255919.546875               5           71  "
      ]
     },
     "execution_count": 9,
     "metadata": {},
     "output_type": "execute_result"
    }
   ],
   "source": [
    "pt.head()"
   ]
  },
  {
   "cell_type": "code",
   "execution_count": 10,
   "id": "a360f6bc",
   "metadata": {},
   "outputs": [],
   "source": [
    "#Write on a specific cell range with a specific range of DF\n",
    "ttpt.range('B4').options(index=False,header=False).value = pt.iloc[0:100]"
   ]
  },
  {
   "cell_type": "markdown",
   "id": "52573081",
   "metadata": {},
   "source": [
    "## Mixed Dishes"
   ]
  },
  {
   "cell_type": "code",
   "execution_count": 11,
   "id": "462c43f0",
   "metadata": {},
   "outputs": [],
   "source": [
    "ttmd.range('A1:M3').font.bold = True\n",
    "ttmd.range('A1').value = \"Supplemental Table 13. Mixed dishes that were highest ranked on overall dietary GHGE impact and on consumed intensity of GHGE\"\n",
    "ttmd.range('A3').value = \"Rank\"\n",
    "ttmd.range('B3').value = \"Food code\"\n",
    "ttmd.range('C3').value = \"Food description\"\n",
    "ttmd.range('D3').value = \"Overall GHGE impact (kg CO2-eq)\"\n",
    "ttmd.range('E3').value = \"Intensity (kg CO2-eq/100g)\"\n",
    "ttmd.range('F3').value = \"Amount consumed (kg)\"\n",
    "ttmd.range('G3').value = \"Overall impact rank\"\n",
    "ttmd.range('H3').value = \"Intensity rank\""
   ]
  },
  {
   "cell_type": "code",
   "execution_count": 12,
   "id": "2d6baa57",
   "metadata": {},
   "outputs": [],
   "source": [
    "#Write on a specific cell range with a specific range of DF\n",
    "ttmd.range('B4').options(index=False,header=False).value = md.iloc[0:100]"
   ]
  },
  {
   "cell_type": "markdown",
   "id": "a6beeb63",
   "metadata": {},
   "source": [
    "## Milk"
   ]
  },
  {
   "cell_type": "code",
   "execution_count": 13,
   "id": "247ac4be",
   "metadata": {},
   "outputs": [],
   "source": [
    "ttmk.range('A1:M3').font.bold = True\n",
    "ttmk.range('A1').value = \"Supplemental Table 14. Milk and dairy foods foods that were highest ranked on overall dietary GHGE impact and on consumed intensity of GHGE\"\n",
    "ttmk.range('A3').value = \"Rank\"\n",
    "ttmk.range('B3').value = \"Food code\"\n",
    "ttmk.range('C3').value = \"Food description\"\n",
    "ttmk.range('D3').value = \"Overall GHGE impact (kg CO2-eq)\"\n",
    "ttmk.range('E3').value = \"Intensity (kg CO2-eq/100g)\"\n",
    "ttmk.range('F3').value = \"Amount consumed (kg)\"\n",
    "ttmk.range('G3').value = \"Overall impact rank\"\n",
    "ttmk.range('H3').value = \"Intensity rank\""
   ]
  },
  {
   "cell_type": "code",
   "execution_count": 14,
   "id": "e0f134ea",
   "metadata": {},
   "outputs": [],
   "source": [
    "#Write on a specific cell range with a specific range of DF\n",
    "ttmk.range('B4').options(index=False,header=False).value = mk.iloc[0:100]"
   ]
  },
  {
   "cell_type": "markdown",
   "id": "2dafad3b",
   "metadata": {},
   "source": [
    "## Beverages"
   ]
  },
  {
   "cell_type": "code",
   "execution_count": 15,
   "id": "67d88473",
   "metadata": {},
   "outputs": [],
   "source": [
    "ttbv.range('A1:M3').font.bold = True\n",
    "ttbv.range('A1').value = \"Supplemental Table 15. Non-alcoholic beverages that were highest ranked on overall dietary GHGE impact and on consumed intensity of GHGE\"\n",
    "ttbv.range('A3').value = \"Rank\"\n",
    "ttbv.range('B3').value = \"Food code\"\n",
    "ttbv.range('C3').value = \"Food description\"\n",
    "ttbv.range('D3').value = \"Overall GHGE impact (kg CO2-eq)\"\n",
    "ttbv.range('E3').value = \"Intensity (kg CO2-eq/100g)\"\n",
    "ttbv.range('F3').value = \"Amount consumed (kg)\"\n",
    "ttbv.range('G3').value = \"Overall impact rank\"\n",
    "ttbv.range('H3').value = \"Intensity rank\""
   ]
  },
  {
   "cell_type": "code",
   "execution_count": 16,
   "id": "7b2b4b2f",
   "metadata": {},
   "outputs": [],
   "source": [
    "#Write on a specific cell range with a specific range of DF\n",
    "ttbv.range('B4').options(index=False,header=False).value = bv.iloc[0:100]"
   ]
  },
  {
   "cell_type": "markdown",
   "id": "ea731860",
   "metadata": {},
   "source": [
    "## Snacks"
   ]
  },
  {
   "cell_type": "code",
   "execution_count": 17,
   "id": "b753cae7",
   "metadata": {},
   "outputs": [],
   "source": [
    "ttss.range('A1:M3').font.bold = True\n",
    "ttss.range('A1').value = \"Supplemental Table 16. Snacks and sweets that were highest ranked on overall dietary GHGE impact and on consumed intensity of GHGE\"\n",
    "ttss.range('A3').value = \"Rank\"\n",
    "ttss.range('B3').value = \"Food code\"\n",
    "ttss.range('C3').value = \"Food description\"\n",
    "ttss.range('D3').value = \"Overall GHGE impact (kg CO2-eq)\"\n",
    "ttss.range('E3').value = \"Intensity (kg CO2-eq/100g)\"\n",
    "ttss.range('F3').value = \"Amount consumed (kg)\"\n",
    "ttss.range('G3').value = \"Overall impact rank\"\n",
    "ttss.range('H3').value = \"Intensity rank\""
   ]
  },
  {
   "cell_type": "code",
   "execution_count": 18,
   "id": "f1f26e11",
   "metadata": {},
   "outputs": [],
   "source": [
    "#Write on a specific cell range with a specific range of DF\n",
    "ttss.range('B4').options(index=False,header=False).value = ss.iloc[0:100]"
   ]
  },
  {
   "cell_type": "markdown",
   "id": "3df7c13b",
   "metadata": {},
   "source": [
    "Add rank column based on the size of datasets"
   ]
  },
  {
   "cell_type": "code",
   "execution_count": 19,
   "id": "c6fde3bb",
   "metadata": {},
   "outputs": [
    {
     "name": "stdout",
     "output_type": "stream",
     "text": [
      "[1, 2, 3, 4, 5, 6, 7, 8, 9, 10, 11, 12, 13, 14, 15, 16, 17, 18, 19, 20, 21, 22, 23, 24, 25, 26, 27, 28, 29, 30, 31, 32, 33, 34, 35, 36, 37, 38, 39, 40, 41, 42, 43, 44, 45, 46, 47]\n"
     ]
    }
   ],
   "source": [
    "rkpt = list(range(1,len(pt)+1))\n",
    "print(rkpt)"
   ]
  },
  {
   "cell_type": "code",
   "execution_count": 20,
   "id": "846fd2f4",
   "metadata": {},
   "outputs": [
    {
     "name": "stdout",
     "output_type": "stream",
     "text": [
      "[1, 2, 3, 4, 5, 6, 7, 8, 9, 10, 11, 12, 13, 14, 15, 16, 17, 18, 19, 20, 21, 22, 23, 24, 25, 26]\n"
     ]
    }
   ],
   "source": [
    "rkmd = list(range(1,len(md)+1))\n",
    "print(rkmd)"
   ]
  },
  {
   "cell_type": "code",
   "execution_count": 21,
   "id": "9ab4f14e",
   "metadata": {},
   "outputs": [
    {
     "name": "stdout",
     "output_type": "stream",
     "text": [
      "[1, 2, 3, 4, 5, 6, 7, 8, 9, 10, 11, 12, 13, 14, 15, 16, 17, 18, 19, 20, 21, 22, 23, 24, 25, 26, 27, 28, 29, 30, 31, 32, 33, 34, 35, 36, 37, 38, 39, 40, 41, 42, 43, 44, 45, 46, 47, 48, 49, 50, 51, 52, 53, 54, 55, 56, 57, 58, 59, 60]\n"
     ]
    }
   ],
   "source": [
    "rkmk = list(range(1,len(mk)+1))\n",
    "print(rkmk)"
   ]
  },
  {
   "cell_type": "code",
   "execution_count": 22,
   "id": "66c13b9c",
   "metadata": {},
   "outputs": [
    {
     "name": "stdout",
     "output_type": "stream",
     "text": [
      "[1, 2, 3, 4, 5, 6, 7, 8, 9, 10, 11, 12, 13, 14, 15, 16, 17, 18, 19, 20, 21, 22, 23, 24, 25, 26, 27, 28, 29, 30, 31, 32, 33, 34, 35, 36, 37, 38, 39, 40, 41, 42, 43, 44, 45, 46, 47, 48, 49, 50, 51, 52, 53, 54, 55]\n"
     ]
    }
   ],
   "source": [
    "rkbv = list(range(1,len(bv)+1))\n",
    "print(rkbv)"
   ]
  },
  {
   "cell_type": "code",
   "execution_count": 23,
   "id": "b339fb54",
   "metadata": {},
   "outputs": [
    {
     "name": "stdout",
     "output_type": "stream",
     "text": [
      "[1, 2, 3, 4, 5, 6, 7, 8, 9, 10, 11, 12, 13, 14, 15, 16, 17, 18, 19, 20, 21, 22, 23, 24, 25, 26, 27]\n"
     ]
    }
   ],
   "source": [
    "rkss = list(range(1,len(ss)+1))\n",
    "print(rkss)"
   ]
  },
  {
   "cell_type": "code",
   "execution_count": 24,
   "id": "bd877eaf",
   "metadata": {},
   "outputs": [],
   "source": [
    "#Write list 1-100 on 1st column (need to transpose)\n",
    "ttpt.range('A4').options(index=False,header=False,transpose=True).value = rkpt\n",
    "ttmd.range('A4').options(index=False,header=False,transpose=True).value = rkmd\n",
    "ttmk.range('A4').options(index=False,header=False,transpose=True).value = rkmk\n",
    "ttbv.range('A4').options(index=False,header=False,transpose=True).value = rkbv\n",
    "ttss.range('A4').options(index=False,header=False,transpose=True).value = rkss"
   ]
  },
  {
   "cell_type": "code",
   "execution_count": 26,
   "id": "db73f846",
   "metadata": {},
   "outputs": [
    {
     "ename": "CommandError",
     "evalue": "Command failed:\n\t\tOSERROR: -1728\n\t\tMESSAGE: The object you are trying to access does not exist\n\t\tCOMMAND: app(pid=69813).workbooks['foodsubs.xlsx'].properties.get()",
     "output_type": "error",
     "traceback": [
      "\u001b[0;31m---------------------------------------------------------------------------\u001b[0m",
      "\u001b[0;31mEventError\u001b[0m                                Traceback (most recent call last)",
      "\u001b[0;32m~/opt/anaconda3/lib/python3.9/site-packages/aeosa/appscript/reference.py\u001b[0m in \u001b[0;36m__call__\u001b[0;34m(self, *args, **kargs)\u001b[0m\n\u001b[1;32m    481\u001b[0m                 \u001b[0;32mtry\u001b[0m\u001b[0;34m:\u001b[0m\u001b[0;34m\u001b[0m\u001b[0;34m\u001b[0m\u001b[0m\n\u001b[0;32m--> 482\u001b[0;31m                         \u001b[0;32mreturn\u001b[0m \u001b[0mself\u001b[0m\u001b[0;34m.\u001b[0m\u001b[0mAS_appdata\u001b[0m\u001b[0;34m.\u001b[0m\u001b[0mtarget\u001b[0m\u001b[0;34m(\u001b[0m\u001b[0;34m)\u001b[0m\u001b[0;34m.\u001b[0m\u001b[0mevent\u001b[0m\u001b[0;34m(\u001b[0m\u001b[0mself\u001b[0m\u001b[0;34m.\u001b[0m\u001b[0m_code\u001b[0m\u001b[0;34m,\u001b[0m \u001b[0mparams\u001b[0m\u001b[0;34m,\u001b[0m \u001b[0matts\u001b[0m\u001b[0;34m,\u001b[0m \u001b[0mcodecs\u001b[0m\u001b[0;34m=\u001b[0m\u001b[0mself\u001b[0m\u001b[0;34m.\u001b[0m\u001b[0mAS_appdata\u001b[0m\u001b[0;34m)\u001b[0m\u001b[0;34m.\u001b[0m\u001b[0msend\u001b[0m\u001b[0;34m(\u001b[0m\u001b[0mtimeout\u001b[0m\u001b[0;34m,\u001b[0m \u001b[0msendflags\u001b[0m\u001b[0;34m)\u001b[0m\u001b[0;34m\u001b[0m\u001b[0;34m\u001b[0m\u001b[0m\n\u001b[0m\u001b[1;32m    483\u001b[0m                 \u001b[0;32mexcept\u001b[0m \u001b[0maem\u001b[0m\u001b[0;34m.\u001b[0m\u001b[0mEventError\u001b[0m \u001b[0;32mas\u001b[0m \u001b[0me\u001b[0m\u001b[0;34m:\u001b[0m\u001b[0;34m\u001b[0m\u001b[0;34m\u001b[0m\u001b[0m\n",
      "\u001b[0;32m~/opt/anaconda3/lib/python3.9/site-packages/aeosa/aem/aemsend.py\u001b[0m in \u001b[0;36msend\u001b[0;34m(self, timeout, flags)\u001b[0m\n\u001b[1;32m     91\u001b[0m                                                         \u001b[0merrormsg\u001b[0m \u001b[0;34m=\u001b[0m \u001b[0m_defaultcodecs\u001b[0m\u001b[0;34m.\u001b[0m\u001b[0munpack\u001b[0m\u001b[0;34m(\u001b[0m\u001b[0merrormsg\u001b[0m\u001b[0;34m)\u001b[0m\u001b[0;34m\u001b[0m\u001b[0;34m\u001b[0m\u001b[0m\n\u001b[0;32m---> 92\u001b[0;31m                                                 \u001b[0;32mraise\u001b[0m \u001b[0mEventError\u001b[0m\u001b[0;34m(\u001b[0m\u001b[0merrornum\u001b[0m\u001b[0;34m,\u001b[0m \u001b[0merrormsg\u001b[0m\u001b[0;34m,\u001b[0m \u001b[0meventresult\u001b[0m\u001b[0;34m)\u001b[0m\u001b[0;34m\u001b[0m\u001b[0;34m\u001b[0m\u001b[0m\n\u001b[0m\u001b[1;32m     93\u001b[0m                                 \u001b[0;32mif\u001b[0m \u001b[0mkae\u001b[0m\u001b[0;34m.\u001b[0m\u001b[0mkeyAEResult\u001b[0m \u001b[0;32min\u001b[0m \u001b[0meventresult\u001b[0m\u001b[0;34m:\u001b[0m \u001b[0;31m# application has returned a value\u001b[0m\u001b[0;34m\u001b[0m\u001b[0;34m\u001b[0m\u001b[0m\n",
      "\u001b[0;31mEventError\u001b[0m: Command failed: The object you are trying to access does not exist (-1728)",
      "\nThe above exception was the direct cause of the following exception:\n",
      "\u001b[0;31mCommandError\u001b[0m                              Traceback (most recent call last)",
      "\u001b[0;32m/var/folders/ln/p1fwnsbs6m14_kt7cnl39v6r0000gn/T/ipykernel_73193/3639205383.py\u001b[0m in \u001b[0;36m<module>\u001b[0;34m\u001b[0m\n\u001b[0;32m----> 1\u001b[0;31m \u001b[0mwb\u001b[0m\u001b[0;34m.\u001b[0m\u001b[0msave\u001b[0m\u001b[0;34m(\u001b[0m\u001b[0;34m)\u001b[0m\u001b[0;34m\u001b[0m\u001b[0;34m\u001b[0m\u001b[0m\n\u001b[0m",
      "\u001b[0;32m~/opt/anaconda3/lib/python3.9/site-packages/xlwings/main.py\u001b[0m in \u001b[0;36msave\u001b[0;34m(self, path)\u001b[0m\n\u001b[1;32m    872\u001b[0m             \u001b[0mpath\u001b[0m \u001b[0;34m=\u001b[0m \u001b[0mutils\u001b[0m\u001b[0;34m.\u001b[0m\u001b[0mfspath\u001b[0m\u001b[0;34m(\u001b[0m\u001b[0mpath\u001b[0m\u001b[0;34m)\u001b[0m\u001b[0;34m\u001b[0m\u001b[0;34m\u001b[0m\u001b[0m\n\u001b[1;32m    873\u001b[0m         \u001b[0;32mwith\u001b[0m \u001b[0mself\u001b[0m\u001b[0;34m.\u001b[0m\u001b[0mapp\u001b[0m\u001b[0;34m.\u001b[0m\u001b[0mproperties\u001b[0m\u001b[0;34m(\u001b[0m\u001b[0mdisplay_alerts\u001b[0m\u001b[0;34m=\u001b[0m\u001b[0;32mFalse\u001b[0m\u001b[0;34m)\u001b[0m\u001b[0;34m:\u001b[0m\u001b[0;34m\u001b[0m\u001b[0;34m\u001b[0m\u001b[0m\n\u001b[0;32m--> 874\u001b[0;31m             \u001b[0mself\u001b[0m\u001b[0;34m.\u001b[0m\u001b[0mimpl\u001b[0m\u001b[0;34m.\u001b[0m\u001b[0msave\u001b[0m\u001b[0;34m(\u001b[0m\u001b[0mpath\u001b[0m\u001b[0;34m)\u001b[0m\u001b[0;34m\u001b[0m\u001b[0;34m\u001b[0m\u001b[0m\n\u001b[0m\u001b[1;32m    875\u001b[0m \u001b[0;34m\u001b[0m\u001b[0m\n\u001b[1;32m    876\u001b[0m     \u001b[0;34m@\u001b[0m\u001b[0mproperty\u001b[0m\u001b[0;34m\u001b[0m\u001b[0;34m\u001b[0m\u001b[0m\n",
      "\u001b[0;32m~/opt/anaconda3/lib/python3.9/site-packages/xlwings/_xlmac.py\u001b[0m in \u001b[0;36msave\u001b[0;34m(self, path)\u001b[0m\n\u001b[1;32m    293\u001b[0m \u001b[0;34m\u001b[0m\u001b[0m\n\u001b[1;32m    294\u001b[0m     \u001b[0;32mdef\u001b[0m \u001b[0msave\u001b[0m\u001b[0;34m(\u001b[0m\u001b[0mself\u001b[0m\u001b[0;34m,\u001b[0m \u001b[0mpath\u001b[0m\u001b[0;34m)\u001b[0m\u001b[0;34m:\u001b[0m\u001b[0;34m\u001b[0m\u001b[0;34m\u001b[0m\u001b[0m\n\u001b[0;32m--> 295\u001b[0;31m         \u001b[0msaved_path\u001b[0m \u001b[0;34m=\u001b[0m \u001b[0mself\u001b[0m\u001b[0;34m.\u001b[0m\u001b[0mxl\u001b[0m\u001b[0;34m.\u001b[0m\u001b[0mproperties\u001b[0m\u001b[0;34m(\u001b[0m\u001b[0;34m)\u001b[0m\u001b[0;34m.\u001b[0m\u001b[0mget\u001b[0m\u001b[0;34m(\u001b[0m\u001b[0mkw\u001b[0m\u001b[0;34m.\u001b[0m\u001b[0mpath\u001b[0m\u001b[0;34m)\u001b[0m\u001b[0;34m\u001b[0m\u001b[0;34m\u001b[0m\u001b[0m\n\u001b[0m\u001b[1;32m    296\u001b[0m         \u001b[0msource_ext\u001b[0m \u001b[0;34m=\u001b[0m \u001b[0mos\u001b[0m\u001b[0;34m.\u001b[0m\u001b[0mpath\u001b[0m\u001b[0;34m.\u001b[0m\u001b[0msplitext\u001b[0m\u001b[0;34m(\u001b[0m\u001b[0mself\u001b[0m\u001b[0;34m.\u001b[0m\u001b[0mname\u001b[0m\u001b[0;34m)\u001b[0m\u001b[0;34m[\u001b[0m\u001b[0;36m1\u001b[0m\u001b[0;34m]\u001b[0m \u001b[0;32mif\u001b[0m \u001b[0msaved_path\u001b[0m \u001b[0;32melse\u001b[0m \u001b[0;32mNone\u001b[0m\u001b[0;34m\u001b[0m\u001b[0;34m\u001b[0m\u001b[0m\n\u001b[1;32m    297\u001b[0m         \u001b[0mtarget_ext\u001b[0m \u001b[0;34m=\u001b[0m \u001b[0mos\u001b[0m\u001b[0;34m.\u001b[0m\u001b[0mpath\u001b[0m\u001b[0;34m.\u001b[0m\u001b[0msplitext\u001b[0m\u001b[0;34m(\u001b[0m\u001b[0mpath\u001b[0m\u001b[0;34m)\u001b[0m\u001b[0;34m[\u001b[0m\u001b[0;36m1\u001b[0m\u001b[0;34m]\u001b[0m \u001b[0;32mif\u001b[0m \u001b[0mpath\u001b[0m \u001b[0;32melse\u001b[0m \u001b[0;34m'.xlsx'\u001b[0m\u001b[0;34m\u001b[0m\u001b[0;34m\u001b[0m\u001b[0m\n",
      "\u001b[0;32m~/opt/anaconda3/lib/python3.9/site-packages/aeosa/appscript/reference.py\u001b[0m in \u001b[0;36m__call__\u001b[0;34m(self, *args, **kargs)\u001b[0m\n\u001b[1;32m    662\u001b[0m \u001b[0;34m\u001b[0m\u001b[0m\n\u001b[1;32m    663\u001b[0m         \u001b[0;32mdef\u001b[0m \u001b[0m__call__\u001b[0m\u001b[0;34m(\u001b[0m\u001b[0mself\u001b[0m\u001b[0;34m,\u001b[0m \u001b[0;34m*\u001b[0m\u001b[0margs\u001b[0m\u001b[0;34m,\u001b[0m \u001b[0;34m**\u001b[0m\u001b[0mkargs\u001b[0m\u001b[0;34m)\u001b[0m\u001b[0;34m:\u001b[0m\u001b[0;34m\u001b[0m\u001b[0;34m\u001b[0m\u001b[0m\n\u001b[0;32m--> 664\u001b[0;31m                 \u001b[0;32mreturn\u001b[0m \u001b[0mself\u001b[0m\u001b[0;34m.\u001b[0m\u001b[0mget\u001b[0m\u001b[0;34m(\u001b[0m\u001b[0;34m*\u001b[0m\u001b[0margs\u001b[0m\u001b[0;34m,\u001b[0m \u001b[0;34m**\u001b[0m\u001b[0mkargs\u001b[0m\u001b[0;34m)\u001b[0m\u001b[0;34m\u001b[0m\u001b[0;34m\u001b[0m\u001b[0m\n\u001b[0m\u001b[1;32m    665\u001b[0m \u001b[0;34m\u001b[0m\u001b[0m\n\u001b[1;32m    666\u001b[0m         \u001b[0;31m# Following methods will be called by its-based generic references when resolving themselves into real references; end-users and other clients shouldn't call them directly.\u001b[0m\u001b[0;34m\u001b[0m\u001b[0;34m\u001b[0m\u001b[0m\n",
      "\u001b[0;32m~/opt/anaconda3/lib/python3.9/site-packages/aeosa/appscript/reference.py\u001b[0m in \u001b[0;36m__call__\u001b[0;34m(self, *args, **kargs)\u001b[0m\n\u001b[1;32m    516\u001b[0m                                                 \u001b[0;32mreturn\u001b[0m\u001b[0;34m\u001b[0m\u001b[0;34m\u001b[0m\u001b[0m\n\u001b[1;32m    517\u001b[0m                                         \u001b[0;32mraise\u001b[0m \u001b[0mCommandError\u001b[0m\u001b[0;34m(\u001b[0m\u001b[0mself\u001b[0m\u001b[0;34m,\u001b[0m \u001b[0;34m(\u001b[0m\u001b[0margs\u001b[0m\u001b[0;34m,\u001b[0m \u001b[0mkargs\u001b[0m\u001b[0;34m)\u001b[0m\u001b[0;34m,\u001b[0m \u001b[0me\u001b[0m\u001b[0;34m,\u001b[0m \u001b[0mself\u001b[0m\u001b[0;34m.\u001b[0m\u001b[0mAS_appdata\u001b[0m\u001b[0;34m)\u001b[0m \u001b[0;32mfrom\u001b[0m \u001b[0me\u001b[0m\u001b[0;34m\u001b[0m\u001b[0;34m\u001b[0m\u001b[0m\n\u001b[0;32m--> 518\u001b[0;31m                         \u001b[0;32mraise\u001b[0m \u001b[0mCommandError\u001b[0m\u001b[0;34m(\u001b[0m\u001b[0mself\u001b[0m\u001b[0;34m,\u001b[0m \u001b[0;34m(\u001b[0m\u001b[0margs\u001b[0m\u001b[0;34m,\u001b[0m \u001b[0mkargs\u001b[0m\u001b[0;34m)\u001b[0m\u001b[0;34m,\u001b[0m \u001b[0me\u001b[0m\u001b[0;34m,\u001b[0m \u001b[0mself\u001b[0m\u001b[0;34m.\u001b[0m\u001b[0mAS_appdata\u001b[0m\u001b[0;34m)\u001b[0m \u001b[0;32mfrom\u001b[0m \u001b[0me\u001b[0m\u001b[0;34m\u001b[0m\u001b[0;34m\u001b[0m\u001b[0m\n\u001b[0m\u001b[1;32m    519\u001b[0m \u001b[0;34m\u001b[0m\u001b[0m\n\u001b[1;32m    520\u001b[0m         \u001b[0;32mdef\u001b[0m \u001b[0mAS_formatcommand\u001b[0m\u001b[0;34m(\u001b[0m\u001b[0mself\u001b[0m\u001b[0;34m,\u001b[0m \u001b[0margs\u001b[0m\u001b[0;34m)\u001b[0m\u001b[0;34m:\u001b[0m\u001b[0;34m\u001b[0m\u001b[0;34m\u001b[0m\u001b[0m\n",
      "\u001b[0;31mCommandError\u001b[0m: Command failed:\n\t\tOSERROR: -1728\n\t\tMESSAGE: The object you are trying to access does not exist\n\t\tCOMMAND: app(pid=69813).workbooks['foodsubs.xlsx'].properties.get()"
     ]
    }
   ],
   "source": [
    "wb.save()"
   ]
  },
  {
   "cell_type": "code",
   "execution_count": null,
   "id": "0b305bc1",
   "metadata": {},
   "outputs": [],
   "source": []
  }
 ],
 "metadata": {
  "kernelspec": {
   "display_name": "Python 3 (ipykernel)",
   "language": "python",
   "name": "python3"
  },
  "language_info": {
   "codemirror_mode": {
    "name": "ipython",
    "version": 3
   },
   "file_extension": ".py",
   "mimetype": "text/x-python",
   "name": "python",
   "nbconvert_exporter": "python",
   "pygments_lexer": "ipython3",
   "version": "3.9.7"
  }
 },
 "nbformat": 4,
 "nbformat_minor": 5
}
